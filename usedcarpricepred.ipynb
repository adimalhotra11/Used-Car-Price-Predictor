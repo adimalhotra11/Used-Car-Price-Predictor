{
 "cells": [
  {
   "cell_type": "code",
   "execution_count": 1,
   "id": "introductory-andrew",
   "metadata": {
    "_cell_guid": "b1076dfc-b9ad-4769-8c92-a6c4dae69d19",
    "_uuid": "8f2839f25d086af736a60e9eeb907d3b93b6e0e5",
    "execution": {
     "iopub.execute_input": "2021-07-08T10:00:16.298547Z",
     "iopub.status.busy": "2021-07-08T10:00:16.297201Z",
     "iopub.status.idle": "2021-07-08T10:00:16.312327Z",
     "shell.execute_reply": "2021-07-08T10:00:16.311787Z",
     "shell.execute_reply.started": "2021-07-08T09:39:16.014956Z"
    },
    "papermill": {
     "duration": 0.149312,
     "end_time": "2021-07-08T10:00:16.312502",
     "exception": false,
     "start_time": "2021-07-08T10:00:16.163190",
     "status": "completed"
    },
    "tags": []
   },
   "outputs": [
    {
     "name": "stdout",
     "output_type": "stream",
     "text": [
      "/kaggle/input/used-cars-price-prediction/test-data.csv\n",
      "/kaggle/input/used-cars-price-prediction/train-data.csv\n"
     ]
    }
   ],
   "source": [
    "# This Python 3 environment comes with many helpful analytics libraries installed\n",
    "# It is defined by the kaggle/python Docker image: https://github.com/kaggle/docker-python\n",
    "# For example, here's several helpful packages to load\n",
    "\n",
    "import numpy as np # linear algebra\n",
    "import pandas as pd # data processing, CSV file I/O (e.g. pd.read_csv)\n",
    "\n",
    "# Input data files are available in the read-only \"../input/\" directory\n",
    "# For example, running this (by clicking run or pressing Shift+Enter) will list all files under the input directory\n",
    "\n",
    "import os\n",
    "for dirname, _, filenames in os.walk('/kaggle/input'):\n",
    "    for filename in filenames:\n",
    "        print(os.path.join(dirname, filename))\n",
    "\n",
    "# You can write up to 20GB to the current directory (/kaggle/working/) that gets preserved as output when you create a version using \"Save & Run All\" \n",
    "# You can also write temporary files to /kaggle/temp/, but they won't be saved outside of the current session"
   ]
  },
  {
   "cell_type": "code",
   "execution_count": 2,
   "id": "correct-salad",
   "metadata": {
    "execution": {
     "iopub.execute_input": "2021-07-08T10:00:16.493068Z",
     "iopub.status.busy": "2021-07-08T10:00:16.492282Z",
     "iopub.status.idle": "2021-07-08T10:00:17.214938Z",
     "shell.execute_reply": "2021-07-08T10:00:17.214369Z",
     "shell.execute_reply.started": "2021-07-08T09:39:16.037547Z"
    },
    "papermill": {
     "duration": 0.816642,
     "end_time": "2021-07-08T10:00:17.215090",
     "exception": false,
     "start_time": "2021-07-08T10:00:16.398448",
     "status": "completed"
    },
    "tags": []
   },
   "outputs": [],
   "source": [
    "import matplotlib.pyplot as plt\n",
    "import seaborn as sns\n",
    "%matplotlib inline "
   ]
  },
  {
   "cell_type": "code",
   "execution_count": 3,
   "id": "surprising-helicopter",
   "metadata": {
    "execution": {
     "iopub.execute_input": "2021-07-08T10:00:17.388405Z",
     "iopub.status.busy": "2021-07-08T10:00:17.387596Z",
     "iopub.status.idle": "2021-07-08T10:00:17.390368Z",
     "shell.execute_reply": "2021-07-08T10:00:17.389918Z",
     "shell.execute_reply.started": "2021-07-08T09:39:17.037945Z"
    },
    "papermill": {
     "duration": 0.090083,
     "end_time": "2021-07-08T10:00:17.390484",
     "exception": false,
     "start_time": "2021-07-08T10:00:17.300401",
     "status": "completed"
    },
    "tags": []
   },
   "outputs": [],
   "source": [
    "import warnings \n",
    "warnings.filterwarnings('ignore')\n",
    "pd.set_option('display.max_columns', None)\n",
    "plt.style.use(style='ggplot')"
   ]
  },
  {
   "cell_type": "code",
   "execution_count": 4,
   "id": "associate-integration",
   "metadata": {
    "execution": {
     "iopub.execute_input": "2021-07-08T10:00:17.550654Z",
     "iopub.status.busy": "2021-07-08T10:00:17.549880Z",
     "iopub.status.idle": "2021-07-08T10:00:17.937061Z",
     "shell.execute_reply": "2021-07-08T10:00:17.938733Z",
     "shell.execute_reply.started": "2021-07-08T09:39:17.057172Z"
    },
    "papermill": {
     "duration": 0.470794,
     "end_time": "2021-07-08T10:00:17.938997",
     "exception": false,
     "start_time": "2021-07-08T10:00:17.468203",
     "status": "completed"
    },
    "tags": []
   },
   "outputs": [],
   "source": [
    "from sklearn.preprocessing import StandardScaler, LabelEncoder\n",
    "from sklearn.model_selection import train_test_split, GridSearchCV\n",
    "from sklearn.metrics import accuracy_score, mean_squared_error\n",
    "from sklearn.linear_model import LinearRegression\n",
    "from sklearn.tree import DecisionTreeRegressor\n",
    "from sklearn.ensemble import RandomForestRegressor"
   ]
  },
  {
   "cell_type": "code",
   "execution_count": 5,
   "id": "bizarre-battlefield",
   "metadata": {
    "execution": {
     "iopub.execute_input": "2021-07-08T10:00:18.241298Z",
     "iopub.status.busy": "2021-07-08T10:00:18.240449Z",
     "iopub.status.idle": "2021-07-08T10:00:19.599812Z",
     "shell.execute_reply": "2021-07-08T10:00:19.599360Z",
     "shell.execute_reply.started": "2021-07-08T09:39:17.421718Z"
    },
    "papermill": {
     "duration": 1.503178,
     "end_time": "2021-07-08T10:00:19.599972",
     "exception": false,
     "start_time": "2021-07-08T10:00:18.096794",
     "status": "completed"
    },
    "tags": []
   },
   "outputs": [],
   "source": [
    "import xgboost as xgb\n",
    "import torch \n",
    "import torch.nn as nn"
   ]
  },
  {
   "cell_type": "code",
   "execution_count": 6,
   "id": "insured-nitrogen",
   "metadata": {
    "execution": {
     "iopub.execute_input": "2021-07-08T10:00:19.778246Z",
     "iopub.status.busy": "2021-07-08T10:00:19.776646Z",
     "iopub.status.idle": "2021-07-08T10:00:19.778949Z",
     "shell.execute_reply": "2021-07-08T10:00:19.779349Z",
     "shell.execute_reply.started": "2021-07-08T09:39:18.818053Z"
    },
    "papermill": {
     "duration": 0.095019,
     "end_time": "2021-07-08T10:00:19.779483",
     "exception": false,
     "start_time": "2021-07-08T10:00:19.684464",
     "status": "completed"
    },
    "tags": []
   },
   "outputs": [],
   "source": [
    "%config Completer.use_jedi = False"
   ]
  },
  {
   "cell_type": "code",
   "execution_count": 7,
   "id": "vertical-haiti",
   "metadata": {
    "execution": {
     "iopub.execute_input": "2021-07-08T10:00:19.943684Z",
     "iopub.status.busy": "2021-07-08T10:00:19.943102Z",
     "iopub.status.idle": "2021-07-08T10:00:19.989002Z",
     "shell.execute_reply": "2021-07-08T10:00:19.988432Z",
     "shell.execute_reply.started": "2021-07-08T09:39:18.833731Z"
    },
    "papermill": {
     "duration": 0.131878,
     "end_time": "2021-07-08T10:00:19.989160",
     "exception": false,
     "start_time": "2021-07-08T10:00:19.857282",
     "status": "completed"
    },
    "tags": []
   },
   "outputs": [],
   "source": [
    "train_data = pd.read_csv('../input/used-cars-price-prediction/train-data.csv')\n",
    "test_data = pd.read_csv('../input/used-cars-price-prediction/test-data.csv')\n"
   ]
  },
  {
   "cell_type": "code",
   "execution_count": 8,
   "id": "honest-driver",
   "metadata": {
    "execution": {
     "iopub.execute_input": "2021-07-08T10:00:20.181257Z",
     "iopub.status.busy": "2021-07-08T10:00:20.180330Z",
     "iopub.status.idle": "2021-07-08T10:00:20.199238Z",
     "shell.execute_reply": "2021-07-08T10:00:20.200030Z",
     "shell.execute_reply.started": "2021-07-08T09:39:18.892116Z"
    },
    "papermill": {
     "duration": 0.122214,
     "end_time": "2021-07-08T10:00:20.200274",
     "exception": false,
     "start_time": "2021-07-08T10:00:20.078060",
     "status": "completed"
    },
    "tags": []
   },
   "outputs": [
    {
     "name": "stdout",
     "output_type": "stream",
     "text": [
      "<class 'pandas.core.frame.DataFrame'>\n",
      "RangeIndex: 6019 entries, 0 to 6018\n",
      "Data columns (total 14 columns):\n",
      " #   Column             Non-Null Count  Dtype  \n",
      "---  ------             --------------  -----  \n",
      " 0   Unnamed: 0         6019 non-null   int64  \n",
      " 1   Name               6019 non-null   object \n",
      " 2   Location           6019 non-null   object \n",
      " 3   Year               6019 non-null   int64  \n",
      " 4   Kilometers_Driven  6019 non-null   int64  \n",
      " 5   Fuel_Type          6019 non-null   object \n",
      " 6   Transmission       6019 non-null   object \n",
      " 7   Owner_Type         6019 non-null   object \n",
      " 8   Mileage            6017 non-null   object \n",
      " 9   Engine             5983 non-null   object \n",
      " 10  Power              5983 non-null   object \n",
      " 11  Seats              5977 non-null   float64\n",
      " 12  New_Price          824 non-null    object \n",
      " 13  Price              6019 non-null   float64\n",
      "dtypes: float64(2), int64(3), object(9)\n",
      "memory usage: 658.5+ KB\n"
     ]
    }
   ],
   "source": [
    "train_data.info()"
   ]
  },
  {
   "cell_type": "code",
   "execution_count": 9,
   "id": "veterinary-stock",
   "metadata": {
    "execution": {
     "iopub.execute_input": "2021-07-08T10:00:20.387926Z",
     "iopub.status.busy": "2021-07-08T10:00:20.387050Z",
     "iopub.status.idle": "2021-07-08T10:00:20.397265Z",
     "shell.execute_reply": "2021-07-08T10:00:20.396623Z",
     "shell.execute_reply.started": "2021-07-08T09:39:18.922787Z"
    },
    "papermill": {
     "duration": 0.101988,
     "end_time": "2021-07-08T10:00:20.397436",
     "exception": false,
     "start_time": "2021-07-08T10:00:20.295448",
     "status": "completed"
    },
    "tags": []
   },
   "outputs": [
    {
     "name": "stdout",
     "output_type": "stream",
     "text": [
      "<class 'pandas.core.frame.DataFrame'>\n",
      "RangeIndex: 1234 entries, 0 to 1233\n",
      "Data columns (total 13 columns):\n",
      " #   Column             Non-Null Count  Dtype  \n",
      "---  ------             --------------  -----  \n",
      " 0   Unnamed: 0         1234 non-null   int64  \n",
      " 1   Name               1234 non-null   object \n",
      " 2   Location           1234 non-null   object \n",
      " 3   Year               1234 non-null   int64  \n",
      " 4   Kilometers_Driven  1234 non-null   int64  \n",
      " 5   Fuel_Type          1234 non-null   object \n",
      " 6   Transmission       1234 non-null   object \n",
      " 7   Owner_Type         1234 non-null   object \n",
      " 8   Mileage            1234 non-null   object \n",
      " 9   Engine             1224 non-null   object \n",
      " 10  Power              1224 non-null   object \n",
      " 11  Seats              1223 non-null   float64\n",
      " 12  New_Price          182 non-null    object \n",
      "dtypes: float64(1), int64(3), object(9)\n",
      "memory usage: 125.5+ KB\n"
     ]
    }
   ],
   "source": [
    "test_data.info()"
   ]
  },
  {
   "cell_type": "code",
   "execution_count": 10,
   "id": "former-wesley",
   "metadata": {
    "execution": {
     "iopub.execute_input": "2021-07-08T10:00:20.571934Z",
     "iopub.status.busy": "2021-07-08T10:00:20.571085Z",
     "iopub.status.idle": "2021-07-08T10:00:20.582173Z",
     "shell.execute_reply": "2021-07-08T10:00:20.582684Z",
     "shell.execute_reply.started": "2021-07-08T09:39:18.938455Z"
    },
    "papermill": {
     "duration": 0.100992,
     "end_time": "2021-07-08T10:00:20.582886",
     "exception": false,
     "start_time": "2021-07-08T10:00:20.481894",
     "status": "completed"
    },
    "tags": []
   },
   "outputs": [
    {
     "data": {
      "text/html": [
       "<div>\n",
       "<style scoped>\n",
       "    .dataframe tbody tr th:only-of-type {\n",
       "        vertical-align: middle;\n",
       "    }\n",
       "\n",
       "    .dataframe tbody tr th {\n",
       "        vertical-align: top;\n",
       "    }\n",
       "\n",
       "    .dataframe thead th {\n",
       "        text-align: right;\n",
       "    }\n",
       "</style>\n",
       "<table border=\"1\" class=\"dataframe\">\n",
       "  <thead>\n",
       "    <tr style=\"text-align: right;\">\n",
       "      <th></th>\n",
       "      <th>Unnamed: 0</th>\n",
       "      <th>Name</th>\n",
       "      <th>Location</th>\n",
       "      <th>Year</th>\n",
       "      <th>Kilometers_Driven</th>\n",
       "      <th>Fuel_Type</th>\n",
       "      <th>Transmission</th>\n",
       "      <th>Owner_Type</th>\n",
       "      <th>Mileage</th>\n",
       "      <th>Engine</th>\n",
       "      <th>Power</th>\n",
       "      <th>Seats</th>\n",
       "      <th>New_Price</th>\n",
       "    </tr>\n",
       "  </thead>\n",
       "  <tbody>\n",
       "    <tr>\n",
       "      <th>0</th>\n",
       "      <td>0</td>\n",
       "      <td>Maruti Alto K10 LXI CNG</td>\n",
       "      <td>Delhi</td>\n",
       "      <td>2014</td>\n",
       "      <td>40929</td>\n",
       "      <td>CNG</td>\n",
       "      <td>Manual</td>\n",
       "      <td>First</td>\n",
       "      <td>32.26 km/kg</td>\n",
       "      <td>998 CC</td>\n",
       "      <td>58.2 bhp</td>\n",
       "      <td>4.0</td>\n",
       "      <td>NaN</td>\n",
       "    </tr>\n",
       "    <tr>\n",
       "      <th>1</th>\n",
       "      <td>1</td>\n",
       "      <td>Maruti Alto 800 2016-2019 LXI</td>\n",
       "      <td>Coimbatore</td>\n",
       "      <td>2013</td>\n",
       "      <td>54493</td>\n",
       "      <td>Petrol</td>\n",
       "      <td>Manual</td>\n",
       "      <td>Second</td>\n",
       "      <td>24.7 kmpl</td>\n",
       "      <td>796 CC</td>\n",
       "      <td>47.3 bhp</td>\n",
       "      <td>5.0</td>\n",
       "      <td>NaN</td>\n",
       "    </tr>\n",
       "    <tr>\n",
       "      <th>2</th>\n",
       "      <td>2</td>\n",
       "      <td>Toyota Innova Crysta Touring Sport 2.4 MT</td>\n",
       "      <td>Mumbai</td>\n",
       "      <td>2017</td>\n",
       "      <td>34000</td>\n",
       "      <td>Diesel</td>\n",
       "      <td>Manual</td>\n",
       "      <td>First</td>\n",
       "      <td>13.68 kmpl</td>\n",
       "      <td>2393 CC</td>\n",
       "      <td>147.8 bhp</td>\n",
       "      <td>7.0</td>\n",
       "      <td>25.27 Lakh</td>\n",
       "    </tr>\n",
       "    <tr>\n",
       "      <th>3</th>\n",
       "      <td>3</td>\n",
       "      <td>Toyota Etios Liva GD</td>\n",
       "      <td>Hyderabad</td>\n",
       "      <td>2012</td>\n",
       "      <td>139000</td>\n",
       "      <td>Diesel</td>\n",
       "      <td>Manual</td>\n",
       "      <td>First</td>\n",
       "      <td>23.59 kmpl</td>\n",
       "      <td>1364 CC</td>\n",
       "      <td>null bhp</td>\n",
       "      <td>5.0</td>\n",
       "      <td>NaN</td>\n",
       "    </tr>\n",
       "    <tr>\n",
       "      <th>4</th>\n",
       "      <td>4</td>\n",
       "      <td>Hyundai i20 Magna</td>\n",
       "      <td>Mumbai</td>\n",
       "      <td>2014</td>\n",
       "      <td>29000</td>\n",
       "      <td>Petrol</td>\n",
       "      <td>Manual</td>\n",
       "      <td>First</td>\n",
       "      <td>18.5 kmpl</td>\n",
       "      <td>1197 CC</td>\n",
       "      <td>82.85 bhp</td>\n",
       "      <td>5.0</td>\n",
       "      <td>NaN</td>\n",
       "    </tr>\n",
       "  </tbody>\n",
       "</table>\n",
       "</div>"
      ],
      "text/plain": [
       "   Unnamed: 0                                       Name    Location  Year  \\\n",
       "0           0                    Maruti Alto K10 LXI CNG       Delhi  2014   \n",
       "1           1              Maruti Alto 800 2016-2019 LXI  Coimbatore  2013   \n",
       "2           2  Toyota Innova Crysta Touring Sport 2.4 MT      Mumbai  2017   \n",
       "3           3                       Toyota Etios Liva GD   Hyderabad  2012   \n",
       "4           4                          Hyundai i20 Magna      Mumbai  2014   \n",
       "\n",
       "   Kilometers_Driven Fuel_Type Transmission Owner_Type      Mileage   Engine  \\\n",
       "0              40929       CNG       Manual      First  32.26 km/kg   998 CC   \n",
       "1              54493    Petrol       Manual     Second    24.7 kmpl   796 CC   \n",
       "2              34000    Diesel       Manual      First   13.68 kmpl  2393 CC   \n",
       "3             139000    Diesel       Manual      First   23.59 kmpl  1364 CC   \n",
       "4              29000    Petrol       Manual      First    18.5 kmpl  1197 CC   \n",
       "\n",
       "       Power  Seats   New_Price  \n",
       "0   58.2 bhp    4.0         NaN  \n",
       "1   47.3 bhp    5.0         NaN  \n",
       "2  147.8 bhp    7.0  25.27 Lakh  \n",
       "3   null bhp    5.0         NaN  \n",
       "4  82.85 bhp    5.0         NaN  "
      ]
     },
     "execution_count": 10,
     "metadata": {},
     "output_type": "execute_result"
    }
   ],
   "source": [
    "test_data.head()"
   ]
  },
  {
   "cell_type": "markdown",
   "id": "available-dating",
   "metadata": {
    "papermill": {
     "duration": 0.076912,
     "end_time": "2021-07-08T10:00:20.740276",
     "exception": false,
     "start_time": "2021-07-08T10:00:20.663364",
     "status": "completed"
    },
    "tags": []
   },
   "source": [
    "## Missing values in train data"
   ]
  },
  {
   "cell_type": "code",
   "execution_count": 11,
   "id": "historical-class",
   "metadata": {
    "execution": {
     "iopub.execute_input": "2021-07-08T10:00:20.916891Z",
     "iopub.status.busy": "2021-07-08T10:00:20.915922Z",
     "iopub.status.idle": "2021-07-08T10:00:20.924267Z",
     "shell.execute_reply": "2021-07-08T10:00:20.923827Z",
     "shell.execute_reply.started": "2021-07-08T09:39:18.962469Z"
    },
    "papermill": {
     "duration": 0.102267,
     "end_time": "2021-07-08T10:00:20.924397",
     "exception": false,
     "start_time": "2021-07-08T10:00:20.822130",
     "status": "completed"
    },
    "tags": []
   },
   "outputs": [
    {
     "name": "stdout",
     "output_type": "stream",
     "text": [
      "Unnamed: 0              0\n",
      "Name                    0\n",
      "Location                0\n",
      "Year                    0\n",
      "Kilometers_Driven       0\n",
      "Fuel_Type               0\n",
      "Transmission            0\n",
      "Owner_Type              0\n",
      "Mileage                 2\n",
      "Engine                 36\n",
      "Power                  36\n",
      "Seats                  42\n",
      "New_Price            5195\n",
      "Price                   0\n",
      "dtype: int64 \n",
      "\n",
      "Unnamed: 0              0\n",
      "Name                    0\n",
      "Location                0\n",
      "Year                    0\n",
      "Kilometers_Driven       0\n",
      "Fuel_Type               0\n",
      "Transmission            0\n",
      "Owner_Type              0\n",
      "Mileage                 0\n",
      "Engine                 10\n",
      "Power                  10\n",
      "Seats                  11\n",
      "New_Price            1052\n",
      "dtype: int64\n"
     ]
    }
   ],
   "source": [
    "print(train_data.isnull().sum(),'\\n')\n",
    "print(test_data.isnull().sum())"
   ]
  },
  {
   "cell_type": "code",
   "execution_count": 12,
   "id": "automatic-tongue",
   "metadata": {
    "execution": {
     "iopub.execute_input": "2021-07-08T10:00:21.108032Z",
     "iopub.status.busy": "2021-07-08T10:00:21.106954Z",
     "iopub.status.idle": "2021-07-08T10:00:21.111405Z",
     "shell.execute_reply": "2021-07-08T10:00:21.111898Z",
     "shell.execute_reply.started": "2021-07-08T09:39:18.978519Z"
    },
    "papermill": {
     "duration": 0.108285,
     "end_time": "2021-07-08T10:00:21.112080",
     "exception": false,
     "start_time": "2021-07-08T10:00:21.003795",
     "status": "completed"
    },
    "tags": []
   },
   "outputs": [
    {
     "data": {
      "text/html": [
       "<div>\n",
       "<style scoped>\n",
       "    .dataframe tbody tr th:only-of-type {\n",
       "        vertical-align: middle;\n",
       "    }\n",
       "\n",
       "    .dataframe tbody tr th {\n",
       "        vertical-align: top;\n",
       "    }\n",
       "\n",
       "    .dataframe thead th {\n",
       "        text-align: right;\n",
       "    }\n",
       "</style>\n",
       "<table border=\"1\" class=\"dataframe\">\n",
       "  <thead>\n",
       "    <tr style=\"text-align: right;\">\n",
       "      <th></th>\n",
       "      <th>Unnamed: 0</th>\n",
       "      <th>Name</th>\n",
       "      <th>Location</th>\n",
       "      <th>Year</th>\n",
       "      <th>Kilometers_Driven</th>\n",
       "      <th>Fuel_Type</th>\n",
       "      <th>Transmission</th>\n",
       "      <th>Owner_Type</th>\n",
       "      <th>Mileage</th>\n",
       "      <th>Engine</th>\n",
       "      <th>Power</th>\n",
       "      <th>Seats</th>\n",
       "      <th>New_Price</th>\n",
       "      <th>Price</th>\n",
       "    </tr>\n",
       "  </thead>\n",
       "  <tbody>\n",
       "    <tr>\n",
       "      <th>0</th>\n",
       "      <td>0</td>\n",
       "      <td>Maruti Wagon R LXI CNG</td>\n",
       "      <td>Mumbai</td>\n",
       "      <td>2010</td>\n",
       "      <td>72000</td>\n",
       "      <td>CNG</td>\n",
       "      <td>Manual</td>\n",
       "      <td>First</td>\n",
       "      <td>26.6 km/kg</td>\n",
       "      <td>998 CC</td>\n",
       "      <td>58.16 bhp</td>\n",
       "      <td>5.0</td>\n",
       "      <td>NaN</td>\n",
       "      <td>1.75</td>\n",
       "    </tr>\n",
       "    <tr>\n",
       "      <th>1</th>\n",
       "      <td>1</td>\n",
       "      <td>Hyundai Creta 1.6 CRDi SX Option</td>\n",
       "      <td>Pune</td>\n",
       "      <td>2015</td>\n",
       "      <td>41000</td>\n",
       "      <td>Diesel</td>\n",
       "      <td>Manual</td>\n",
       "      <td>First</td>\n",
       "      <td>19.67 kmpl</td>\n",
       "      <td>1582 CC</td>\n",
       "      <td>126.2 bhp</td>\n",
       "      <td>5.0</td>\n",
       "      <td>NaN</td>\n",
       "      <td>12.50</td>\n",
       "    </tr>\n",
       "    <tr>\n",
       "      <th>2</th>\n",
       "      <td>2</td>\n",
       "      <td>Honda Jazz V</td>\n",
       "      <td>Chennai</td>\n",
       "      <td>2011</td>\n",
       "      <td>46000</td>\n",
       "      <td>Petrol</td>\n",
       "      <td>Manual</td>\n",
       "      <td>First</td>\n",
       "      <td>18.2 kmpl</td>\n",
       "      <td>1199 CC</td>\n",
       "      <td>88.7 bhp</td>\n",
       "      <td>5.0</td>\n",
       "      <td>8.61 Lakh</td>\n",
       "      <td>4.50</td>\n",
       "    </tr>\n",
       "    <tr>\n",
       "      <th>3</th>\n",
       "      <td>3</td>\n",
       "      <td>Maruti Ertiga VDI</td>\n",
       "      <td>Chennai</td>\n",
       "      <td>2012</td>\n",
       "      <td>87000</td>\n",
       "      <td>Diesel</td>\n",
       "      <td>Manual</td>\n",
       "      <td>First</td>\n",
       "      <td>20.77 kmpl</td>\n",
       "      <td>1248 CC</td>\n",
       "      <td>88.76 bhp</td>\n",
       "      <td>7.0</td>\n",
       "      <td>NaN</td>\n",
       "      <td>6.00</td>\n",
       "    </tr>\n",
       "    <tr>\n",
       "      <th>4</th>\n",
       "      <td>4</td>\n",
       "      <td>Audi A4 New 2.0 TDI Multitronic</td>\n",
       "      <td>Coimbatore</td>\n",
       "      <td>2013</td>\n",
       "      <td>40670</td>\n",
       "      <td>Diesel</td>\n",
       "      <td>Automatic</td>\n",
       "      <td>Second</td>\n",
       "      <td>15.2 kmpl</td>\n",
       "      <td>1968 CC</td>\n",
       "      <td>140.8 bhp</td>\n",
       "      <td>5.0</td>\n",
       "      <td>NaN</td>\n",
       "      <td>17.74</td>\n",
       "    </tr>\n",
       "  </tbody>\n",
       "</table>\n",
       "</div>"
      ],
      "text/plain": [
       "   Unnamed: 0                              Name    Location  Year  \\\n",
       "0           0            Maruti Wagon R LXI CNG      Mumbai  2010   \n",
       "1           1  Hyundai Creta 1.6 CRDi SX Option        Pune  2015   \n",
       "2           2                      Honda Jazz V     Chennai  2011   \n",
       "3           3                 Maruti Ertiga VDI     Chennai  2012   \n",
       "4           4   Audi A4 New 2.0 TDI Multitronic  Coimbatore  2013   \n",
       "\n",
       "   Kilometers_Driven Fuel_Type Transmission Owner_Type     Mileage   Engine  \\\n",
       "0              72000       CNG       Manual      First  26.6 km/kg   998 CC   \n",
       "1              41000    Diesel       Manual      First  19.67 kmpl  1582 CC   \n",
       "2              46000    Petrol       Manual      First   18.2 kmpl  1199 CC   \n",
       "3              87000    Diesel       Manual      First  20.77 kmpl  1248 CC   \n",
       "4              40670    Diesel    Automatic     Second   15.2 kmpl  1968 CC   \n",
       "\n",
       "       Power  Seats  New_Price  Price  \n",
       "0  58.16 bhp    5.0        NaN   1.75  \n",
       "1  126.2 bhp    5.0        NaN  12.50  \n",
       "2   88.7 bhp    5.0  8.61 Lakh   4.50  \n",
       "3  88.76 bhp    7.0        NaN   6.00  \n",
       "4  140.8 bhp    5.0        NaN  17.74  "
      ]
     },
     "execution_count": 12,
     "metadata": {},
     "output_type": "execute_result"
    }
   ],
   "source": [
    "train_data.head()"
   ]
  },
  {
   "cell_type": "code",
   "execution_count": 13,
   "id": "overall-simulation",
   "metadata": {
    "execution": {
     "iopub.execute_input": "2021-07-08T10:00:21.303408Z",
     "iopub.status.busy": "2021-07-08T10:00:21.302436Z",
     "iopub.status.idle": "2021-07-08T10:00:21.305371Z",
     "shell.execute_reply": "2021-07-08T10:00:21.304861Z",
     "shell.execute_reply.started": "2021-07-08T09:39:19.000365Z"
    },
    "papermill": {
     "duration": 0.097687,
     "end_time": "2021-07-08T10:00:21.305501",
     "exception": false,
     "start_time": "2021-07-08T10:00:21.207814",
     "status": "completed"
    },
    "tags": []
   },
   "outputs": [],
   "source": [
    "train_data = train_data.iloc[:,1:]\n",
    "test_data = test_data.iloc[:,1:]"
   ]
  },
  {
   "cell_type": "code",
   "execution_count": 14,
   "id": "reported-fitting",
   "metadata": {
    "execution": {
     "iopub.execute_input": "2021-07-08T10:00:21.497903Z",
     "iopub.status.busy": "2021-07-08T10:00:21.496904Z",
     "iopub.status.idle": "2021-07-08T10:00:21.500485Z",
     "shell.execute_reply": "2021-07-08T10:00:21.500973Z",
     "shell.execute_reply.started": "2021-07-08T09:39:19.010454Z"
    },
    "papermill": {
     "duration": 0.106616,
     "end_time": "2021-07-08T10:00:21.501129",
     "exception": false,
     "start_time": "2021-07-08T10:00:21.394513",
     "status": "completed"
    },
    "tags": []
   },
   "outputs": [
    {
     "data": {
      "text/html": [
       "<div>\n",
       "<style scoped>\n",
       "    .dataframe tbody tr th:only-of-type {\n",
       "        vertical-align: middle;\n",
       "    }\n",
       "\n",
       "    .dataframe tbody tr th {\n",
       "        vertical-align: top;\n",
       "    }\n",
       "\n",
       "    .dataframe thead th {\n",
       "        text-align: right;\n",
       "    }\n",
       "</style>\n",
       "<table border=\"1\" class=\"dataframe\">\n",
       "  <thead>\n",
       "    <tr style=\"text-align: right;\">\n",
       "      <th></th>\n",
       "      <th>Name</th>\n",
       "      <th>Location</th>\n",
       "      <th>Year</th>\n",
       "      <th>Kilometers_Driven</th>\n",
       "      <th>Fuel_Type</th>\n",
       "      <th>Transmission</th>\n",
       "      <th>Owner_Type</th>\n",
       "      <th>Mileage</th>\n",
       "      <th>Engine</th>\n",
       "      <th>Power</th>\n",
       "      <th>Seats</th>\n",
       "      <th>New_Price</th>\n",
       "      <th>Price</th>\n",
       "    </tr>\n",
       "  </thead>\n",
       "  <tbody>\n",
       "    <tr>\n",
       "      <th>0</th>\n",
       "      <td>Maruti Wagon R LXI CNG</td>\n",
       "      <td>Mumbai</td>\n",
       "      <td>2010</td>\n",
       "      <td>72000</td>\n",
       "      <td>CNG</td>\n",
       "      <td>Manual</td>\n",
       "      <td>First</td>\n",
       "      <td>26.6 km/kg</td>\n",
       "      <td>998 CC</td>\n",
       "      <td>58.16 bhp</td>\n",
       "      <td>5.0</td>\n",
       "      <td>NaN</td>\n",
       "      <td>1.75</td>\n",
       "    </tr>\n",
       "    <tr>\n",
       "      <th>1</th>\n",
       "      <td>Hyundai Creta 1.6 CRDi SX Option</td>\n",
       "      <td>Pune</td>\n",
       "      <td>2015</td>\n",
       "      <td>41000</td>\n",
       "      <td>Diesel</td>\n",
       "      <td>Manual</td>\n",
       "      <td>First</td>\n",
       "      <td>19.67 kmpl</td>\n",
       "      <td>1582 CC</td>\n",
       "      <td>126.2 bhp</td>\n",
       "      <td>5.0</td>\n",
       "      <td>NaN</td>\n",
       "      <td>12.50</td>\n",
       "    </tr>\n",
       "    <tr>\n",
       "      <th>2</th>\n",
       "      <td>Honda Jazz V</td>\n",
       "      <td>Chennai</td>\n",
       "      <td>2011</td>\n",
       "      <td>46000</td>\n",
       "      <td>Petrol</td>\n",
       "      <td>Manual</td>\n",
       "      <td>First</td>\n",
       "      <td>18.2 kmpl</td>\n",
       "      <td>1199 CC</td>\n",
       "      <td>88.7 bhp</td>\n",
       "      <td>5.0</td>\n",
       "      <td>8.61 Lakh</td>\n",
       "      <td>4.50</td>\n",
       "    </tr>\n",
       "    <tr>\n",
       "      <th>3</th>\n",
       "      <td>Maruti Ertiga VDI</td>\n",
       "      <td>Chennai</td>\n",
       "      <td>2012</td>\n",
       "      <td>87000</td>\n",
       "      <td>Diesel</td>\n",
       "      <td>Manual</td>\n",
       "      <td>First</td>\n",
       "      <td>20.77 kmpl</td>\n",
       "      <td>1248 CC</td>\n",
       "      <td>88.76 bhp</td>\n",
       "      <td>7.0</td>\n",
       "      <td>NaN</td>\n",
       "      <td>6.00</td>\n",
       "    </tr>\n",
       "    <tr>\n",
       "      <th>4</th>\n",
       "      <td>Audi A4 New 2.0 TDI Multitronic</td>\n",
       "      <td>Coimbatore</td>\n",
       "      <td>2013</td>\n",
       "      <td>40670</td>\n",
       "      <td>Diesel</td>\n",
       "      <td>Automatic</td>\n",
       "      <td>Second</td>\n",
       "      <td>15.2 kmpl</td>\n",
       "      <td>1968 CC</td>\n",
       "      <td>140.8 bhp</td>\n",
       "      <td>5.0</td>\n",
       "      <td>NaN</td>\n",
       "      <td>17.74</td>\n",
       "    </tr>\n",
       "  </tbody>\n",
       "</table>\n",
       "</div>"
      ],
      "text/plain": [
       "                               Name    Location  Year  Kilometers_Driven  \\\n",
       "0            Maruti Wagon R LXI CNG      Mumbai  2010              72000   \n",
       "1  Hyundai Creta 1.6 CRDi SX Option        Pune  2015              41000   \n",
       "2                      Honda Jazz V     Chennai  2011              46000   \n",
       "3                 Maruti Ertiga VDI     Chennai  2012              87000   \n",
       "4   Audi A4 New 2.0 TDI Multitronic  Coimbatore  2013              40670   \n",
       "\n",
       "  Fuel_Type Transmission Owner_Type     Mileage   Engine      Power  Seats  \\\n",
       "0       CNG       Manual      First  26.6 km/kg   998 CC  58.16 bhp    5.0   \n",
       "1    Diesel       Manual      First  19.67 kmpl  1582 CC  126.2 bhp    5.0   \n",
       "2    Petrol       Manual      First   18.2 kmpl  1199 CC   88.7 bhp    5.0   \n",
       "3    Diesel       Manual      First  20.77 kmpl  1248 CC  88.76 bhp    7.0   \n",
       "4    Diesel    Automatic     Second   15.2 kmpl  1968 CC  140.8 bhp    5.0   \n",
       "\n",
       "   New_Price  Price  \n",
       "0        NaN   1.75  \n",
       "1        NaN  12.50  \n",
       "2  8.61 Lakh   4.50  \n",
       "3        NaN   6.00  \n",
       "4        NaN  17.74  "
      ]
     },
     "execution_count": 14,
     "metadata": {},
     "output_type": "execute_result"
    }
   ],
   "source": [
    "train_data.head()"
   ]
  },
  {
   "cell_type": "code",
   "execution_count": 15,
   "id": "christian-simpson",
   "metadata": {
    "execution": {
     "iopub.execute_input": "2021-07-08T10:00:21.670456Z",
     "iopub.status.busy": "2021-07-08T10:00:21.669695Z",
     "iopub.status.idle": "2021-07-08T10:00:21.688584Z",
     "shell.execute_reply": "2021-07-08T10:00:21.688173Z",
     "shell.execute_reply.started": "2021-07-08T09:39:19.032197Z"
    },
    "papermill": {
     "duration": 0.105977,
     "end_time": "2021-07-08T10:00:21.688703",
     "exception": false,
     "start_time": "2021-07-08T10:00:21.582726",
     "status": "completed"
    },
    "tags": []
   },
   "outputs": [
    {
     "data": {
      "text/html": [
       "<div>\n",
       "<style scoped>\n",
       "    .dataframe tbody tr th:only-of-type {\n",
       "        vertical-align: middle;\n",
       "    }\n",
       "\n",
       "    .dataframe tbody tr th {\n",
       "        vertical-align: top;\n",
       "    }\n",
       "\n",
       "    .dataframe thead th {\n",
       "        text-align: right;\n",
       "    }\n",
       "</style>\n",
       "<table border=\"1\" class=\"dataframe\">\n",
       "  <thead>\n",
       "    <tr style=\"text-align: right;\">\n",
       "      <th></th>\n",
       "      <th>Year</th>\n",
       "      <th>Kilometers_Driven</th>\n",
       "      <th>Seats</th>\n",
       "      <th>Price</th>\n",
       "    </tr>\n",
       "  </thead>\n",
       "  <tbody>\n",
       "    <tr>\n",
       "      <th>count</th>\n",
       "      <td>6019.000000</td>\n",
       "      <td>6.019000e+03</td>\n",
       "      <td>5977.000000</td>\n",
       "      <td>6019.000000</td>\n",
       "    </tr>\n",
       "    <tr>\n",
       "      <th>mean</th>\n",
       "      <td>2013.358199</td>\n",
       "      <td>5.873838e+04</td>\n",
       "      <td>5.278735</td>\n",
       "      <td>9.479468</td>\n",
       "    </tr>\n",
       "    <tr>\n",
       "      <th>std</th>\n",
       "      <td>3.269742</td>\n",
       "      <td>9.126884e+04</td>\n",
       "      <td>0.808840</td>\n",
       "      <td>11.187917</td>\n",
       "    </tr>\n",
       "    <tr>\n",
       "      <th>min</th>\n",
       "      <td>1998.000000</td>\n",
       "      <td>1.710000e+02</td>\n",
       "      <td>0.000000</td>\n",
       "      <td>0.440000</td>\n",
       "    </tr>\n",
       "    <tr>\n",
       "      <th>25%</th>\n",
       "      <td>2011.000000</td>\n",
       "      <td>3.400000e+04</td>\n",
       "      <td>5.000000</td>\n",
       "      <td>3.500000</td>\n",
       "    </tr>\n",
       "    <tr>\n",
       "      <th>50%</th>\n",
       "      <td>2014.000000</td>\n",
       "      <td>5.300000e+04</td>\n",
       "      <td>5.000000</td>\n",
       "      <td>5.640000</td>\n",
       "    </tr>\n",
       "    <tr>\n",
       "      <th>75%</th>\n",
       "      <td>2016.000000</td>\n",
       "      <td>7.300000e+04</td>\n",
       "      <td>5.000000</td>\n",
       "      <td>9.950000</td>\n",
       "    </tr>\n",
       "    <tr>\n",
       "      <th>max</th>\n",
       "      <td>2019.000000</td>\n",
       "      <td>6.500000e+06</td>\n",
       "      <td>10.000000</td>\n",
       "      <td>160.000000</td>\n",
       "    </tr>\n",
       "  </tbody>\n",
       "</table>\n",
       "</div>"
      ],
      "text/plain": [
       "              Year  Kilometers_Driven        Seats        Price\n",
       "count  6019.000000       6.019000e+03  5977.000000  6019.000000\n",
       "mean   2013.358199       5.873838e+04     5.278735     9.479468\n",
       "std       3.269742       9.126884e+04     0.808840    11.187917\n",
       "min    1998.000000       1.710000e+02     0.000000     0.440000\n",
       "25%    2011.000000       3.400000e+04     5.000000     3.500000\n",
       "50%    2014.000000       5.300000e+04     5.000000     5.640000\n",
       "75%    2016.000000       7.300000e+04     5.000000     9.950000\n",
       "max    2019.000000       6.500000e+06    10.000000   160.000000"
      ]
     },
     "execution_count": 15,
     "metadata": {},
     "output_type": "execute_result"
    }
   ],
   "source": [
    "train_data.describe()"
   ]
  },
  {
   "cell_type": "code",
   "execution_count": 16,
   "id": "modern-economics",
   "metadata": {
    "execution": {
     "iopub.execute_input": "2021-07-08T10:00:21.854744Z",
     "iopub.status.busy": "2021-07-08T10:00:21.854103Z",
     "iopub.status.idle": "2021-07-08T10:00:21.856872Z",
     "shell.execute_reply": "2021-07-08T10:00:21.857275Z",
     "shell.execute_reply.started": "2021-07-08T09:39:19.062080Z"
    },
    "papermill": {
     "duration": 0.087232,
     "end_time": "2021-07-08T10:00:21.857408",
     "exception": false,
     "start_time": "2021-07-08T10:00:21.770176",
     "status": "completed"
    },
    "tags": []
   },
   "outputs": [
    {
     "data": {
      "text/plain": [
       "(6019, 13)"
      ]
     },
     "execution_count": 16,
     "metadata": {},
     "output_type": "execute_result"
    }
   ],
   "source": [
    "train_data.shape"
   ]
  },
  {
   "cell_type": "code",
   "execution_count": 17,
   "id": "authorized-shark",
   "metadata": {
    "execution": {
     "iopub.execute_input": "2021-07-08T10:00:22.050607Z",
     "iopub.status.busy": "2021-07-08T10:00:22.049688Z",
     "iopub.status.idle": "2021-07-08T10:00:22.056054Z",
     "shell.execute_reply": "2021-07-08T10:00:22.056553Z",
     "shell.execute_reply.started": "2021-07-08T09:39:19.069486Z"
    },
    "papermill": {
     "duration": 0.116667,
     "end_time": "2021-07-08T10:00:22.056703",
     "exception": false,
     "start_time": "2021-07-08T10:00:21.940036",
     "status": "completed"
    },
    "tags": []
   },
   "outputs": [
    {
     "data": {
      "text/html": [
       "<div>\n",
       "<style scoped>\n",
       "    .dataframe tbody tr th:only-of-type {\n",
       "        vertical-align: middle;\n",
       "    }\n",
       "\n",
       "    .dataframe tbody tr th {\n",
       "        vertical-align: top;\n",
       "    }\n",
       "\n",
       "    .dataframe thead th {\n",
       "        text-align: right;\n",
       "    }\n",
       "</style>\n",
       "<table border=\"1\" class=\"dataframe\">\n",
       "  <thead>\n",
       "    <tr style=\"text-align: right;\">\n",
       "      <th></th>\n",
       "      <th>Name</th>\n",
       "      <th>Location</th>\n",
       "      <th>Year</th>\n",
       "      <th>Kilometers_Driven</th>\n",
       "      <th>Fuel_Type</th>\n",
       "      <th>Transmission</th>\n",
       "      <th>Owner_Type</th>\n",
       "      <th>Mileage</th>\n",
       "      <th>Engine</th>\n",
       "      <th>Power</th>\n",
       "      <th>Seats</th>\n",
       "      <th>New_Price</th>\n",
       "      <th>Price</th>\n",
       "    </tr>\n",
       "  </thead>\n",
       "  <tbody>\n",
       "    <tr>\n",
       "      <th>0</th>\n",
       "      <td>Maruti Wagon R LXI CNG</td>\n",
       "      <td>Mumbai</td>\n",
       "      <td>2010</td>\n",
       "      <td>72000</td>\n",
       "      <td>CNG</td>\n",
       "      <td>Manual</td>\n",
       "      <td>First</td>\n",
       "      <td>26.6 km/kg</td>\n",
       "      <td>998 CC</td>\n",
       "      <td>58.16 bhp</td>\n",
       "      <td>5.0</td>\n",
       "      <td>NaN</td>\n",
       "      <td>1.75</td>\n",
       "    </tr>\n",
       "    <tr>\n",
       "      <th>1</th>\n",
       "      <td>Hyundai Creta 1.6 CRDi SX Option</td>\n",
       "      <td>Pune</td>\n",
       "      <td>2015</td>\n",
       "      <td>41000</td>\n",
       "      <td>Diesel</td>\n",
       "      <td>Manual</td>\n",
       "      <td>First</td>\n",
       "      <td>19.67 kmpl</td>\n",
       "      <td>1582 CC</td>\n",
       "      <td>126.2 bhp</td>\n",
       "      <td>5.0</td>\n",
       "      <td>NaN</td>\n",
       "      <td>12.50</td>\n",
       "    </tr>\n",
       "    <tr>\n",
       "      <th>2</th>\n",
       "      <td>Honda Jazz V</td>\n",
       "      <td>Chennai</td>\n",
       "      <td>2011</td>\n",
       "      <td>46000</td>\n",
       "      <td>Petrol</td>\n",
       "      <td>Manual</td>\n",
       "      <td>First</td>\n",
       "      <td>18.2 kmpl</td>\n",
       "      <td>1199 CC</td>\n",
       "      <td>88.7 bhp</td>\n",
       "      <td>5.0</td>\n",
       "      <td>8.61 Lakh</td>\n",
       "      <td>4.50</td>\n",
       "    </tr>\n",
       "    <tr>\n",
       "      <th>3</th>\n",
       "      <td>Maruti Ertiga VDI</td>\n",
       "      <td>Chennai</td>\n",
       "      <td>2012</td>\n",
       "      <td>87000</td>\n",
       "      <td>Diesel</td>\n",
       "      <td>Manual</td>\n",
       "      <td>First</td>\n",
       "      <td>20.77 kmpl</td>\n",
       "      <td>1248 CC</td>\n",
       "      <td>88.76 bhp</td>\n",
       "      <td>7.0</td>\n",
       "      <td>NaN</td>\n",
       "      <td>6.00</td>\n",
       "    </tr>\n",
       "    <tr>\n",
       "      <th>4</th>\n",
       "      <td>Audi A4 New 2.0 TDI Multitronic</td>\n",
       "      <td>Coimbatore</td>\n",
       "      <td>2013</td>\n",
       "      <td>40670</td>\n",
       "      <td>Diesel</td>\n",
       "      <td>Automatic</td>\n",
       "      <td>Second</td>\n",
       "      <td>15.2 kmpl</td>\n",
       "      <td>1968 CC</td>\n",
       "      <td>140.8 bhp</td>\n",
       "      <td>5.0</td>\n",
       "      <td>NaN</td>\n",
       "      <td>17.74</td>\n",
       "    </tr>\n",
       "    <tr>\n",
       "      <th>5</th>\n",
       "      <td>Hyundai EON LPG Era Plus Option</td>\n",
       "      <td>Hyderabad</td>\n",
       "      <td>2012</td>\n",
       "      <td>75000</td>\n",
       "      <td>LPG</td>\n",
       "      <td>Manual</td>\n",
       "      <td>First</td>\n",
       "      <td>21.1 km/kg</td>\n",
       "      <td>814 CC</td>\n",
       "      <td>55.2 bhp</td>\n",
       "      <td>5.0</td>\n",
       "      <td>NaN</td>\n",
       "      <td>2.35</td>\n",
       "    </tr>\n",
       "    <tr>\n",
       "      <th>6</th>\n",
       "      <td>Nissan Micra Diesel XV</td>\n",
       "      <td>Jaipur</td>\n",
       "      <td>2013</td>\n",
       "      <td>86999</td>\n",
       "      <td>Diesel</td>\n",
       "      <td>Manual</td>\n",
       "      <td>First</td>\n",
       "      <td>23.08 kmpl</td>\n",
       "      <td>1461 CC</td>\n",
       "      <td>63.1 bhp</td>\n",
       "      <td>5.0</td>\n",
       "      <td>NaN</td>\n",
       "      <td>3.50</td>\n",
       "    </tr>\n",
       "    <tr>\n",
       "      <th>7</th>\n",
       "      <td>Toyota Innova Crysta 2.8 GX AT 8S</td>\n",
       "      <td>Mumbai</td>\n",
       "      <td>2016</td>\n",
       "      <td>36000</td>\n",
       "      <td>Diesel</td>\n",
       "      <td>Automatic</td>\n",
       "      <td>First</td>\n",
       "      <td>11.36 kmpl</td>\n",
       "      <td>2755 CC</td>\n",
       "      <td>171.5 bhp</td>\n",
       "      <td>8.0</td>\n",
       "      <td>21 Lakh</td>\n",
       "      <td>17.50</td>\n",
       "    </tr>\n",
       "    <tr>\n",
       "      <th>8</th>\n",
       "      <td>Volkswagen Vento Diesel Comfortline</td>\n",
       "      <td>Pune</td>\n",
       "      <td>2013</td>\n",
       "      <td>64430</td>\n",
       "      <td>Diesel</td>\n",
       "      <td>Manual</td>\n",
       "      <td>First</td>\n",
       "      <td>20.54 kmpl</td>\n",
       "      <td>1598 CC</td>\n",
       "      <td>103.6 bhp</td>\n",
       "      <td>5.0</td>\n",
       "      <td>NaN</td>\n",
       "      <td>5.20</td>\n",
       "    </tr>\n",
       "    <tr>\n",
       "      <th>9</th>\n",
       "      <td>Tata Indica Vista Quadrajet LS</td>\n",
       "      <td>Chennai</td>\n",
       "      <td>2012</td>\n",
       "      <td>65932</td>\n",
       "      <td>Diesel</td>\n",
       "      <td>Manual</td>\n",
       "      <td>Second</td>\n",
       "      <td>22.3 kmpl</td>\n",
       "      <td>1248 CC</td>\n",
       "      <td>74 bhp</td>\n",
       "      <td>5.0</td>\n",
       "      <td>NaN</td>\n",
       "      <td>1.95</td>\n",
       "    </tr>\n",
       "    <tr>\n",
       "      <th>10</th>\n",
       "      <td>Maruti Ciaz Zeta</td>\n",
       "      <td>Kochi</td>\n",
       "      <td>2018</td>\n",
       "      <td>25692</td>\n",
       "      <td>Petrol</td>\n",
       "      <td>Manual</td>\n",
       "      <td>First</td>\n",
       "      <td>21.56 kmpl</td>\n",
       "      <td>1462 CC</td>\n",
       "      <td>103.25 bhp</td>\n",
       "      <td>5.0</td>\n",
       "      <td>10.65 Lakh</td>\n",
       "      <td>9.95</td>\n",
       "    </tr>\n",
       "    <tr>\n",
       "      <th>11</th>\n",
       "      <td>Honda City 1.5 V AT Sunroof</td>\n",
       "      <td>Kolkata</td>\n",
       "      <td>2012</td>\n",
       "      <td>60000</td>\n",
       "      <td>Petrol</td>\n",
       "      <td>Automatic</td>\n",
       "      <td>First</td>\n",
       "      <td>16.8 kmpl</td>\n",
       "      <td>1497 CC</td>\n",
       "      <td>116.3 bhp</td>\n",
       "      <td>5.0</td>\n",
       "      <td>NaN</td>\n",
       "      <td>4.49</td>\n",
       "    </tr>\n",
       "    <tr>\n",
       "      <th>12</th>\n",
       "      <td>Maruti Swift VDI BSIV</td>\n",
       "      <td>Jaipur</td>\n",
       "      <td>2015</td>\n",
       "      <td>64424</td>\n",
       "      <td>Diesel</td>\n",
       "      <td>Manual</td>\n",
       "      <td>First</td>\n",
       "      <td>25.2 kmpl</td>\n",
       "      <td>1248 CC</td>\n",
       "      <td>74 bhp</td>\n",
       "      <td>5.0</td>\n",
       "      <td>NaN</td>\n",
       "      <td>5.60</td>\n",
       "    </tr>\n",
       "    <tr>\n",
       "      <th>13</th>\n",
       "      <td>Land Rover Range Rover 2.2L Pure</td>\n",
       "      <td>Delhi</td>\n",
       "      <td>2014</td>\n",
       "      <td>72000</td>\n",
       "      <td>Diesel</td>\n",
       "      <td>Automatic</td>\n",
       "      <td>First</td>\n",
       "      <td>12.7 kmpl</td>\n",
       "      <td>2179 CC</td>\n",
       "      <td>187.7 bhp</td>\n",
       "      <td>5.0</td>\n",
       "      <td>NaN</td>\n",
       "      <td>27.00</td>\n",
       "    </tr>\n",
       "    <tr>\n",
       "      <th>14</th>\n",
       "      <td>Land Rover Freelander 2 TD4 SE</td>\n",
       "      <td>Pune</td>\n",
       "      <td>2012</td>\n",
       "      <td>85000</td>\n",
       "      <td>Diesel</td>\n",
       "      <td>Automatic</td>\n",
       "      <td>Second</td>\n",
       "      <td>0.0 kmpl</td>\n",
       "      <td>2179 CC</td>\n",
       "      <td>115 bhp</td>\n",
       "      <td>5.0</td>\n",
       "      <td>NaN</td>\n",
       "      <td>17.50</td>\n",
       "    </tr>\n",
       "  </tbody>\n",
       "</table>\n",
       "</div>"
      ],
      "text/plain": [
       "                                   Name    Location  Year  Kilometers_Driven  \\\n",
       "0                Maruti Wagon R LXI CNG      Mumbai  2010              72000   \n",
       "1      Hyundai Creta 1.6 CRDi SX Option        Pune  2015              41000   \n",
       "2                          Honda Jazz V     Chennai  2011              46000   \n",
       "3                     Maruti Ertiga VDI     Chennai  2012              87000   \n",
       "4       Audi A4 New 2.0 TDI Multitronic  Coimbatore  2013              40670   \n",
       "5       Hyundai EON LPG Era Plus Option   Hyderabad  2012              75000   \n",
       "6                Nissan Micra Diesel XV      Jaipur  2013              86999   \n",
       "7     Toyota Innova Crysta 2.8 GX AT 8S      Mumbai  2016              36000   \n",
       "8   Volkswagen Vento Diesel Comfortline        Pune  2013              64430   \n",
       "9        Tata Indica Vista Quadrajet LS     Chennai  2012              65932   \n",
       "10                     Maruti Ciaz Zeta       Kochi  2018              25692   \n",
       "11          Honda City 1.5 V AT Sunroof     Kolkata  2012              60000   \n",
       "12                Maruti Swift VDI BSIV      Jaipur  2015              64424   \n",
       "13     Land Rover Range Rover 2.2L Pure       Delhi  2014              72000   \n",
       "14       Land Rover Freelander 2 TD4 SE        Pune  2012              85000   \n",
       "\n",
       "   Fuel_Type Transmission Owner_Type     Mileage   Engine       Power  Seats  \\\n",
       "0        CNG       Manual      First  26.6 km/kg   998 CC   58.16 bhp    5.0   \n",
       "1     Diesel       Manual      First  19.67 kmpl  1582 CC   126.2 bhp    5.0   \n",
       "2     Petrol       Manual      First   18.2 kmpl  1199 CC    88.7 bhp    5.0   \n",
       "3     Diesel       Manual      First  20.77 kmpl  1248 CC   88.76 bhp    7.0   \n",
       "4     Diesel    Automatic     Second   15.2 kmpl  1968 CC   140.8 bhp    5.0   \n",
       "5        LPG       Manual      First  21.1 km/kg   814 CC    55.2 bhp    5.0   \n",
       "6     Diesel       Manual      First  23.08 kmpl  1461 CC    63.1 bhp    5.0   \n",
       "7     Diesel    Automatic      First  11.36 kmpl  2755 CC   171.5 bhp    8.0   \n",
       "8     Diesel       Manual      First  20.54 kmpl  1598 CC   103.6 bhp    5.0   \n",
       "9     Diesel       Manual     Second   22.3 kmpl  1248 CC      74 bhp    5.0   \n",
       "10    Petrol       Manual      First  21.56 kmpl  1462 CC  103.25 bhp    5.0   \n",
       "11    Petrol    Automatic      First   16.8 kmpl  1497 CC   116.3 bhp    5.0   \n",
       "12    Diesel       Manual      First   25.2 kmpl  1248 CC      74 bhp    5.0   \n",
       "13    Diesel    Automatic      First   12.7 kmpl  2179 CC   187.7 bhp    5.0   \n",
       "14    Diesel    Automatic     Second    0.0 kmpl  2179 CC     115 bhp    5.0   \n",
       "\n",
       "     New_Price  Price  \n",
       "0          NaN   1.75  \n",
       "1          NaN  12.50  \n",
       "2    8.61 Lakh   4.50  \n",
       "3          NaN   6.00  \n",
       "4          NaN  17.74  \n",
       "5          NaN   2.35  \n",
       "6          NaN   3.50  \n",
       "7      21 Lakh  17.50  \n",
       "8          NaN   5.20  \n",
       "9          NaN   1.95  \n",
       "10  10.65 Lakh   9.95  \n",
       "11         NaN   4.49  \n",
       "12         NaN   5.60  \n",
       "13         NaN  27.00  \n",
       "14         NaN  17.50  "
      ]
     },
     "execution_count": 17,
     "metadata": {},
     "output_type": "execute_result"
    }
   ],
   "source": [
    "train_data.head(15)"
   ]
  },
  {
   "cell_type": "code",
   "execution_count": 18,
   "id": "initial-indian",
   "metadata": {
    "execution": {
     "iopub.execute_input": "2021-07-08T10:00:22.233348Z",
     "iopub.status.busy": "2021-07-08T10:00:22.232580Z",
     "iopub.status.idle": "2021-07-08T10:00:22.236096Z",
     "shell.execute_reply": "2021-07-08T10:00:22.236562Z",
     "shell.execute_reply.started": "2021-07-08T09:39:19.097209Z"
    },
    "papermill": {
     "duration": 0.09542,
     "end_time": "2021-07-08T10:00:22.236729",
     "exception": false,
     "start_time": "2021-07-08T10:00:22.141309",
     "status": "completed"
    },
    "tags": []
   },
   "outputs": [
    {
     "name": "stdout",
     "output_type": "stream",
     "text": [
      "[1998 1999 2000 2001 2002 2003 2004 2005 2006 2007 2008 2009 2010 2011\n",
      " 2012 2013 2014 2015 2016 2017 2018 2019]\n"
     ]
    }
   ],
   "source": [
    "y = train_data.Year.unique()\n",
    "y.sort()\n",
    "print(y)"
   ]
  },
  {
   "cell_type": "markdown",
   "id": "animated-trinidad",
   "metadata": {
    "papermill": {
     "duration": 0.090101,
     "end_time": "2021-07-08T10:00:22.418863",
     "exception": false,
     "start_time": "2021-07-08T10:00:22.328762",
     "status": "completed"
    },
    "tags": []
   },
   "source": [
    "## Data Cleaning"
   ]
  },
  {
   "cell_type": "code",
   "execution_count": 19,
   "id": "gorgeous-federal",
   "metadata": {
    "execution": {
     "iopub.execute_input": "2021-07-08T10:00:22.602795Z",
     "iopub.status.busy": "2021-07-08T10:00:22.602055Z",
     "iopub.status.idle": "2021-07-08T10:00:22.605327Z",
     "shell.execute_reply": "2021-07-08T10:00:22.605791Z",
     "shell.execute_reply.started": "2021-07-08T09:39:19.107028Z"
    },
    "papermill": {
     "duration": 0.096232,
     "end_time": "2021-07-08T10:00:22.605972",
     "exception": false,
     "start_time": "2021-07-08T10:00:22.509740",
     "status": "completed"
    },
    "tags": []
   },
   "outputs": [
    {
     "data": {
      "text/plain": [
       "(6019, 13)"
      ]
     },
     "execution_count": 19,
     "metadata": {},
     "output_type": "execute_result"
    }
   ],
   "source": [
    "train_data.shape"
   ]
  },
  {
   "cell_type": "code",
   "execution_count": 20,
   "id": "atmospheric-harvey",
   "metadata": {
    "execution": {
     "iopub.execute_input": "2021-07-08T10:00:22.782171Z",
     "iopub.status.busy": "2021-07-08T10:00:22.781326Z",
     "iopub.status.idle": "2021-07-08T10:00:22.790080Z",
     "shell.execute_reply": "2021-07-08T10:00:22.790531Z",
     "shell.execute_reply.started": "2021-07-08T09:39:19.115823Z"
    },
    "papermill": {
     "duration": 0.099957,
     "end_time": "2021-07-08T10:00:22.790675",
     "exception": false,
     "start_time": "2021-07-08T10:00:22.690718",
     "status": "completed"
    },
    "tags": []
   },
   "outputs": [
    {
     "name": "stdout",
     "output_type": "stream",
     "text": [
      "<class 'pandas.core.frame.DataFrame'>\n",
      "RangeIndex: 6019 entries, 0 to 6018\n",
      "Data columns (total 13 columns):\n",
      " #   Column             Non-Null Count  Dtype  \n",
      "---  ------             --------------  -----  \n",
      " 0   Name               6019 non-null   object \n",
      " 1   Location           6019 non-null   object \n",
      " 2   Year               6019 non-null   int64  \n",
      " 3   Kilometers_Driven  6019 non-null   int64  \n",
      " 4   Fuel_Type          6019 non-null   object \n",
      " 5   Transmission       6019 non-null   object \n",
      " 6   Owner_Type         6019 non-null   object \n",
      " 7   Mileage            6017 non-null   object \n",
      " 8   Engine             5983 non-null   object \n",
      " 9   Power              5983 non-null   object \n",
      " 10  Seats              5977 non-null   float64\n",
      " 11  New_Price          824 non-null    object \n",
      " 12  Price              6019 non-null   float64\n",
      "dtypes: float64(2), int64(2), object(9)\n",
      "memory usage: 611.4+ KB\n"
     ]
    }
   ],
   "source": [
    "train_data.info()"
   ]
  },
  {
   "cell_type": "code",
   "execution_count": 21,
   "id": "fifty-oakland",
   "metadata": {
    "execution": {
     "iopub.execute_input": "2021-07-08T10:00:22.963142Z",
     "iopub.status.busy": "2021-07-08T10:00:22.962252Z",
     "iopub.status.idle": "2021-07-08T10:00:22.970971Z",
     "shell.execute_reply": "2021-07-08T10:00:22.971375Z",
     "shell.execute_reply.started": "2021-07-08T09:39:19.136555Z"
    },
    "papermill": {
     "duration": 0.097089,
     "end_time": "2021-07-08T10:00:22.971516",
     "exception": false,
     "start_time": "2021-07-08T10:00:22.874427",
     "status": "completed"
    },
    "tags": []
   },
   "outputs": [
    {
     "name": "stdout",
     "output_type": "stream",
     "text": [
      "<class 'pandas.core.frame.DataFrame'>\n",
      "RangeIndex: 1234 entries, 0 to 1233\n",
      "Data columns (total 12 columns):\n",
      " #   Column             Non-Null Count  Dtype  \n",
      "---  ------             --------------  -----  \n",
      " 0   Name               1234 non-null   object \n",
      " 1   Location           1234 non-null   object \n",
      " 2   Year               1234 non-null   int64  \n",
      " 3   Kilometers_Driven  1234 non-null   int64  \n",
      " 4   Fuel_Type          1234 non-null   object \n",
      " 5   Transmission       1234 non-null   object \n",
      " 6   Owner_Type         1234 non-null   object \n",
      " 7   Mileage            1234 non-null   object \n",
      " 8   Engine             1224 non-null   object \n",
      " 9   Power              1224 non-null   object \n",
      " 10  Seats              1223 non-null   float64\n",
      " 11  New_Price          182 non-null    object \n",
      "dtypes: float64(1), int64(2), object(9)\n",
      "memory usage: 115.8+ KB\n"
     ]
    }
   ],
   "source": [
    "test_data.info()"
   ]
  },
  {
   "cell_type": "code",
   "execution_count": 22,
   "id": "prerequisite-thousand",
   "metadata": {
    "execution": {
     "iopub.execute_input": "2021-07-08T10:00:23.154571Z",
     "iopub.status.busy": "2021-07-08T10:00:23.153658Z",
     "iopub.status.idle": "2021-07-08T10:00:23.160596Z",
     "shell.execute_reply": "2021-07-08T10:00:23.160028Z",
     "shell.execute_reply.started": "2021-07-08T09:39:19.154412Z"
    },
    "papermill": {
     "duration": 0.106161,
     "end_time": "2021-07-08T10:00:23.160736",
     "exception": false,
     "start_time": "2021-07-08T10:00:23.054575",
     "status": "completed"
    },
    "tags": []
   },
   "outputs": [
    {
     "data": {
      "text/plain": [
       "Name                    0\n",
       "Location                0\n",
       "Year                    0\n",
       "Kilometers_Driven       0\n",
       "Fuel_Type               0\n",
       "Transmission            0\n",
       "Owner_Type              0\n",
       "Mileage                 2\n",
       "Engine                 36\n",
       "Power                  36\n",
       "Seats                  42\n",
       "New_Price            5195\n",
       "Price                   0\n",
       "dtype: int64"
      ]
     },
     "execution_count": 22,
     "metadata": {},
     "output_type": "execute_result"
    }
   ],
   "source": [
    "train_data.isnull().sum()"
   ]
  },
  {
   "cell_type": "code",
   "execution_count": 23,
   "id": "unavailable-breakfast",
   "metadata": {
    "execution": {
     "iopub.execute_input": "2021-07-08T10:00:23.336086Z",
     "iopub.status.busy": "2021-07-08T10:00:23.335172Z",
     "iopub.status.idle": "2021-07-08T10:00:23.342077Z",
     "shell.execute_reply": "2021-07-08T10:00:23.341579Z",
     "shell.execute_reply.started": "2021-07-08T09:39:19.171720Z"
    },
    "papermill": {
     "duration": 0.09682,
     "end_time": "2021-07-08T10:00:23.342215",
     "exception": false,
     "start_time": "2021-07-08T10:00:23.245395",
     "status": "completed"
    },
    "tags": []
   },
   "outputs": [
    {
     "data": {
      "text/plain": [
       "Name                    0\n",
       "Location                0\n",
       "Year                    0\n",
       "Kilometers_Driven       0\n",
       "Fuel_Type               0\n",
       "Transmission            0\n",
       "Owner_Type              0\n",
       "Mileage                 0\n",
       "Engine                 10\n",
       "Power                  10\n",
       "Seats                  11\n",
       "New_Price            1052\n",
       "dtype: int64"
      ]
     },
     "execution_count": 23,
     "metadata": {},
     "output_type": "execute_result"
    }
   ],
   "source": [
    "test_data.isnull().sum()"
   ]
  },
  {
   "cell_type": "code",
   "execution_count": 24,
   "id": "primary-portuguese",
   "metadata": {
    "execution": {
     "iopub.execute_input": "2021-07-08T10:00:23.534039Z",
     "iopub.status.busy": "2021-07-08T10:00:23.533007Z",
     "iopub.status.idle": "2021-07-08T10:00:23.541288Z",
     "shell.execute_reply": "2021-07-08T10:00:23.540573Z",
     "shell.execute_reply.started": "2021-07-08T09:39:19.183172Z"
    },
    "papermill": {
     "duration": 0.106366,
     "end_time": "2021-07-08T10:00:23.541445",
     "exception": false,
     "start_time": "2021-07-08T10:00:23.435079",
     "status": "completed"
    },
    "tags": []
   },
   "outputs": [
    {
     "data": {
      "text/plain": [
       "5.0     5014\n",
       "7.0      674\n",
       "8.0      134\n",
       "4.0       99\n",
       "6.0       31\n",
       "2.0       16\n",
       "10.0       5\n",
       "9.0        3\n",
       "0.0        1\n",
       "Name: Seats, dtype: int64"
      ]
     },
     "execution_count": 24,
     "metadata": {},
     "output_type": "execute_result"
    }
   ],
   "source": [
    "train_data['Seats'].value_counts()"
   ]
  },
  {
   "cell_type": "code",
   "execution_count": 25,
   "id": "scheduled-cartoon",
   "metadata": {
    "execution": {
     "iopub.execute_input": "2021-07-08T10:00:23.735983Z",
     "iopub.status.busy": "2021-07-08T10:00:23.735162Z",
     "iopub.status.idle": "2021-07-08T10:00:23.752564Z",
     "shell.execute_reply": "2021-07-08T10:00:23.752152Z",
     "shell.execute_reply.started": "2021-07-08T09:39:19.193649Z"
    },
    "papermill": {
     "duration": 0.115986,
     "end_time": "2021-07-08T10:00:23.752692",
     "exception": false,
     "start_time": "2021-07-08T10:00:23.636706",
     "status": "completed"
    },
    "tags": []
   },
   "outputs": [],
   "source": [
    "zero_seat = train_data[train_data['Seats'] == 0].index\n",
    "train_data.drop(zero_seat, axis=0, inplace=True)\n"
   ]
  },
  {
   "cell_type": "code",
   "execution_count": 26,
   "id": "surprised-parliament",
   "metadata": {
    "execution": {
     "iopub.execute_input": "2021-07-08T10:00:23.934930Z",
     "iopub.status.busy": "2021-07-08T10:00:23.933960Z",
     "iopub.status.idle": "2021-07-08T10:00:23.936627Z",
     "shell.execute_reply": "2021-07-08T10:00:23.936230Z",
     "shell.execute_reply.started": "2021-07-08T09:39:19.212893Z"
    },
    "papermill": {
     "duration": 0.093902,
     "end_time": "2021-07-08T10:00:23.936754",
     "exception": false,
     "start_time": "2021-07-08T10:00:23.842852",
     "status": "completed"
    },
    "tags": []
   },
   "outputs": [],
   "source": [
    "train_data.drop('New_Price', axis=1, inplace=True)\n",
    "test_data.drop('New_Price', axis=1, inplace=True)"
   ]
  },
  {
   "cell_type": "code",
   "execution_count": 27,
   "id": "historic-allergy",
   "metadata": {
    "execution": {
     "iopub.execute_input": "2021-07-08T10:00:24.115606Z",
     "iopub.status.busy": "2021-07-08T10:00:24.114874Z",
     "iopub.status.idle": "2021-07-08T10:00:24.118418Z",
     "shell.execute_reply": "2021-07-08T10:00:24.118010Z",
     "shell.execute_reply.started": "2021-07-08T09:39:19.222426Z"
    },
    "papermill": {
     "duration": 0.100324,
     "end_time": "2021-07-08T10:00:24.118538",
     "exception": false,
     "start_time": "2021-07-08T10:00:24.018214",
     "status": "completed"
    },
    "tags": []
   },
   "outputs": [
    {
     "data": {
      "text/html": [
       "<div>\n",
       "<style scoped>\n",
       "    .dataframe tbody tr th:only-of-type {\n",
       "        vertical-align: middle;\n",
       "    }\n",
       "\n",
       "    .dataframe tbody tr th {\n",
       "        vertical-align: top;\n",
       "    }\n",
       "\n",
       "    .dataframe thead th {\n",
       "        text-align: right;\n",
       "    }\n",
       "</style>\n",
       "<table border=\"1\" class=\"dataframe\">\n",
       "  <thead>\n",
       "    <tr style=\"text-align: right;\">\n",
       "      <th></th>\n",
       "      <th>Name</th>\n",
       "      <th>Location</th>\n",
       "      <th>Year</th>\n",
       "      <th>Kilometers_Driven</th>\n",
       "      <th>Fuel_Type</th>\n",
       "      <th>Transmission</th>\n",
       "      <th>Owner_Type</th>\n",
       "      <th>Mileage</th>\n",
       "      <th>Engine</th>\n",
       "      <th>Power</th>\n",
       "      <th>Seats</th>\n",
       "      <th>Price</th>\n",
       "    </tr>\n",
       "  </thead>\n",
       "  <tbody>\n",
       "    <tr>\n",
       "      <th>0</th>\n",
       "      <td>Maruti Wagon R LXI CNG</td>\n",
       "      <td>Mumbai</td>\n",
       "      <td>2010</td>\n",
       "      <td>72000</td>\n",
       "      <td>CNG</td>\n",
       "      <td>Manual</td>\n",
       "      <td>First</td>\n",
       "      <td>26.6 km/kg</td>\n",
       "      <td>998 CC</td>\n",
       "      <td>58.16 bhp</td>\n",
       "      <td>5.0</td>\n",
       "      <td>1.75</td>\n",
       "    </tr>\n",
       "    <tr>\n",
       "      <th>1</th>\n",
       "      <td>Hyundai Creta 1.6 CRDi SX Option</td>\n",
       "      <td>Pune</td>\n",
       "      <td>2015</td>\n",
       "      <td>41000</td>\n",
       "      <td>Diesel</td>\n",
       "      <td>Manual</td>\n",
       "      <td>First</td>\n",
       "      <td>19.67 kmpl</td>\n",
       "      <td>1582 CC</td>\n",
       "      <td>126.2 bhp</td>\n",
       "      <td>5.0</td>\n",
       "      <td>12.50</td>\n",
       "    </tr>\n",
       "  </tbody>\n",
       "</table>\n",
       "</div>"
      ],
      "text/plain": [
       "                               Name Location  Year  Kilometers_Driven  \\\n",
       "0            Maruti Wagon R LXI CNG   Mumbai  2010              72000   \n",
       "1  Hyundai Creta 1.6 CRDi SX Option     Pune  2015              41000   \n",
       "\n",
       "  Fuel_Type Transmission Owner_Type     Mileage   Engine      Power  Seats  \\\n",
       "0       CNG       Manual      First  26.6 km/kg   998 CC  58.16 bhp    5.0   \n",
       "1    Diesel       Manual      First  19.67 kmpl  1582 CC  126.2 bhp    5.0   \n",
       "\n",
       "   Price  \n",
       "0   1.75  \n",
       "1  12.50  "
      ]
     },
     "execution_count": 27,
     "metadata": {},
     "output_type": "execute_result"
    }
   ],
   "source": [
    "train_data.head(2)              "
   ]
  },
  {
   "cell_type": "code",
   "execution_count": 28,
   "id": "usual-boating",
   "metadata": {
    "execution": {
     "iopub.execute_input": "2021-07-08T10:00:24.301047Z",
     "iopub.status.busy": "2021-07-08T10:00:24.299705Z",
     "iopub.status.idle": "2021-07-08T10:00:24.311765Z",
     "shell.execute_reply": "2021-07-08T10:00:24.311076Z",
     "shell.execute_reply.started": "2021-07-08T09:39:19.241403Z"
    },
    "papermill": {
     "duration": 0.108974,
     "end_time": "2021-07-08T10:00:24.311961",
     "exception": false,
     "start_time": "2021-07-08T10:00:24.202987",
     "status": "completed"
    },
    "tags": []
   },
   "outputs": [
    {
     "data": {
      "text/plain": [
       "Name\n",
       "Ambassador Classic Nova Diesel     1.35\n",
       "Audi A3 35 TDI Attraction         16.50\n",
       "Audi A3 35 TDI Premium            19.25\n",
       "Audi A3 35 TDI Premium Plus       18.90\n",
       "Audi A3 35 TDI Technology         22.50\n",
       "                                  ...  \n",
       "Volvo XC60 D4 Summum              18.25\n",
       "Volvo XC60 D5                     58.30\n",
       "Volvo XC60 D5 Inscription         17.18\n",
       "Volvo XC90 2007-2015 D5 AT AWD    23.58\n",
       "Volvo XC90 2007-2015 D5 AWD       23.65\n",
       "Name: Price, Length: 1875, dtype: float64"
      ]
     },
     "execution_count": 28,
     "metadata": {},
     "output_type": "execute_result"
    }
   ],
   "source": [
    "train_data.groupby(by = 'Name')['Price'].sum()"
   ]
  },
  {
   "cell_type": "code",
   "execution_count": 29,
   "id": "surprising-diagnosis",
   "metadata": {
    "execution": {
     "iopub.execute_input": "2021-07-08T10:00:24.498503Z",
     "iopub.status.busy": "2021-07-08T10:00:24.497675Z",
     "iopub.status.idle": "2021-07-08T10:00:24.504435Z",
     "shell.execute_reply": "2021-07-08T10:00:24.505046Z",
     "shell.execute_reply.started": "2021-07-08T09:39:19.257562Z"
    },
    "papermill": {
     "duration": 0.09712,
     "end_time": "2021-07-08T10:00:24.505233",
     "exception": false,
     "start_time": "2021-07-08T10:00:24.408113",
     "status": "completed"
    },
    "tags": []
   },
   "outputs": [
    {
     "data": {
      "text/plain": [
       "Engine\n",
       "1047 CC     24.60\n",
       "1061 CC     49.10\n",
       "1086 CC    230.52\n",
       "1120 CC    247.19\n",
       "1150 CC      9.53\n",
       "            ...  \n",
       "970 CC       0.85\n",
       "993 CC      13.12\n",
       "995 CC      16.24\n",
       "998 CC     842.34\n",
       "999 CC     126.62\n",
       "Name: Price, Length: 145, dtype: float64"
      ]
     },
     "execution_count": 29,
     "metadata": {},
     "output_type": "execute_result"
    }
   ],
   "source": [
    "train_data.groupby(by = 'Engine')['Price'].sum()"
   ]
  },
  {
   "cell_type": "markdown",
   "id": "weird-patrol",
   "metadata": {
    "papermill": {
     "duration": 0.095157,
     "end_time": "2021-07-08T10:00:24.695816",
     "exception": false,
     "start_time": "2021-07-08T10:00:24.600659",
     "status": "completed"
    },
    "tags": []
   },
   "source": [
    "### Name feature dropped "
   ]
  },
  {
   "cell_type": "code",
   "execution_count": 30,
   "id": "primary-insurance",
   "metadata": {
    "execution": {
     "iopub.execute_input": "2021-07-08T10:00:24.891304Z",
     "iopub.status.busy": "2021-07-08T10:00:24.890328Z",
     "iopub.status.idle": "2021-07-08T10:00:24.897389Z",
     "shell.execute_reply": "2021-07-08T10:00:24.898111Z",
     "shell.execute_reply.started": "2021-07-08T09:39:19.269483Z"
    },
    "papermill": {
     "duration": 0.107947,
     "end_time": "2021-07-08T10:00:24.898319",
     "exception": false,
     "start_time": "2021-07-08T10:00:24.790372",
     "status": "completed"
    },
    "tags": []
   },
   "outputs": [
    {
     "name": "stdout",
     "output_type": "stream",
     "text": [
      "(6018, 12) (1234, 11)\n",
      "(6018, 11) (1234, 10)\n"
     ]
    }
   ],
   "source": [
    "print(train_data.shape, test_data.shape)\n",
    "train_data.drop('Name', axis=1, inplace=True)\n",
    "test_data.drop('Name', axis=1, inplace=True)\n",
    "print(train_data.shape, test_data.shape)"
   ]
  },
  {
   "cell_type": "code",
   "execution_count": 31,
   "id": "infectious-encounter",
   "metadata": {
    "execution": {
     "iopub.execute_input": "2021-07-08T10:00:25.077723Z",
     "iopub.status.busy": "2021-07-08T10:00:25.076987Z",
     "iopub.status.idle": "2021-07-08T10:00:25.084796Z",
     "shell.execute_reply": "2021-07-08T10:00:25.085486Z",
     "shell.execute_reply.started": "2021-07-08T09:39:19.280854Z"
    },
    "papermill": {
     "duration": 0.097299,
     "end_time": "2021-07-08T10:00:25.085688",
     "exception": false,
     "start_time": "2021-07-08T10:00:24.988389",
     "status": "completed"
    },
    "tags": []
   },
   "outputs": [
    {
     "name": "stdout",
     "output_type": "stream",
     "text": [
      "['Mumbai' 'Pune' 'Chennai' 'Coimbatore' 'Hyderabad' 'Jaipur' 'Kochi'\n",
      " 'Kolkata' 'Delhi' 'Bangalore' 'Ahmedabad'] \n",
      "\n",
      "Mumbai        790\n",
      "Hyderabad     741\n",
      "Kochi         651\n",
      "Coimbatore    636\n",
      "Pune          622\n",
      "Delhi         554\n",
      "Kolkata       535\n",
      "Chennai       494\n",
      "Jaipur        413\n",
      "Bangalore     358\n",
      "Ahmedabad     224\n",
      "Name: Location, dtype: int64\n"
     ]
    }
   ],
   "source": [
    "print(train_data.Location.unique(), '\\n')\n",
    "print(train_data.Location.value_counts())"
   ]
  },
  {
   "cell_type": "markdown",
   "id": "weighted-candidate",
   "metadata": {
    "papermill": {
     "duration": 0.084282,
     "end_time": "2021-07-08T10:00:25.254642",
     "exception": false,
     "start_time": "2021-07-08T10:00:25.170360",
     "status": "completed"
    },
    "tags": []
   },
   "source": [
    "### We have mileage in kmpl as well as km/kg."
   ]
  },
  {
   "cell_type": "code",
   "execution_count": 32,
   "id": "exempt-mayor",
   "metadata": {
    "execution": {
     "iopub.execute_input": "2021-07-08T10:00:25.430090Z",
     "iopub.status.busy": "2021-07-08T10:00:25.429245Z",
     "iopub.status.idle": "2021-07-08T10:00:25.432522Z",
     "shell.execute_reply": "2021-07-08T10:00:25.433003Z",
     "shell.execute_reply.started": "2021-07-08T09:39:19.293126Z"
    },
    "papermill": {
     "duration": 0.094555,
     "end_time": "2021-07-08T10:00:25.433164",
     "exception": false,
     "start_time": "2021-07-08T10:00:25.338609",
     "status": "completed"
    },
    "tags": []
   },
   "outputs": [
    {
     "data": {
      "text/plain": [
       "0       False\n",
       "1       False\n",
       "2       False\n",
       "3       False\n",
       "4       False\n",
       "        ...  \n",
       "6014    False\n",
       "6015    False\n",
       "6016    False\n",
       "6017    False\n",
       "6018    False\n",
       "Name: Mileage, Length: 6018, dtype: bool"
      ]
     },
     "execution_count": 32,
     "metadata": {},
     "output_type": "execute_result"
    }
   ],
   "source": [
    "train_data.Mileage.isna()"
   ]
  },
  {
   "cell_type": "code",
   "execution_count": 33,
   "id": "needed-season",
   "metadata": {
    "execution": {
     "iopub.execute_input": "2021-07-08T10:00:25.622164Z",
     "iopub.status.busy": "2021-07-08T10:00:25.621200Z",
     "iopub.status.idle": "2021-07-08T10:00:25.623319Z",
     "shell.execute_reply": "2021-07-08T10:00:25.623808Z",
     "shell.execute_reply.started": "2021-07-08T09:39:19.305750Z"
    },
    "papermill": {
     "duration": 0.094665,
     "end_time": "2021-07-08T10:00:25.623985",
     "exception": false,
     "start_time": "2021-07-08T10:00:25.529320",
     "status": "completed"
    },
    "tags": []
   },
   "outputs": [],
   "source": [
    "train_data['Mileage'] = train_data['Mileage'].fillna('17.0 kmpl')"
   ]
  },
  {
   "cell_type": "code",
   "execution_count": 34,
   "id": "union-racing",
   "metadata": {
    "execution": {
     "iopub.execute_input": "2021-07-08T10:00:25.823941Z",
     "iopub.status.busy": "2021-07-08T10:00:25.823081Z",
     "iopub.status.idle": "2021-07-08T10:00:25.826621Z",
     "shell.execute_reply": "2021-07-08T10:00:25.827096Z",
     "shell.execute_reply.started": "2021-07-08T09:39:19.313360Z"
    },
    "papermill": {
     "duration": 0.112655,
     "end_time": "2021-07-08T10:00:25.827270",
     "exception": false,
     "start_time": "2021-07-08T10:00:25.714615",
     "status": "completed"
    },
    "tags": []
   },
   "outputs": [
    {
     "name": "stdout",
     "output_type": "stream",
     "text": [
      "The number of rows with Km/Kg : 66 \n",
      "The number of rows with kmpl : 5952 \n"
     ]
    }
   ],
   "source": [
    "kmkg = 0\n",
    "kmpl = 0\n",
    "for i in train_data.Mileage:\n",
    "    if str(i).endswith(\"km/kg\"):\n",
    "        kmkg+=1\n",
    "    elif str(i).endswith(\"kmpl\"):\n",
    "        kmpl+=1\n",
    "print('The number of rows with Km/Kg : {} '.format(kmkg))\n",
    "print('The number of rows with kmpl : {} '.format(kmpl))"
   ]
  },
  {
   "cell_type": "code",
   "execution_count": 35,
   "id": "entitled-journal",
   "metadata": {
    "execution": {
     "iopub.execute_input": "2021-07-08T10:00:26.047236Z",
     "iopub.status.busy": "2021-07-08T10:00:26.044945Z",
     "iopub.status.idle": "2021-07-08T10:00:26.050257Z",
     "shell.execute_reply": "2021-07-08T10:00:26.049677Z",
     "shell.execute_reply.started": "2021-07-08T09:39:19.329064Z"
    },
    "papermill": {
     "duration": 0.115319,
     "end_time": "2021-07-08T10:00:26.050405",
     "exception": false,
     "start_time": "2021-07-08T10:00:25.935086",
     "status": "completed"
    },
    "tags": []
   },
   "outputs": [],
   "source": [
    "Correct_Mileage= []\n",
    "for i in train_data.Mileage:\n",
    "    if str(i).endswith('km/kg'):\n",
    "        i = i[:-6]\n",
    "        i = float(i)*1.40\n",
    "        Correct_Mileage.append(float(i))\n",
    "    elif str(i).endswith('kmpl'):\n",
    "        i = i[:-6]\n",
    "        #print(i)\n",
    "        Correct_Mileage.append(float(i))"
   ]
  },
  {
   "cell_type": "code",
   "execution_count": 36,
   "id": "further-texture",
   "metadata": {
    "execution": {
     "iopub.execute_input": "2021-07-08T10:00:26.235721Z",
     "iopub.status.busy": "2021-07-08T10:00:26.235125Z",
     "iopub.status.idle": "2021-07-08T10:00:26.238241Z",
     "shell.execute_reply": "2021-07-08T10:00:26.238814Z",
     "shell.execute_reply.started": "2021-07-08T09:39:19.346508Z"
    },
    "papermill": {
     "duration": 0.093547,
     "end_time": "2021-07-08T10:00:26.239027",
     "exception": false,
     "start_time": "2021-07-08T10:00:26.145480",
     "status": "completed"
    },
    "tags": []
   },
   "outputs": [
    {
     "name": "stdout",
     "output_type": "stream",
     "text": [
      "(6018,)\n",
      "6018\n"
     ]
    }
   ],
   "source": [
    "print(train_data['Mileage'].shape)\n",
    "print(len(Correct_Mileage))"
   ]
  },
  {
   "cell_type": "code",
   "execution_count": 37,
   "id": "desirable-florida",
   "metadata": {
    "execution": {
     "iopub.execute_input": "2021-07-08T10:00:26.417020Z",
     "iopub.status.busy": "2021-07-08T10:00:26.416371Z",
     "iopub.status.idle": "2021-07-08T10:00:26.419243Z",
     "shell.execute_reply": "2021-07-08T10:00:26.419713Z",
     "shell.execute_reply.started": "2021-07-08T09:39:19.352705Z"
    },
    "papermill": {
     "duration": 0.094949,
     "end_time": "2021-07-08T10:00:26.419870",
     "exception": false,
     "start_time": "2021-07-08T10:00:26.324921",
     "status": "completed"
    },
    "tags": []
   },
   "outputs": [],
   "source": [
    "train_data['Mileage']=Correct_Mileage"
   ]
  },
  {
   "cell_type": "code",
   "execution_count": 38,
   "id": "serious-crisis",
   "metadata": {
    "execution": {
     "iopub.execute_input": "2021-07-08T10:00:26.603817Z",
     "iopub.status.busy": "2021-07-08T10:00:26.602752Z",
     "iopub.status.idle": "2021-07-08T10:00:26.611706Z",
     "shell.execute_reply": "2021-07-08T10:00:26.611171Z",
     "shell.execute_reply.started": "2021-07-08T09:39:19.362271Z"
    },
    "papermill": {
     "duration": 0.106974,
     "end_time": "2021-07-08T10:00:26.611871",
     "exception": false,
     "start_time": "2021-07-08T10:00:26.504897",
     "status": "completed"
    },
    "tags": []
   },
   "outputs": [
    {
     "data": {
      "text/plain": [
       "17.00    527\n",
       "18.00    516\n",
       "19.00    297\n",
       "16.00    291\n",
       "15.00    277\n",
       "        ... \n",
       "6.00       1\n",
       "8.70       1\n",
       "26.88      1\n",
       "18.48      1\n",
       "23.10      1\n",
       "Name: Mileage, Length: 162, dtype: int64"
      ]
     },
     "execution_count": 38,
     "metadata": {},
     "output_type": "execute_result"
    }
   ],
   "source": [
    "train_data['Mileage'].value_counts()"
   ]
  },
  {
   "cell_type": "code",
   "execution_count": 39,
   "id": "specialized-object",
   "metadata": {
    "execution": {
     "iopub.execute_input": "2021-07-08T10:00:26.805979Z",
     "iopub.status.busy": "2021-07-08T10:00:26.804960Z",
     "iopub.status.idle": "2021-07-08T10:00:26.807225Z",
     "shell.execute_reply": "2021-07-08T10:00:26.807588Z",
     "shell.execute_reply.started": "2021-07-08T09:39:19.374913Z"
    },
    "papermill": {
     "duration": 0.097033,
     "end_time": "2021-07-08T10:00:26.807733",
     "exception": false,
     "start_time": "2021-07-08T10:00:26.710700",
     "status": "completed"
    },
    "tags": []
   },
   "outputs": [],
   "source": [
    "Correct_Mileage= []\n",
    "for i in test_data.Mileage:\n",
    "    if str(i).endswith('km/kg'):\n",
    "        i = i[:-6]\n",
    "        i = float(i)*1.40\n",
    "        Correct_Mileage.append(float(i))\n",
    "    elif str(i).endswith('kmpl'):\n",
    "        i = i[:-6]\n",
    "        #print(i)\n",
    "        Correct_Mileage.append(float(i))"
   ]
  },
  {
   "cell_type": "code",
   "execution_count": 40,
   "id": "civilian-knitting",
   "metadata": {
    "execution": {
     "iopub.execute_input": "2021-07-08T10:00:27.000698Z",
     "iopub.status.busy": "2021-07-08T10:00:26.999967Z",
     "iopub.status.idle": "2021-07-08T10:00:27.003810Z",
     "shell.execute_reply": "2021-07-08T10:00:27.004489Z",
     "shell.execute_reply.started": "2021-07-08T09:39:19.385729Z"
    },
    "papermill": {
     "duration": 0.106314,
     "end_time": "2021-07-08T10:00:27.004774",
     "exception": false,
     "start_time": "2021-07-08T10:00:26.898460",
     "status": "completed"
    },
    "tags": []
   },
   "outputs": [
    {
     "name": "stdout",
     "output_type": "stream",
     "text": [
      "(1234,)\n",
      "1234\n"
     ]
    }
   ],
   "source": [
    "print(test_data['Mileage'].shape)\n",
    "print(len(Correct_Mileage))"
   ]
  },
  {
   "cell_type": "code",
   "execution_count": 41,
   "id": "statewide-proposal",
   "metadata": {
    "execution": {
     "iopub.execute_input": "2021-07-08T10:00:27.206355Z",
     "iopub.status.busy": "2021-07-08T10:00:27.205340Z",
     "iopub.status.idle": "2021-07-08T10:00:27.208255Z",
     "shell.execute_reply": "2021-07-08T10:00:27.207777Z",
     "shell.execute_reply.started": "2021-07-08T09:39:19.395549Z"
    },
    "papermill": {
     "duration": 0.105596,
     "end_time": "2021-07-08T10:00:27.208387",
     "exception": false,
     "start_time": "2021-07-08T10:00:27.102791",
     "status": "completed"
    },
    "tags": []
   },
   "outputs": [],
   "source": [
    "test_data['Mileage']=Correct_Mileage"
   ]
  },
  {
   "cell_type": "code",
   "execution_count": 42,
   "id": "sound-kitchen",
   "metadata": {
    "execution": {
     "iopub.execute_input": "2021-07-08T10:00:27.437909Z",
     "iopub.status.busy": "2021-07-08T10:00:27.437161Z",
     "iopub.status.idle": "2021-07-08T10:00:27.440065Z",
     "shell.execute_reply": "2021-07-08T10:00:27.440567Z",
     "shell.execute_reply.started": "2021-07-08T09:39:19.404931Z"
    },
    "papermill": {
     "duration": 0.136711,
     "end_time": "2021-07-08T10:00:27.440744",
     "exception": false,
     "start_time": "2021-07-08T10:00:27.304033",
     "status": "completed"
    },
    "tags": []
   },
   "outputs": [
    {
     "data": {
      "text/plain": [
       "18.00    113\n",
       "17.00     99\n",
       "19.00     71\n",
       "13.00     60\n",
       "15.00     52\n",
       "        ... \n",
       "15.60      1\n",
       "8.00       1\n",
       "15.50      1\n",
       "19.90      1\n",
       "24.22      1\n",
       "Name: Mileage, Length: 121, dtype: int64"
      ]
     },
     "execution_count": 42,
     "metadata": {},
     "output_type": "execute_result"
    }
   ],
   "source": [
    "test_data['Mileage'].value_counts()"
   ]
  },
  {
   "cell_type": "code",
   "execution_count": 43,
   "id": "marked-eleven",
   "metadata": {
    "execution": {
     "iopub.execute_input": "2021-07-08T10:00:27.629211Z",
     "iopub.status.busy": "2021-07-08T10:00:27.628384Z",
     "iopub.status.idle": "2021-07-08T10:00:27.632210Z",
     "shell.execute_reply": "2021-07-08T10:00:27.631751Z",
     "shell.execute_reply.started": "2021-07-08T09:39:19.417530Z"
    },
    "papermill": {
     "duration": 0.104281,
     "end_time": "2021-07-08T10:00:27.632326",
     "exception": false,
     "start_time": "2021-07-08T10:00:27.528045",
     "status": "completed"
    },
    "tags": []
   },
   "outputs": [
    {
     "data": {
      "text/html": [
       "<div>\n",
       "<style scoped>\n",
       "    .dataframe tbody tr th:only-of-type {\n",
       "        vertical-align: middle;\n",
       "    }\n",
       "\n",
       "    .dataframe tbody tr th {\n",
       "        vertical-align: top;\n",
       "    }\n",
       "\n",
       "    .dataframe thead th {\n",
       "        text-align: right;\n",
       "    }\n",
       "</style>\n",
       "<table border=\"1\" class=\"dataframe\">\n",
       "  <thead>\n",
       "    <tr style=\"text-align: right;\">\n",
       "      <th></th>\n",
       "      <th>Location</th>\n",
       "      <th>Year</th>\n",
       "      <th>Kilometers_Driven</th>\n",
       "      <th>Fuel_Type</th>\n",
       "      <th>Transmission</th>\n",
       "      <th>Owner_Type</th>\n",
       "      <th>Mileage</th>\n",
       "      <th>Engine</th>\n",
       "      <th>Power</th>\n",
       "      <th>Seats</th>\n",
       "      <th>Price</th>\n",
       "    </tr>\n",
       "  </thead>\n",
       "  <tbody>\n",
       "    <tr>\n",
       "      <th>0</th>\n",
       "      <td>Mumbai</td>\n",
       "      <td>2010</td>\n",
       "      <td>72000</td>\n",
       "      <td>CNG</td>\n",
       "      <td>Manual</td>\n",
       "      <td>First</td>\n",
       "      <td>37.24</td>\n",
       "      <td>998 CC</td>\n",
       "      <td>58.16 bhp</td>\n",
       "      <td>5.0</td>\n",
       "      <td>1.75</td>\n",
       "    </tr>\n",
       "    <tr>\n",
       "      <th>1</th>\n",
       "      <td>Pune</td>\n",
       "      <td>2015</td>\n",
       "      <td>41000</td>\n",
       "      <td>Diesel</td>\n",
       "      <td>Manual</td>\n",
       "      <td>First</td>\n",
       "      <td>19.60</td>\n",
       "      <td>1582 CC</td>\n",
       "      <td>126.2 bhp</td>\n",
       "      <td>5.0</td>\n",
       "      <td>12.50</td>\n",
       "    </tr>\n",
       "    <tr>\n",
       "      <th>2</th>\n",
       "      <td>Chennai</td>\n",
       "      <td>2011</td>\n",
       "      <td>46000</td>\n",
       "      <td>Petrol</td>\n",
       "      <td>Manual</td>\n",
       "      <td>First</td>\n",
       "      <td>18.00</td>\n",
       "      <td>1199 CC</td>\n",
       "      <td>88.7 bhp</td>\n",
       "      <td>5.0</td>\n",
       "      <td>4.50</td>\n",
       "    </tr>\n",
       "    <tr>\n",
       "      <th>3</th>\n",
       "      <td>Chennai</td>\n",
       "      <td>2012</td>\n",
       "      <td>87000</td>\n",
       "      <td>Diesel</td>\n",
       "      <td>Manual</td>\n",
       "      <td>First</td>\n",
       "      <td>20.70</td>\n",
       "      <td>1248 CC</td>\n",
       "      <td>88.76 bhp</td>\n",
       "      <td>7.0</td>\n",
       "      <td>6.00</td>\n",
       "    </tr>\n",
       "    <tr>\n",
       "      <th>4</th>\n",
       "      <td>Coimbatore</td>\n",
       "      <td>2013</td>\n",
       "      <td>40670</td>\n",
       "      <td>Diesel</td>\n",
       "      <td>Automatic</td>\n",
       "      <td>Second</td>\n",
       "      <td>15.00</td>\n",
       "      <td>1968 CC</td>\n",
       "      <td>140.8 bhp</td>\n",
       "      <td>5.0</td>\n",
       "      <td>17.74</td>\n",
       "    </tr>\n",
       "  </tbody>\n",
       "</table>\n",
       "</div>"
      ],
      "text/plain": [
       "     Location  Year  Kilometers_Driven Fuel_Type Transmission Owner_Type  \\\n",
       "0      Mumbai  2010              72000       CNG       Manual      First   \n",
       "1        Pune  2015              41000    Diesel       Manual      First   \n",
       "2     Chennai  2011              46000    Petrol       Manual      First   \n",
       "3     Chennai  2012              87000    Diesel       Manual      First   \n",
       "4  Coimbatore  2013              40670    Diesel    Automatic     Second   \n",
       "\n",
       "   Mileage   Engine      Power  Seats  Price  \n",
       "0    37.24   998 CC  58.16 bhp    5.0   1.75  \n",
       "1    19.60  1582 CC  126.2 bhp    5.0  12.50  \n",
       "2    18.00  1199 CC   88.7 bhp    5.0   4.50  \n",
       "3    20.70  1248 CC  88.76 bhp    7.0   6.00  \n",
       "4    15.00  1968 CC  140.8 bhp    5.0  17.74  "
      ]
     },
     "execution_count": 43,
     "metadata": {},
     "output_type": "execute_result"
    }
   ],
   "source": [
    "train_data.head()"
   ]
  },
  {
   "cell_type": "code",
   "execution_count": 44,
   "id": "grave-piano",
   "metadata": {
    "execution": {
     "iopub.execute_input": "2021-07-08T10:00:27.824992Z",
     "iopub.status.busy": "2021-07-08T10:00:27.824105Z",
     "iopub.status.idle": "2021-07-08T10:00:27.827442Z",
     "shell.execute_reply": "2021-07-08T10:00:27.827996Z",
     "shell.execute_reply.started": "2021-07-08T09:39:19.436586Z"
    },
    "papermill": {
     "duration": 0.106291,
     "end_time": "2021-07-08T10:00:27.828141",
     "exception": false,
     "start_time": "2021-07-08T10:00:27.721850",
     "status": "completed"
    },
    "tags": []
   },
   "outputs": [
    {
     "data": {
      "text/plain": [
       "array(['998 CC', '1582 CC', '1199 CC', '1248 CC', '1968 CC', '814 CC',\n",
       "       '1461 CC', '2755 CC', '1598 CC', '1462 CC', '1497 CC', '2179 CC',\n",
       "       '2477 CC', '1498 CC', '2143 CC', '1995 CC', '1984 CC', '1197 CC',\n",
       "       '2494 CC', '1798 CC', '2696 CC', '2698 CC', '1061 CC', '1198 CC',\n",
       "       '2987 CC', '796 CC', '624 CC', '1999 CC', '1991 CC', '2694 CC',\n",
       "       '1120 CC', '2498 CC', '799 CC', '2393 CC', '1399 CC', '1796 CC',\n",
       "       '2148 CC', '1396 CC', '1950 CC', '4806 CC', '1998 CC', '1086 CC',\n",
       "       '1193 CC', '2982 CC', '1493 CC', '2967 CC', '2993 CC', '1196 CC',\n",
       "       '1799 CC', '2497 CC', '2354 CC', '1373 CC', '2996 CC', '1591 CC',\n",
       "       '2894 CC', '5461 CC', '1595 CC', '936 CC', '1997 CC', nan,\n",
       "       '1896 CC', '1390 CC', '1364 CC', '2199 CC', '993 CC', '999 CC',\n",
       "       '1405 CC', '2956 CC', '1794 CC', '995 CC', '2496 CC', '1599 CC',\n",
       "       '2400 CC', '1495 CC', '2523 CC', '793 CC', '4134 CC', '1596 CC',\n",
       "       '1395 CC', '2953 CC', '1586 CC', '2362 CC', '1496 CC', '1368 CC',\n",
       "       '1298 CC', '1956 CC', '1299 CC', '3498 CC', '2835 CC', '1150 CC',\n",
       "       '3198 CC', '1343 CC', '1499 CC', '1186 CC', '1590 CC', '2609 CC',\n",
       "       '2499 CC', '2446 CC', '1978 CC', '2360 CC', '3436 CC', '2198 CC',\n",
       "       '4367 CC', '2706 CC', '1422 CC', '2979 CC', '1969 CC', '1489 CC',\n",
       "       '2489 CC', '1242 CC', '1388 CC', '1172 CC', '2495 CC', '1194 CC',\n",
       "       '3200 CC', '1781 CC', '1341 CC', '2773 CC', '3597 CC', '1985 CC',\n",
       "       '2147 CC', '1047 CC', '2999 CC', '2995 CC', '2997 CC', '1948 CC',\n",
       "       '2359 CC', '4395 CC', '2349 CC', '2720 CC', '1468 CC', '2487 CC',\n",
       "       '1597 CC', '2771 CC', '72 CC', '4951 CC', '970 CC', '2925 CC',\n",
       "       '2200 CC', '5000 CC', '2149 CC', '5998 CC', '2092 CC', '5204 CC',\n",
       "       '2112 CC', '1797 CC'], dtype=object)"
      ]
     },
     "execution_count": 44,
     "metadata": {},
     "output_type": "execute_result"
    }
   ],
   "source": [
    "train_data['Engine'].unique()"
   ]
  },
  {
   "cell_type": "code",
   "execution_count": 45,
   "id": "usual-fiber",
   "metadata": {
    "execution": {
     "iopub.execute_input": "2021-07-08T10:00:28.017174Z",
     "iopub.status.busy": "2021-07-08T10:00:28.016318Z",
     "iopub.status.idle": "2021-07-08T10:00:28.019762Z",
     "shell.execute_reply": "2021-07-08T10:00:28.020389Z",
     "shell.execute_reply.started": "2021-07-08T09:39:19.447768Z"
    },
    "papermill": {
     "duration": 0.10097,
     "end_time": "2021-07-08T10:00:28.020551",
     "exception": false,
     "start_time": "2021-07-08T10:00:27.919581",
     "status": "completed"
    },
    "tags": []
   },
   "outputs": [
    {
     "data": {
      "text/plain": [
       "array(['998 CC', '796 CC', '2393 CC', '1364 CC', '1197 CC', '2179 CC',\n",
       "       '2982 CC', '814 CC', '1497 CC', '1968 CC', '1794 CC', '1248 CC',\n",
       "       '1598 CC', '1995 CC', '1399 CC', '1298 CC', '1198 CC', nan,\n",
       "       '1799 CC', '1299 CC', '1498 CC', '1086 CC', '2835 CC', '1591 CC',\n",
       "       '2494 CC', '1373 CC', '2143 CC', '2953 CC', '1396 CC', '1798 CC',\n",
       "       '1199 CC', '1196 CC', '1461 CC', '2487 CC', '1582 CC', '2496 CC',\n",
       "       '1368 CC', '1596 CC', '1595 CC', '2354 CC', '624 CC', '2993 CC',\n",
       "       '936 CC', '2987 CC', '1999 CC', '999 CC', '2000 CC', '1493 CC',\n",
       "       '1120 CC', '3498 CC', '1496 CC', '1405 CC', '1896 CC', '2967 CC',\n",
       "       '2477 CC', '1948 CC', '1172 CC', '1797 CC', '2498 CC', '1061 CC',\n",
       "       '1150 CC', '1495 CC', '2499 CC', '1796 CC', '2362 CC', '2523 CC',\n",
       "       '5998 CC', '2755 CC', '2400 CC', '2349 CC', '995 CC', '1998 CC',\n",
       "       '2999 CC', '1795 CC', '1984 CC', '793 CC', '1341 CC', '1186 CC',\n",
       "       '1499 CC', '1991 CC', '799 CC', '1586 CC', '2497 CC', '1956 CC',\n",
       "       '1950 CC', '1462 CC', '1388 CC', '1997 CC', '3696 CC', '2446 CC',\n",
       "       '2198 CC', '2489 CC', '2147 CC', '2359 CC', '2996 CC', '2495 CC',\n",
       "       '2148 CC', '4395 CC', '1389 CC', '1193 CC', '2696 CC', '2979 CC',\n",
       "       '1590 CC', '1599 CC', '1047 CC'], dtype=object)"
      ]
     },
     "execution_count": 45,
     "metadata": {},
     "output_type": "execute_result"
    }
   ],
   "source": [
    "test_data['Engine'].unique()"
   ]
  },
  {
   "cell_type": "code",
   "execution_count": 46,
   "id": "recorded-group",
   "metadata": {
    "execution": {
     "iopub.execute_input": "2021-07-08T10:00:28.228711Z",
     "iopub.status.busy": "2021-07-08T10:00:28.227881Z",
     "iopub.status.idle": "2021-07-08T10:00:28.231323Z",
     "shell.execute_reply": "2021-07-08T10:00:28.231886Z",
     "shell.execute_reply.started": "2021-07-08T09:39:19.457281Z"
    },
    "papermill": {
     "duration": 0.112511,
     "end_time": "2021-07-08T10:00:28.232068",
     "exception": false,
     "start_time": "2021-07-08T10:00:28.119557",
     "status": "completed"
    },
    "tags": []
   },
   "outputs": [
    {
     "data": {
      "text/plain": [
       "1197 CC    606\n",
       "1248 CC    512\n",
       "1498 CC    304\n",
       "998 CC     259\n",
       "2179 CC    240\n",
       "          ... \n",
       "2147 CC      1\n",
       "2999 CC      1\n",
       "2112 CC      1\n",
       "970 CC       1\n",
       "2995 CC      1\n",
       "Name: Engine, Length: 145, dtype: int64"
      ]
     },
     "execution_count": 46,
     "metadata": {},
     "output_type": "execute_result"
    }
   ],
   "source": [
    "train_data['Engine'].value_counts()"
   ]
  },
  {
   "cell_type": "code",
   "execution_count": 47,
   "id": "welcome-apache",
   "metadata": {
    "execution": {
     "iopub.execute_input": "2021-07-08T10:00:28.440592Z",
     "iopub.status.busy": "2021-07-08T10:00:28.439898Z",
     "iopub.status.idle": "2021-07-08T10:00:28.442981Z",
     "shell.execute_reply": "2021-07-08T10:00:28.443511Z",
     "shell.execute_reply.started": "2021-07-08T09:39:19.469758Z"
    },
    "papermill": {
     "duration": 0.106757,
     "end_time": "2021-07-08T10:00:28.443670",
     "exception": false,
     "start_time": "2021-07-08T10:00:28.336913",
     "status": "completed"
    },
    "tags": []
   },
   "outputs": [
    {
     "data": {
      "text/plain": [
       "36"
      ]
     },
     "execution_count": 47,
     "metadata": {},
     "output_type": "execute_result"
    }
   ],
   "source": [
    "train_data.Engine.isnull().sum()"
   ]
  },
  {
   "cell_type": "code",
   "execution_count": 48,
   "id": "prospective-texas",
   "metadata": {
    "execution": {
     "iopub.execute_input": "2021-07-08T10:00:28.626143Z",
     "iopub.status.busy": "2021-07-08T10:00:28.625093Z",
     "iopub.status.idle": "2021-07-08T10:00:28.627631Z",
     "shell.execute_reply": "2021-07-08T10:00:28.628047Z",
     "shell.execute_reply.started": "2021-07-08T09:39:19.479431Z"
    },
    "papermill": {
     "duration": 0.09751,
     "end_time": "2021-07-08T10:00:28.628211",
     "exception": false,
     "start_time": "2021-07-08T10:00:28.530701",
     "status": "completed"
    },
    "tags": []
   },
   "outputs": [],
   "source": [
    "train_data.Engine = train_data.Engine.fillna('1197 CC')\n",
    "test_data['Engine'] = test_data['Engine'].fillna('1197 CC')"
   ]
  },
  {
   "cell_type": "markdown",
   "id": "satisfied-jason",
   "metadata": {
    "papermill": {
     "duration": 0.086731,
     "end_time": "2021-07-08T10:00:28.803182",
     "exception": false,
     "start_time": "2021-07-08T10:00:28.716451",
     "status": "completed"
    },
    "tags": []
   },
   "source": [
    "### Since cc - Cubic Centimeter is a standard for measuring engine displacement, we can ignore 'CC' and just use the numerical part of data provided to us"
   ]
  },
  {
   "cell_type": "code",
   "execution_count": 49,
   "id": "dimensional-respondent",
   "metadata": {
    "execution": {
     "iopub.execute_input": "2021-07-08T10:00:29.086480Z",
     "iopub.status.busy": "2021-07-08T10:00:29.085390Z",
     "iopub.status.idle": "2021-07-08T10:00:29.801949Z",
     "shell.execute_reply": "2021-07-08T10:00:29.801301Z",
     "shell.execute_reply.started": "2021-07-08T09:39:19.488642Z"
    },
    "papermill": {
     "duration": 0.886917,
     "end_time": "2021-07-08T10:00:29.802082",
     "exception": false,
     "start_time": "2021-07-08T10:00:28.915165",
     "status": "completed"
    },
    "tags": []
   },
   "outputs": [],
   "source": [
    "for i in train_data.index:\n",
    "    \n",
    "    train_data['Engine'][i] = train_data['Engine'][i].split()[0]"
   ]
  },
  {
   "cell_type": "code",
   "execution_count": 50,
   "id": "minute-illness",
   "metadata": {
    "execution": {
     "iopub.execute_input": "2021-07-08T10:00:29.984678Z",
     "iopub.status.busy": "2021-07-08T10:00:29.981866Z",
     "iopub.status.idle": "2021-07-08T10:00:30.072821Z",
     "shell.execute_reply": "2021-07-08T10:00:30.072363Z",
     "shell.execute_reply.started": "2021-07-08T09:39:19.980098Z"
    },
    "papermill": {
     "duration": 0.183536,
     "end_time": "2021-07-08T10:00:30.072974",
     "exception": false,
     "start_time": "2021-07-08T10:00:29.889438",
     "status": "completed"
    },
    "tags": []
   },
   "outputs": [],
   "source": [
    "for i in test_data.index:\n",
    "    \n",
    "    test_data['Engine'][i] = test_data['Engine'][i].split()[0]"
   ]
  },
  {
   "cell_type": "code",
   "execution_count": 51,
   "id": "found-count",
   "metadata": {
    "execution": {
     "iopub.execute_input": "2021-07-08T10:00:30.280301Z",
     "iopub.status.busy": "2021-07-08T10:00:30.279317Z",
     "iopub.status.idle": "2021-07-08T10:00:30.284249Z",
     "shell.execute_reply": "2021-07-08T10:00:30.284860Z",
     "shell.execute_reply.started": "2021-07-08T09:39:20.078098Z"
    },
    "papermill": {
     "duration": 0.116755,
     "end_time": "2021-07-08T10:00:30.285057",
     "exception": false,
     "start_time": "2021-07-08T10:00:30.168302",
     "status": "completed"
    },
    "tags": []
   },
   "outputs": [
    {
     "data": {
      "text/html": [
       "<div>\n",
       "<style scoped>\n",
       "    .dataframe tbody tr th:only-of-type {\n",
       "        vertical-align: middle;\n",
       "    }\n",
       "\n",
       "    .dataframe tbody tr th {\n",
       "        vertical-align: top;\n",
       "    }\n",
       "\n",
       "    .dataframe thead th {\n",
       "        text-align: right;\n",
       "    }\n",
       "</style>\n",
       "<table border=\"1\" class=\"dataframe\">\n",
       "  <thead>\n",
       "    <tr style=\"text-align: right;\">\n",
       "      <th></th>\n",
       "      <th>Location</th>\n",
       "      <th>Year</th>\n",
       "      <th>Kilometers_Driven</th>\n",
       "      <th>Fuel_Type</th>\n",
       "      <th>Transmission</th>\n",
       "      <th>Owner_Type</th>\n",
       "      <th>Mileage</th>\n",
       "      <th>Engine</th>\n",
       "      <th>Power</th>\n",
       "      <th>Seats</th>\n",
       "      <th>Price</th>\n",
       "    </tr>\n",
       "  </thead>\n",
       "  <tbody>\n",
       "    <tr>\n",
       "      <th>0</th>\n",
       "      <td>Mumbai</td>\n",
       "      <td>2010</td>\n",
       "      <td>72000</td>\n",
       "      <td>CNG</td>\n",
       "      <td>Manual</td>\n",
       "      <td>First</td>\n",
       "      <td>37.24</td>\n",
       "      <td>998</td>\n",
       "      <td>58.16 bhp</td>\n",
       "      <td>5.0</td>\n",
       "      <td>1.75</td>\n",
       "    </tr>\n",
       "    <tr>\n",
       "      <th>1</th>\n",
       "      <td>Pune</td>\n",
       "      <td>2015</td>\n",
       "      <td>41000</td>\n",
       "      <td>Diesel</td>\n",
       "      <td>Manual</td>\n",
       "      <td>First</td>\n",
       "      <td>19.60</td>\n",
       "      <td>1582</td>\n",
       "      <td>126.2 bhp</td>\n",
       "      <td>5.0</td>\n",
       "      <td>12.50</td>\n",
       "    </tr>\n",
       "    <tr>\n",
       "      <th>2</th>\n",
       "      <td>Chennai</td>\n",
       "      <td>2011</td>\n",
       "      <td>46000</td>\n",
       "      <td>Petrol</td>\n",
       "      <td>Manual</td>\n",
       "      <td>First</td>\n",
       "      <td>18.00</td>\n",
       "      <td>1199</td>\n",
       "      <td>88.7 bhp</td>\n",
       "      <td>5.0</td>\n",
       "      <td>4.50</td>\n",
       "    </tr>\n",
       "    <tr>\n",
       "      <th>3</th>\n",
       "      <td>Chennai</td>\n",
       "      <td>2012</td>\n",
       "      <td>87000</td>\n",
       "      <td>Diesel</td>\n",
       "      <td>Manual</td>\n",
       "      <td>First</td>\n",
       "      <td>20.70</td>\n",
       "      <td>1248</td>\n",
       "      <td>88.76 bhp</td>\n",
       "      <td>7.0</td>\n",
       "      <td>6.00</td>\n",
       "    </tr>\n",
       "    <tr>\n",
       "      <th>4</th>\n",
       "      <td>Coimbatore</td>\n",
       "      <td>2013</td>\n",
       "      <td>40670</td>\n",
       "      <td>Diesel</td>\n",
       "      <td>Automatic</td>\n",
       "      <td>Second</td>\n",
       "      <td>15.00</td>\n",
       "      <td>1968</td>\n",
       "      <td>140.8 bhp</td>\n",
       "      <td>5.0</td>\n",
       "      <td>17.74</td>\n",
       "    </tr>\n",
       "    <tr>\n",
       "      <th>5</th>\n",
       "      <td>Hyderabad</td>\n",
       "      <td>2012</td>\n",
       "      <td>75000</td>\n",
       "      <td>LPG</td>\n",
       "      <td>Manual</td>\n",
       "      <td>First</td>\n",
       "      <td>29.54</td>\n",
       "      <td>814</td>\n",
       "      <td>55.2 bhp</td>\n",
       "      <td>5.0</td>\n",
       "      <td>2.35</td>\n",
       "    </tr>\n",
       "    <tr>\n",
       "      <th>6</th>\n",
       "      <td>Jaipur</td>\n",
       "      <td>2013</td>\n",
       "      <td>86999</td>\n",
       "      <td>Diesel</td>\n",
       "      <td>Manual</td>\n",
       "      <td>First</td>\n",
       "      <td>23.00</td>\n",
       "      <td>1461</td>\n",
       "      <td>63.1 bhp</td>\n",
       "      <td>5.0</td>\n",
       "      <td>3.50</td>\n",
       "    </tr>\n",
       "    <tr>\n",
       "      <th>7</th>\n",
       "      <td>Mumbai</td>\n",
       "      <td>2016</td>\n",
       "      <td>36000</td>\n",
       "      <td>Diesel</td>\n",
       "      <td>Automatic</td>\n",
       "      <td>First</td>\n",
       "      <td>11.30</td>\n",
       "      <td>2755</td>\n",
       "      <td>171.5 bhp</td>\n",
       "      <td>8.0</td>\n",
       "      <td>17.50</td>\n",
       "    </tr>\n",
       "    <tr>\n",
       "      <th>8</th>\n",
       "      <td>Pune</td>\n",
       "      <td>2013</td>\n",
       "      <td>64430</td>\n",
       "      <td>Diesel</td>\n",
       "      <td>Manual</td>\n",
       "      <td>First</td>\n",
       "      <td>20.50</td>\n",
       "      <td>1598</td>\n",
       "      <td>103.6 bhp</td>\n",
       "      <td>5.0</td>\n",
       "      <td>5.20</td>\n",
       "    </tr>\n",
       "    <tr>\n",
       "      <th>9</th>\n",
       "      <td>Chennai</td>\n",
       "      <td>2012</td>\n",
       "      <td>65932</td>\n",
       "      <td>Diesel</td>\n",
       "      <td>Manual</td>\n",
       "      <td>Second</td>\n",
       "      <td>22.00</td>\n",
       "      <td>1248</td>\n",
       "      <td>74 bhp</td>\n",
       "      <td>5.0</td>\n",
       "      <td>1.95</td>\n",
       "    </tr>\n",
       "    <tr>\n",
       "      <th>10</th>\n",
       "      <td>Kochi</td>\n",
       "      <td>2018</td>\n",
       "      <td>25692</td>\n",
       "      <td>Petrol</td>\n",
       "      <td>Manual</td>\n",
       "      <td>First</td>\n",
       "      <td>21.50</td>\n",
       "      <td>1462</td>\n",
       "      <td>103.25 bhp</td>\n",
       "      <td>5.0</td>\n",
       "      <td>9.95</td>\n",
       "    </tr>\n",
       "    <tr>\n",
       "      <th>11</th>\n",
       "      <td>Kolkata</td>\n",
       "      <td>2012</td>\n",
       "      <td>60000</td>\n",
       "      <td>Petrol</td>\n",
       "      <td>Automatic</td>\n",
       "      <td>First</td>\n",
       "      <td>16.00</td>\n",
       "      <td>1497</td>\n",
       "      <td>116.3 bhp</td>\n",
       "      <td>5.0</td>\n",
       "      <td>4.49</td>\n",
       "    </tr>\n",
       "    <tr>\n",
       "      <th>12</th>\n",
       "      <td>Jaipur</td>\n",
       "      <td>2015</td>\n",
       "      <td>64424</td>\n",
       "      <td>Diesel</td>\n",
       "      <td>Manual</td>\n",
       "      <td>First</td>\n",
       "      <td>25.00</td>\n",
       "      <td>1248</td>\n",
       "      <td>74 bhp</td>\n",
       "      <td>5.0</td>\n",
       "      <td>5.60</td>\n",
       "    </tr>\n",
       "    <tr>\n",
       "      <th>13</th>\n",
       "      <td>Delhi</td>\n",
       "      <td>2014</td>\n",
       "      <td>72000</td>\n",
       "      <td>Diesel</td>\n",
       "      <td>Automatic</td>\n",
       "      <td>First</td>\n",
       "      <td>12.00</td>\n",
       "      <td>2179</td>\n",
       "      <td>187.7 bhp</td>\n",
       "      <td>5.0</td>\n",
       "      <td>27.00</td>\n",
       "    </tr>\n",
       "    <tr>\n",
       "      <th>14</th>\n",
       "      <td>Pune</td>\n",
       "      <td>2012</td>\n",
       "      <td>85000</td>\n",
       "      <td>Diesel</td>\n",
       "      <td>Automatic</td>\n",
       "      <td>Second</td>\n",
       "      <td>0.00</td>\n",
       "      <td>2179</td>\n",
       "      <td>115 bhp</td>\n",
       "      <td>5.0</td>\n",
       "      <td>17.50</td>\n",
       "    </tr>\n",
       "    <tr>\n",
       "      <th>15</th>\n",
       "      <td>Delhi</td>\n",
       "      <td>2014</td>\n",
       "      <td>110000</td>\n",
       "      <td>Diesel</td>\n",
       "      <td>Manual</td>\n",
       "      <td>First</td>\n",
       "      <td>13.00</td>\n",
       "      <td>2477</td>\n",
       "      <td>175.56 bhp</td>\n",
       "      <td>7.0</td>\n",
       "      <td>15.00</td>\n",
       "    </tr>\n",
       "    <tr>\n",
       "      <th>16</th>\n",
       "      <td>Kochi</td>\n",
       "      <td>2016</td>\n",
       "      <td>58950</td>\n",
       "      <td>Diesel</td>\n",
       "      <td>Manual</td>\n",
       "      <td>First</td>\n",
       "      <td>25.00</td>\n",
       "      <td>1498</td>\n",
       "      <td>98.6 bhp</td>\n",
       "      <td>5.0</td>\n",
       "      <td>5.40</td>\n",
       "    </tr>\n",
       "    <tr>\n",
       "      <th>17</th>\n",
       "      <td>Jaipur</td>\n",
       "      <td>2017</td>\n",
       "      <td>25000</td>\n",
       "      <td>Diesel</td>\n",
       "      <td>Manual</td>\n",
       "      <td>First</td>\n",
       "      <td>28.00</td>\n",
       "      <td>1248</td>\n",
       "      <td>74 bhp</td>\n",
       "      <td>5.0</td>\n",
       "      <td>5.99</td>\n",
       "    </tr>\n",
       "    <tr>\n",
       "      <th>18</th>\n",
       "      <td>Kochi</td>\n",
       "      <td>2014</td>\n",
       "      <td>77469</td>\n",
       "      <td>Diesel</td>\n",
       "      <td>Manual</td>\n",
       "      <td>First</td>\n",
       "      <td>20.40</td>\n",
       "      <td>1461</td>\n",
       "      <td>83.8 bhp</td>\n",
       "      <td>5.0</td>\n",
       "      <td>6.34</td>\n",
       "    </tr>\n",
       "    <tr>\n",
       "      <th>19</th>\n",
       "      <td>Bangalore</td>\n",
       "      <td>2014</td>\n",
       "      <td>78500</td>\n",
       "      <td>Diesel</td>\n",
       "      <td>Automatic</td>\n",
       "      <td>First</td>\n",
       "      <td>14.80</td>\n",
       "      <td>2143</td>\n",
       "      <td>167.62 bhp</td>\n",
       "      <td>5.0</td>\n",
       "      <td>28.00</td>\n",
       "    </tr>\n",
       "  </tbody>\n",
       "</table>\n",
       "</div>"
      ],
      "text/plain": [
       "      Location  Year  Kilometers_Driven Fuel_Type Transmission Owner_Type  \\\n",
       "0       Mumbai  2010              72000       CNG       Manual      First   \n",
       "1         Pune  2015              41000    Diesel       Manual      First   \n",
       "2      Chennai  2011              46000    Petrol       Manual      First   \n",
       "3      Chennai  2012              87000    Diesel       Manual      First   \n",
       "4   Coimbatore  2013              40670    Diesel    Automatic     Second   \n",
       "5    Hyderabad  2012              75000       LPG       Manual      First   \n",
       "6       Jaipur  2013              86999    Diesel       Manual      First   \n",
       "7       Mumbai  2016              36000    Diesel    Automatic      First   \n",
       "8         Pune  2013              64430    Diesel       Manual      First   \n",
       "9      Chennai  2012              65932    Diesel       Manual     Second   \n",
       "10       Kochi  2018              25692    Petrol       Manual      First   \n",
       "11     Kolkata  2012              60000    Petrol    Automatic      First   \n",
       "12      Jaipur  2015              64424    Diesel       Manual      First   \n",
       "13       Delhi  2014              72000    Diesel    Automatic      First   \n",
       "14        Pune  2012              85000    Diesel    Automatic     Second   \n",
       "15       Delhi  2014             110000    Diesel       Manual      First   \n",
       "16       Kochi  2016              58950    Diesel       Manual      First   \n",
       "17      Jaipur  2017              25000    Diesel       Manual      First   \n",
       "18       Kochi  2014              77469    Diesel       Manual      First   \n",
       "19   Bangalore  2014              78500    Diesel    Automatic      First   \n",
       "\n",
       "    Mileage Engine       Power  Seats  Price  \n",
       "0     37.24    998   58.16 bhp    5.0   1.75  \n",
       "1     19.60   1582   126.2 bhp    5.0  12.50  \n",
       "2     18.00   1199    88.7 bhp    5.0   4.50  \n",
       "3     20.70   1248   88.76 bhp    7.0   6.00  \n",
       "4     15.00   1968   140.8 bhp    5.0  17.74  \n",
       "5     29.54    814    55.2 bhp    5.0   2.35  \n",
       "6     23.00   1461    63.1 bhp    5.0   3.50  \n",
       "7     11.30   2755   171.5 bhp    8.0  17.50  \n",
       "8     20.50   1598   103.6 bhp    5.0   5.20  \n",
       "9     22.00   1248      74 bhp    5.0   1.95  \n",
       "10    21.50   1462  103.25 bhp    5.0   9.95  \n",
       "11    16.00   1497   116.3 bhp    5.0   4.49  \n",
       "12    25.00   1248      74 bhp    5.0   5.60  \n",
       "13    12.00   2179   187.7 bhp    5.0  27.00  \n",
       "14     0.00   2179     115 bhp    5.0  17.50  \n",
       "15    13.00   2477  175.56 bhp    7.0  15.00  \n",
       "16    25.00   1498    98.6 bhp    5.0   5.40  \n",
       "17    28.00   1248      74 bhp    5.0   5.99  \n",
       "18    20.40   1461    83.8 bhp    5.0   6.34  \n",
       "19    14.80   2143  167.62 bhp    5.0  28.00  "
      ]
     },
     "execution_count": 51,
     "metadata": {},
     "output_type": "execute_result"
    }
   ],
   "source": [
    "train_data.head(20)"
   ]
  },
  {
   "cell_type": "code",
   "execution_count": 52,
   "id": "willing-airplane",
   "metadata": {
    "execution": {
     "iopub.execute_input": "2021-07-08T10:00:30.509276Z",
     "iopub.status.busy": "2021-07-08T10:00:30.507635Z",
     "iopub.status.idle": "2021-07-08T10:00:30.513096Z",
     "shell.execute_reply": "2021-07-08T10:00:30.513633Z",
     "shell.execute_reply.started": "2021-07-08T09:39:20.100627Z"
    },
    "papermill": {
     "duration": 0.127974,
     "end_time": "2021-07-08T10:00:30.513853",
     "exception": false,
     "start_time": "2021-07-08T10:00:30.385879",
     "status": "completed"
    },
    "tags": []
   },
   "outputs": [
    {
     "data": {
      "text/html": [
       "<div>\n",
       "<style scoped>\n",
       "    .dataframe tbody tr th:only-of-type {\n",
       "        vertical-align: middle;\n",
       "    }\n",
       "\n",
       "    .dataframe tbody tr th {\n",
       "        vertical-align: top;\n",
       "    }\n",
       "\n",
       "    .dataframe thead th {\n",
       "        text-align: right;\n",
       "    }\n",
       "</style>\n",
       "<table border=\"1\" class=\"dataframe\">\n",
       "  <thead>\n",
       "    <tr style=\"text-align: right;\">\n",
       "      <th></th>\n",
       "      <th>Location</th>\n",
       "      <th>Year</th>\n",
       "      <th>Kilometers_Driven</th>\n",
       "      <th>Fuel_Type</th>\n",
       "      <th>Transmission</th>\n",
       "      <th>Owner_Type</th>\n",
       "      <th>Mileage</th>\n",
       "      <th>Engine</th>\n",
       "      <th>Power</th>\n",
       "      <th>Seats</th>\n",
       "    </tr>\n",
       "  </thead>\n",
       "  <tbody>\n",
       "    <tr>\n",
       "      <th>0</th>\n",
       "      <td>Delhi</td>\n",
       "      <td>2014</td>\n",
       "      <td>40929</td>\n",
       "      <td>CNG</td>\n",
       "      <td>Manual</td>\n",
       "      <td>First</td>\n",
       "      <td>45.164</td>\n",
       "      <td>998</td>\n",
       "      <td>58.2 bhp</td>\n",
       "      <td>4.0</td>\n",
       "    </tr>\n",
       "    <tr>\n",
       "      <th>1</th>\n",
       "      <td>Coimbatore</td>\n",
       "      <td>2013</td>\n",
       "      <td>54493</td>\n",
       "      <td>Petrol</td>\n",
       "      <td>Manual</td>\n",
       "      <td>Second</td>\n",
       "      <td>24.000</td>\n",
       "      <td>796</td>\n",
       "      <td>47.3 bhp</td>\n",
       "      <td>5.0</td>\n",
       "    </tr>\n",
       "    <tr>\n",
       "      <th>2</th>\n",
       "      <td>Mumbai</td>\n",
       "      <td>2017</td>\n",
       "      <td>34000</td>\n",
       "      <td>Diesel</td>\n",
       "      <td>Manual</td>\n",
       "      <td>First</td>\n",
       "      <td>13.600</td>\n",
       "      <td>2393</td>\n",
       "      <td>147.8 bhp</td>\n",
       "      <td>7.0</td>\n",
       "    </tr>\n",
       "    <tr>\n",
       "      <th>3</th>\n",
       "      <td>Hyderabad</td>\n",
       "      <td>2012</td>\n",
       "      <td>139000</td>\n",
       "      <td>Diesel</td>\n",
       "      <td>Manual</td>\n",
       "      <td>First</td>\n",
       "      <td>23.500</td>\n",
       "      <td>1364</td>\n",
       "      <td>null bhp</td>\n",
       "      <td>5.0</td>\n",
       "    </tr>\n",
       "    <tr>\n",
       "      <th>4</th>\n",
       "      <td>Mumbai</td>\n",
       "      <td>2014</td>\n",
       "      <td>29000</td>\n",
       "      <td>Petrol</td>\n",
       "      <td>Manual</td>\n",
       "      <td>First</td>\n",
       "      <td>18.000</td>\n",
       "      <td>1197</td>\n",
       "      <td>82.85 bhp</td>\n",
       "      <td>5.0</td>\n",
       "    </tr>\n",
       "    <tr>\n",
       "      <th>5</th>\n",
       "      <td>Coimbatore</td>\n",
       "      <td>2016</td>\n",
       "      <td>85609</td>\n",
       "      <td>Diesel</td>\n",
       "      <td>Manual</td>\n",
       "      <td>Second</td>\n",
       "      <td>16.000</td>\n",
       "      <td>2179</td>\n",
       "      <td>140 bhp</td>\n",
       "      <td>7.0</td>\n",
       "    </tr>\n",
       "    <tr>\n",
       "      <th>6</th>\n",
       "      <td>Pune</td>\n",
       "      <td>2015</td>\n",
       "      <td>59000</td>\n",
       "      <td>Diesel</td>\n",
       "      <td>Automatic</td>\n",
       "      <td>First</td>\n",
       "      <td>12.500</td>\n",
       "      <td>2982</td>\n",
       "      <td>168.7 bhp</td>\n",
       "      <td>7.0</td>\n",
       "    </tr>\n",
       "    <tr>\n",
       "      <th>7</th>\n",
       "      <td>Jaipur</td>\n",
       "      <td>2013</td>\n",
       "      <td>65000</td>\n",
       "      <td>Petrol</td>\n",
       "      <td>Manual</td>\n",
       "      <td>First</td>\n",
       "      <td>21.000</td>\n",
       "      <td>814</td>\n",
       "      <td>55.2 bhp</td>\n",
       "      <td>5.0</td>\n",
       "    </tr>\n",
       "    <tr>\n",
       "      <th>8</th>\n",
       "      <td>Mumbai</td>\n",
       "      <td>2011</td>\n",
       "      <td>66000</td>\n",
       "      <td>Petrol</td>\n",
       "      <td>Manual</td>\n",
       "      <td>Second</td>\n",
       "      <td>17.000</td>\n",
       "      <td>1497</td>\n",
       "      <td>118 bhp</td>\n",
       "      <td>5.0</td>\n",
       "    </tr>\n",
       "    <tr>\n",
       "      <th>9</th>\n",
       "      <td>Coimbatore</td>\n",
       "      <td>2015</td>\n",
       "      <td>54684</td>\n",
       "      <td>Diesel</td>\n",
       "      <td>Manual</td>\n",
       "      <td>First</td>\n",
       "      <td>15.000</td>\n",
       "      <td>2179</td>\n",
       "      <td>140 bhp</td>\n",
       "      <td>7.0</td>\n",
       "    </tr>\n",
       "    <tr>\n",
       "      <th>10</th>\n",
       "      <td>Mumbai</td>\n",
       "      <td>2012</td>\n",
       "      <td>78000</td>\n",
       "      <td>Diesel</td>\n",
       "      <td>Automatic</td>\n",
       "      <td>Second</td>\n",
       "      <td>12.000</td>\n",
       "      <td>1968</td>\n",
       "      <td>167.6 bhp</td>\n",
       "      <td>5.0</td>\n",
       "    </tr>\n",
       "    <tr>\n",
       "      <th>11</th>\n",
       "      <td>Jaipur</td>\n",
       "      <td>2016</td>\n",
       "      <td>21000</td>\n",
       "      <td>Petrol</td>\n",
       "      <td>Manual</td>\n",
       "      <td>First</td>\n",
       "      <td>18.000</td>\n",
       "      <td>1197</td>\n",
       "      <td>82 bhp</td>\n",
       "      <td>5.0</td>\n",
       "    </tr>\n",
       "    <tr>\n",
       "      <th>12</th>\n",
       "      <td>Chennai</td>\n",
       "      <td>2007</td>\n",
       "      <td>90000</td>\n",
       "      <td>Petrol</td>\n",
       "      <td>Manual</td>\n",
       "      <td>Third</td>\n",
       "      <td>13.000</td>\n",
       "      <td>1794</td>\n",
       "      <td>125 bhp</td>\n",
       "      <td>5.0</td>\n",
       "    </tr>\n",
       "    <tr>\n",
       "      <th>13</th>\n",
       "      <td>Coimbatore</td>\n",
       "      <td>2008</td>\n",
       "      <td>87628</td>\n",
       "      <td>Diesel</td>\n",
       "      <td>Manual</td>\n",
       "      <td>First</td>\n",
       "      <td>17.000</td>\n",
       "      <td>1248</td>\n",
       "      <td>75 bhp</td>\n",
       "      <td>5.0</td>\n",
       "    </tr>\n",
       "    <tr>\n",
       "      <th>14</th>\n",
       "      <td>Mumbai</td>\n",
       "      <td>2014</td>\n",
       "      <td>45000</td>\n",
       "      <td>Petrol</td>\n",
       "      <td>Manual</td>\n",
       "      <td>First</td>\n",
       "      <td>13.200</td>\n",
       "      <td>1598</td>\n",
       "      <td>102.5 bhp</td>\n",
       "      <td>5.0</td>\n",
       "    </tr>\n",
       "    <tr>\n",
       "      <th>15</th>\n",
       "      <td>Coimbatore</td>\n",
       "      <td>2013</td>\n",
       "      <td>30788</td>\n",
       "      <td>Diesel</td>\n",
       "      <td>Automatic</td>\n",
       "      <td>First</td>\n",
       "      <td>17.000</td>\n",
       "      <td>1995</td>\n",
       "      <td>184 bhp</td>\n",
       "      <td>5.0</td>\n",
       "    </tr>\n",
       "    <tr>\n",
       "      <th>16</th>\n",
       "      <td>Hyderabad</td>\n",
       "      <td>2015</td>\n",
       "      <td>39524</td>\n",
       "      <td>Diesel</td>\n",
       "      <td>Automatic</td>\n",
       "      <td>First</td>\n",
       "      <td>19.500</td>\n",
       "      <td>1995</td>\n",
       "      <td>184 bhp</td>\n",
       "      <td>5.0</td>\n",
       "    </tr>\n",
       "    <tr>\n",
       "      <th>17</th>\n",
       "      <td>Chennai</td>\n",
       "      <td>2009</td>\n",
       "      <td>140000</td>\n",
       "      <td>Diesel</td>\n",
       "      <td>Manual</td>\n",
       "      <td>First</td>\n",
       "      <td>13.000</td>\n",
       "      <td>1399</td>\n",
       "      <td>68 bhp</td>\n",
       "      <td>5.0</td>\n",
       "    </tr>\n",
       "    <tr>\n",
       "      <th>18</th>\n",
       "      <td>Kochi</td>\n",
       "      <td>2019</td>\n",
       "      <td>15409</td>\n",
       "      <td>Petrol</td>\n",
       "      <td>Automatic</td>\n",
       "      <td>First</td>\n",
       "      <td>22.000</td>\n",
       "      <td>1197</td>\n",
       "      <td>81.80 bhp</td>\n",
       "      <td>5.0</td>\n",
       "    </tr>\n",
       "    <tr>\n",
       "      <th>19</th>\n",
       "      <td>Jaipur</td>\n",
       "      <td>2015</td>\n",
       "      <td>36502</td>\n",
       "      <td>Petrol</td>\n",
       "      <td>Manual</td>\n",
       "      <td>First</td>\n",
       "      <td>17.000</td>\n",
       "      <td>1298</td>\n",
       "      <td>85.8 bhp</td>\n",
       "      <td>5.0</td>\n",
       "    </tr>\n",
       "  </tbody>\n",
       "</table>\n",
       "</div>"
      ],
      "text/plain": [
       "      Location  Year  Kilometers_Driven Fuel_Type Transmission Owner_Type  \\\n",
       "0        Delhi  2014              40929       CNG       Manual      First   \n",
       "1   Coimbatore  2013              54493    Petrol       Manual     Second   \n",
       "2       Mumbai  2017              34000    Diesel       Manual      First   \n",
       "3    Hyderabad  2012             139000    Diesel       Manual      First   \n",
       "4       Mumbai  2014              29000    Petrol       Manual      First   \n",
       "5   Coimbatore  2016              85609    Diesel       Manual     Second   \n",
       "6         Pune  2015              59000    Diesel    Automatic      First   \n",
       "7       Jaipur  2013              65000    Petrol       Manual      First   \n",
       "8       Mumbai  2011              66000    Petrol       Manual     Second   \n",
       "9   Coimbatore  2015              54684    Diesel       Manual      First   \n",
       "10      Mumbai  2012              78000    Diesel    Automatic     Second   \n",
       "11      Jaipur  2016              21000    Petrol       Manual      First   \n",
       "12     Chennai  2007              90000    Petrol       Manual      Third   \n",
       "13  Coimbatore  2008              87628    Diesel       Manual      First   \n",
       "14      Mumbai  2014              45000    Petrol       Manual      First   \n",
       "15  Coimbatore  2013              30788    Diesel    Automatic      First   \n",
       "16   Hyderabad  2015              39524    Diesel    Automatic      First   \n",
       "17     Chennai  2009             140000    Diesel       Manual      First   \n",
       "18       Kochi  2019              15409    Petrol    Automatic      First   \n",
       "19      Jaipur  2015              36502    Petrol       Manual      First   \n",
       "\n",
       "    Mileage Engine      Power  Seats  \n",
       "0    45.164    998   58.2 bhp    4.0  \n",
       "1    24.000    796   47.3 bhp    5.0  \n",
       "2    13.600   2393  147.8 bhp    7.0  \n",
       "3    23.500   1364   null bhp    5.0  \n",
       "4    18.000   1197  82.85 bhp    5.0  \n",
       "5    16.000   2179    140 bhp    7.0  \n",
       "6    12.500   2982  168.7 bhp    7.0  \n",
       "7    21.000    814   55.2 bhp    5.0  \n",
       "8    17.000   1497    118 bhp    5.0  \n",
       "9    15.000   2179    140 bhp    7.0  \n",
       "10   12.000   1968  167.6 bhp    5.0  \n",
       "11   18.000   1197     82 bhp    5.0  \n",
       "12   13.000   1794    125 bhp    5.0  \n",
       "13   17.000   1248     75 bhp    5.0  \n",
       "14   13.200   1598  102.5 bhp    5.0  \n",
       "15   17.000   1995    184 bhp    5.0  \n",
       "16   19.500   1995    184 bhp    5.0  \n",
       "17   13.000   1399     68 bhp    5.0  \n",
       "18   22.000   1197  81.80 bhp    5.0  \n",
       "19   17.000   1298   85.8 bhp    5.0  "
      ]
     },
     "execution_count": 52,
     "metadata": {},
     "output_type": "execute_result"
    }
   ],
   "source": [
    "test_data.head(20)"
   ]
  },
  {
   "cell_type": "markdown",
   "id": "southern-snake",
   "metadata": {
    "papermill": {
     "duration": 0.100451,
     "end_time": "2021-07-08T10:00:30.723324",
     "exception": false,
     "start_time": "2021-07-08T10:00:30.622873",
     "status": "completed"
    },
    "tags": []
   },
   "source": [
    "#### We have to change data type from object to something suitable like - numeric"
   ]
  },
  {
   "cell_type": "code",
   "execution_count": 53,
   "id": "accepting-australian",
   "metadata": {
    "execution": {
     "iopub.execute_input": "2021-07-08T10:00:30.918613Z",
     "iopub.status.busy": "2021-07-08T10:00:30.917733Z",
     "iopub.status.idle": "2021-07-08T10:00:30.928648Z",
     "shell.execute_reply": "2021-07-08T10:00:30.928214Z",
     "shell.execute_reply.started": "2021-07-08T09:39:20.123477Z"
    },
    "papermill": {
     "duration": 0.108058,
     "end_time": "2021-07-08T10:00:30.928766",
     "exception": false,
     "start_time": "2021-07-08T10:00:30.820708",
     "status": "completed"
    },
    "tags": []
   },
   "outputs": [
    {
     "name": "stdout",
     "output_type": "stream",
     "text": [
      "<class 'pandas.core.frame.DataFrame'>\n",
      "Int64Index: 6018 entries, 0 to 6018\n",
      "Data columns (total 11 columns):\n",
      " #   Column             Non-Null Count  Dtype  \n",
      "---  ------             --------------  -----  \n",
      " 0   Location           6018 non-null   object \n",
      " 1   Year               6018 non-null   int64  \n",
      " 2   Kilometers_Driven  6018 non-null   int64  \n",
      " 3   Fuel_Type          6018 non-null   object \n",
      " 4   Transmission       6018 non-null   object \n",
      " 5   Owner_Type         6018 non-null   object \n",
      " 6   Mileage            6018 non-null   float64\n",
      " 7   Engine             6018 non-null   object \n",
      " 8   Power              5982 non-null   object \n",
      " 9   Seats              5976 non-null   float64\n",
      " 10  Price              6018 non-null   float64\n",
      "dtypes: float64(3), int64(2), object(6)\n",
      "memory usage: 724.2+ KB\n"
     ]
    }
   ],
   "source": [
    "train_data.info()"
   ]
  },
  {
   "cell_type": "code",
   "execution_count": 54,
   "id": "painted-brass",
   "metadata": {
    "execution": {
     "iopub.execute_input": "2021-07-08T10:00:31.115020Z",
     "iopub.status.busy": "2021-07-08T10:00:31.114256Z",
     "iopub.status.idle": "2021-07-08T10:00:31.117270Z",
     "shell.execute_reply": "2021-07-08T10:00:31.116851Z",
     "shell.execute_reply.started": "2021-07-08T09:39:20.142380Z"
    },
    "papermill": {
     "duration": 0.100728,
     "end_time": "2021-07-08T10:00:31.117391",
     "exception": false,
     "start_time": "2021-07-08T10:00:31.016663",
     "status": "completed"
    },
    "tags": []
   },
   "outputs": [],
   "source": [
    "train_data.Engine = pd.to_numeric(train_data.Engine)"
   ]
  },
  {
   "cell_type": "code",
   "execution_count": 55,
   "id": "centered-empire",
   "metadata": {
    "execution": {
     "iopub.execute_input": "2021-07-08T10:00:31.311137Z",
     "iopub.status.busy": "2021-07-08T10:00:31.310352Z",
     "iopub.status.idle": "2021-07-08T10:00:31.313799Z",
     "shell.execute_reply": "2021-07-08T10:00:31.314310Z",
     "shell.execute_reply.started": "2021-07-08T09:39:20.154397Z"
    },
    "papermill": {
     "duration": 0.108524,
     "end_time": "2021-07-08T10:00:31.314464",
     "exception": false,
     "start_time": "2021-07-08T10:00:31.205940",
     "status": "completed"
    },
    "tags": []
   },
   "outputs": [
    {
     "data": {
      "text/plain": [
       "dtype('int64')"
      ]
     },
     "execution_count": 55,
     "metadata": {},
     "output_type": "execute_result"
    }
   ],
   "source": [
    "train_data.Engine.dtype"
   ]
  },
  {
   "cell_type": "code",
   "execution_count": 56,
   "id": "seeing-pharmacology",
   "metadata": {
    "execution": {
     "iopub.execute_input": "2021-07-08T10:00:31.513702Z",
     "iopub.status.busy": "2021-07-08T10:00:31.512815Z",
     "iopub.status.idle": "2021-07-08T10:00:31.527362Z",
     "shell.execute_reply": "2021-07-08T10:00:31.527932Z",
     "shell.execute_reply.started": "2021-07-08T09:39:20.163482Z"
    },
    "papermill": {
     "duration": 0.119276,
     "end_time": "2021-07-08T10:00:31.528145",
     "exception": false,
     "start_time": "2021-07-08T10:00:31.408869",
     "status": "completed"
    },
    "tags": []
   },
   "outputs": [
    {
     "name": "stdout",
     "output_type": "stream",
     "text": [
      "<class 'pandas.core.frame.DataFrame'>\n",
      "Int64Index: 6018 entries, 0 to 6018\n",
      "Data columns (total 11 columns):\n",
      " #   Column             Non-Null Count  Dtype  \n",
      "---  ------             --------------  -----  \n",
      " 0   Location           6018 non-null   object \n",
      " 1   Year               6018 non-null   int64  \n",
      " 2   Kilometers_Driven  6018 non-null   int64  \n",
      " 3   Fuel_Type          6018 non-null   object \n",
      " 4   Transmission       6018 non-null   object \n",
      " 5   Owner_Type         6018 non-null   object \n",
      " 6   Mileage            6018 non-null   float64\n",
      " 7   Engine             6018 non-null   int64  \n",
      " 8   Power              5982 non-null   object \n",
      " 9   Seats              5976 non-null   float64\n",
      " 10  Price              6018 non-null   float64\n",
      "dtypes: float64(3), int64(3), object(5)\n",
      "memory usage: 724.2+ KB\n"
     ]
    }
   ],
   "source": [
    "train_data.info()"
   ]
  },
  {
   "cell_type": "code",
   "execution_count": 57,
   "id": "aggregate-percentage",
   "metadata": {
    "execution": {
     "iopub.execute_input": "2021-07-08T10:00:31.751131Z",
     "iopub.status.busy": "2021-07-08T10:00:31.750375Z",
     "iopub.status.idle": "2021-07-08T10:00:31.754364Z",
     "shell.execute_reply": "2021-07-08T10:00:31.754807Z",
     "shell.execute_reply.started": "2021-07-08T09:39:20.179865Z"
    },
    "papermill": {
     "duration": 0.115308,
     "end_time": "2021-07-08T10:00:31.755003",
     "exception": false,
     "start_time": "2021-07-08T10:00:31.639695",
     "status": "completed"
    },
    "tags": []
   },
   "outputs": [
    {
     "data": {
      "text/plain": [
       "array(['58.16 bhp', '126.2 bhp', '88.7 bhp', '88.76 bhp', '140.8 bhp',\n",
       "       '55.2 bhp', '63.1 bhp', '171.5 bhp', '103.6 bhp', '74 bhp',\n",
       "       '103.25 bhp', '116.3 bhp', '187.7 bhp', '115 bhp', '175.56 bhp',\n",
       "       '98.6 bhp', '83.8 bhp', '167.62 bhp', '190 bhp', '88.5 bhp',\n",
       "       '177.01 bhp', '80 bhp', '67.1 bhp', '102 bhp', '108.45 bhp',\n",
       "       '138.1 bhp', '184 bhp', '179.5 bhp', '103.5 bhp', '64 bhp',\n",
       "       '82 bhp', '254.8 bhp', '73.9 bhp', '46.3 bhp', '37.5 bhp',\n",
       "       '77 bhp', '82.9 bhp', '149.92 bhp', '138.03 bhp', '112.2 bhp',\n",
       "       '163.7 bhp', '71 bhp', '105 bhp', '174.33 bhp', '75 bhp',\n",
       "       '103.2 bhp', '53.3 bhp', '78.9 bhp', '147.6 bhp', '147.8 bhp',\n",
       "       '68 bhp', '186 bhp', '170 bhp', '69 bhp', '140 bhp', '78 bhp',\n",
       "       '194 bhp', '500 bhp', '108.5 bhp', '86.8 bhp', '187.74 bhp',\n",
       "       'null bhp', '132 bhp', '86.7 bhp', '73.94 bhp', '117.3 bhp',\n",
       "       '218 bhp', '168.5 bhp', '89.84 bhp', '110 bhp', '90 bhp',\n",
       "       '82.85 bhp', '67 bhp', '241.4 bhp', '35 bhp', '270.9 bhp',\n",
       "       '126.32 bhp', '73 bhp', '130 bhp', '100.6 bhp', '150 bhp',\n",
       "       '75.94 bhp', '215 bhp', '107.3 bhp', '37.48 bhp', '120 bhp',\n",
       "       '178 bhp', '152 bhp', '91.1 bhp', '85.80 bhp', '362.07 bhp',\n",
       "       '121.3 bhp', '143 bhp', '81.80 bhp', '171 bhp', '76.8 bhp',\n",
       "       '103.52 bhp', '444 bhp', '362.9 bhp', '67.06 bhp', '120.7 bhp',\n",
       "       '258 bhp', '81.86 bhp', '112 bhp', '88.73 bhp', '57.6 bhp',\n",
       "       '157.75 bhp', '102.5 bhp', '201.1 bhp', '83.1 bhp', '68.05 bhp',\n",
       "       '88.50 bhp', nan, '106 bhp', '100 bhp', '81.83 bhp', '85 bhp',\n",
       "       '64.1 bhp', '177.5 bhp', '246.7 bhp', '177.46 bhp', '65 bhp',\n",
       "       '67.04 bhp', '189.08 bhp', '99 bhp', '53.5 bhp', '194.3 bhp',\n",
       "       '70 bhp', '183 bhp', '254.79 bhp', '66.1 bhp', '76 bhp', '60 bhp',\n",
       "       '123.24 bhp', '47.3 bhp', '118 bhp', '88.8 bhp', '177 bhp',\n",
       "       '136 bhp', '201.15 bhp', '93.7 bhp', '177.6 bhp', '313 bhp',\n",
       "       '245 bhp', '125 bhp', '141 bhp', '227 bhp', '62 bhp', '141.1 bhp',\n",
       "       '83.14 bhp', '192 bhp', '67.05 bhp', '47 bhp', '235 bhp', '37 bhp',\n",
       "       '87.2 bhp', '203 bhp', '204 bhp', '246.74 bhp', '122 bhp',\n",
       "       '282 bhp', '181 bhp', '224 bhp', '94 bhp', '367 bhp', '98.79 bhp',\n",
       "       '62.1 bhp', '174.3 bhp', '114 bhp', '335.2 bhp', '169 bhp',\n",
       "       '191.34 bhp', '108.49 bhp', '138.02 bhp', '156 bhp', '187.4 bhp',\n",
       "       '66 bhp', '103.3 bhp', '164.7 bhp', '79.4 bhp', '198.5 bhp',\n",
       "       '154 bhp', '73.8 bhp', '181.43 bhp', '85.8 bhp', '207.8 bhp',\n",
       "       '108.4 bhp', '88 bhp', '63 bhp', '82.5 bhp', '364.9 bhp',\n",
       "       '107.2 bhp', '113.98 bhp', '126.3 bhp', '185 bhp', '237.4 bhp',\n",
       "       '99.6 bhp', '66.7 bhp', '160 bhp', '306 bhp', '98.59 bhp',\n",
       "       '92.7 bhp', '147.51 bhp', '197.2 bhp', '167.6 bhp', '165 bhp',\n",
       "       '110.4 bhp', '73.97 bhp', '147.9 bhp', '116.6 bhp', '148 bhp',\n",
       "       '34.2 bhp', '155 bhp', '197 bhp', '108.62 bhp', '118.3 bhp',\n",
       "       '38.4 bhp', '241.38 bhp', '153.86 bhp', '163.5 bhp', '226.6 bhp',\n",
       "       '84.8 bhp', '53.64 bhp', '158.2 bhp', '69.01 bhp', '181.03 bhp',\n",
       "       '58.2 bhp', '104.68 bhp', '126.24 bhp', '73.75 bhp', '158 bhp',\n",
       "       '130.2 bhp', '57.5 bhp', '97.7 bhp', '121.4 bhp', '98.96 bhp',\n",
       "       '174.5 bhp', '308 bhp', '121.36 bhp', '138 bhp', '265 bhp',\n",
       "       '84 bhp', '321 bhp', '91.72 bhp', '65.3 bhp', '88.2 bhp', '93 bhp',\n",
       "       '35.5 bhp', '86.79 bhp', '157.7 bhp', '40.3 bhp', '91.7 bhp',\n",
       "       '180 bhp', '114.4 bhp', '158.8 bhp', '157.8 bhp', '123.7 bhp',\n",
       "       '56.3 bhp', '189 bhp', '104 bhp', '210 bhp', '270.88 bhp',\n",
       "       '142 bhp', '255 bhp', '236 bhp', '167.7 bhp', '148.31 bhp',\n",
       "       '80.46 bhp', '138.08 bhp', '250 bhp', '74.9 bhp', '91.2 bhp',\n",
       "       '102.57 bhp', '97.6 bhp', '102.53 bhp', '240 bhp', '254 bhp',\n",
       "       '112.4 bhp', '73.74 bhp', '108.495 bhp', '116.9 bhp', '101 bhp',\n",
       "       '320 bhp', '70.02 bhp', '261.49 bhp', '105.5 bhp', '550 bhp',\n",
       "       '168.7 bhp', '55.23 bhp', '94.68 bhp', '152.88 bhp', '163.2 bhp',\n",
       "       '203.2 bhp', '241 bhp', '95 bhp', '200 bhp', '271.23 bhp',\n",
       "       '63.12 bhp', '85.7 bhp', '308.43 bhp', '118.6 bhp', '199.3 bhp',\n",
       "       '83.83 bhp', '55 bhp', '83 bhp', '300 bhp', '201 bhp', '262.6 bhp',\n",
       "       '163 bhp', '58.33 bhp', '86.76 bhp', '76.9 bhp', '174.57 bhp',\n",
       "       '301.73 bhp', '68.1 bhp', '162 bhp', '394.3 bhp', '80.9 bhp',\n",
       "       '147.5 bhp', '272 bhp', '340 bhp', '120.33 bhp', '82.4 bhp',\n",
       "       '231.1 bhp', '335.3 bhp', '333 bhp', '198.25 bhp', '224.34 bhp',\n",
       "       '402 bhp', '261 bhp', '61 bhp', '144 bhp', '71.01 bhp',\n",
       "       '271.72 bhp', '134 bhp', '135.1 bhp', '92 bhp', '64.08 bhp',\n",
       "       '261.5 bhp', '123.37 bhp', '175.67 bhp', '53 bhp', '110.5 bhp',\n",
       "       '178.4 bhp', '193.1 bhp', '41 bhp', '395 bhp', '48.21 bhp',\n",
       "       '450 bhp', '421 bhp', '89.75 bhp', '387.3 bhp', '130.3 bhp',\n",
       "       '281.61 bhp', '52.8 bhp', '139.01 bhp', '208 bhp', '503 bhp',\n",
       "       '168 bhp', '98.82 bhp', '139.07 bhp', '83.11 bhp', '74.93 bhp',\n",
       "       '382 bhp', '74.96 bhp', '552 bhp', '127 bhp', '560 bhp',\n",
       "       '116.4 bhp', '161.6 bhp', '488.1 bhp', '103 bhp', '181.04 bhp'],\n",
       "      dtype=object)"
      ]
     },
     "execution_count": 57,
     "metadata": {},
     "output_type": "execute_result"
    }
   ],
   "source": [
    "train_data.Power.unique()"
   ]
  },
  {
   "cell_type": "code",
   "execution_count": 58,
   "id": "consistent-austria",
   "metadata": {
    "execution": {
     "iopub.execute_input": "2021-07-08T10:00:31.968601Z",
     "iopub.status.busy": "2021-07-08T10:00:31.967770Z",
     "iopub.status.idle": "2021-07-08T10:00:31.971571Z",
     "shell.execute_reply": "2021-07-08T10:00:31.971107Z",
     "shell.execute_reply.started": "2021-07-08T09:39:20.188917Z"
    },
    "papermill": {
     "duration": 0.113921,
     "end_time": "2021-07-08T10:00:31.971701",
     "exception": false,
     "start_time": "2021-07-08T10:00:31.857780",
     "status": "completed"
    },
    "tags": []
   },
   "outputs": [
    {
     "data": {
      "text/plain": [
       "74 bhp        235\n",
       "98.6 bhp      131\n",
       "73.9 bhp      125\n",
       "140 bhp       123\n",
       "78.9 bhp      111\n",
       "             ... \n",
       "98.79 bhp       1\n",
       "89.75 bhp       1\n",
       "74.93 bhp       1\n",
       "61 bhp          1\n",
       "174.57 bhp      1\n",
       "Name: Power, Length: 372, dtype: int64"
      ]
     },
     "execution_count": 58,
     "metadata": {},
     "output_type": "execute_result"
    }
   ],
   "source": [
    "train_data.Power.value_counts()"
   ]
  },
  {
   "cell_type": "code",
   "execution_count": 59,
   "id": "intended-relay",
   "metadata": {
    "execution": {
     "iopub.execute_input": "2021-07-08T10:00:32.161964Z",
     "iopub.status.busy": "2021-07-08T10:00:32.161297Z",
     "iopub.status.idle": "2021-07-08T10:00:32.164237Z",
     "shell.execute_reply": "2021-07-08T10:00:32.164712Z",
     "shell.execute_reply.started": "2021-07-08T09:39:20.203204Z"
    },
    "papermill": {
     "duration": 0.1009,
     "end_time": "2021-07-08T10:00:32.164892",
     "exception": false,
     "start_time": "2021-07-08T10:00:32.063992",
     "status": "completed"
    },
    "tags": []
   },
   "outputs": [
    {
     "data": {
      "text/plain": [
       "74 bhp      45\n",
       "98.6 bhp    35\n",
       "73.9 bhp    27\n",
       "82 bhp      23\n",
       "null bhp    22\n",
       "            ..\n",
       "74.9 bhp     1\n",
       "134 bhp      1\n",
       "450 bhp      1\n",
       "282 bhp      1\n",
       "321 bhp      1\n",
       "Name: Power, Length: 249, dtype: int64"
      ]
     },
     "execution_count": 59,
     "metadata": {},
     "output_type": "execute_result"
    }
   ],
   "source": [
    "test_data.Power.value_counts()"
   ]
  },
  {
   "cell_type": "code",
   "execution_count": 60,
   "id": "vietnamese-pakistan",
   "metadata": {
    "execution": {
     "iopub.execute_input": "2021-07-08T10:00:32.352939Z",
     "iopub.status.busy": "2021-07-08T10:00:32.352282Z",
     "iopub.status.idle": "2021-07-08T10:00:32.355124Z",
     "shell.execute_reply": "2021-07-08T10:00:32.355578Z",
     "shell.execute_reply.started": "2021-07-08T09:39:20.213565Z"
    },
    "papermill": {
     "duration": 0.101144,
     "end_time": "2021-07-08T10:00:32.355718",
     "exception": false,
     "start_time": "2021-07-08T10:00:32.254574",
     "status": "completed"
    },
    "tags": []
   },
   "outputs": [
    {
     "data": {
      "text/plain": [
       "36"
      ]
     },
     "execution_count": 60,
     "metadata": {},
     "output_type": "execute_result"
    }
   ],
   "source": [
    "train_data.Power.isnull().sum()"
   ]
  },
  {
   "cell_type": "code",
   "execution_count": 61,
   "id": "identified-heart",
   "metadata": {
    "execution": {
     "iopub.execute_input": "2021-07-08T10:00:32.556052Z",
     "iopub.status.busy": "2021-07-08T10:00:32.555168Z",
     "iopub.status.idle": "2021-07-08T10:00:32.557853Z",
     "shell.execute_reply": "2021-07-08T10:00:32.557372Z",
     "shell.execute_reply.started": "2021-07-08T09:39:20.223513Z"
    },
    "papermill": {
     "duration": 0.10351,
     "end_time": "2021-07-08T10:00:32.557969",
     "exception": false,
     "start_time": "2021-07-08T10:00:32.454459",
     "status": "completed"
    },
    "tags": []
   },
   "outputs": [],
   "source": [
    "train_data.Power = train_data.Power.fillna('74 bhp')\n",
    "test_data.Power = test_data.Power.fillna('74 bhp')"
   ]
  },
  {
   "cell_type": "markdown",
   "id": "comprehensive-gasoline",
   "metadata": {
    "papermill": {
     "duration": 0.101897,
     "end_time": "2021-07-08T10:00:32.751409",
     "exception": false,
     "start_time": "2021-07-08T10:00:32.649512",
     "status": "completed"
    },
    "tags": []
   },
   "source": [
    "### BHP - brake horse power : A common metric for measuring the power of a vehicle/machine."
   ]
  },
  {
   "cell_type": "code",
   "execution_count": 62,
   "id": "desirable-effectiveness",
   "metadata": {
    "execution": {
     "iopub.execute_input": "2021-07-08T10:00:32.974794Z",
     "iopub.status.busy": "2021-07-08T10:00:32.973953Z",
     "iopub.status.idle": "2021-07-08T10:00:32.977494Z",
     "shell.execute_reply": "2021-07-08T10:00:32.978005Z",
     "shell.execute_reply.started": "2021-07-08T09:39:20.232767Z"
    },
    "papermill": {
     "duration": 0.113023,
     "end_time": "2021-07-08T10:00:32.978183",
     "exception": false,
     "start_time": "2021-07-08T10:00:32.865160",
     "status": "completed"
    },
    "tags": []
   },
   "outputs": [
    {
     "name": "stdout",
     "output_type": "stream",
     "text": [
      "value : 58.16 , measure: bhp\n"
     ]
    }
   ],
   "source": [
    "print(\"value : {} , measure: {}\".format(train_data['Power'][0].split()[0] , train_data['Power'][0].split()[1]))"
   ]
  },
  {
   "cell_type": "markdown",
   "id": "indirect-relaxation",
   "metadata": {
    "papermill": {
     "duration": 0.092352,
     "end_time": "2021-07-08T10:00:33.173418",
     "exception": false,
     "start_time": "2021-07-08T10:00:33.081066",
     "status": "completed"
    },
    "tags": []
   },
   "source": [
    "### All null values have been resolved."
   ]
  },
  {
   "cell_type": "code",
   "execution_count": 63,
   "id": "authorized-street",
   "metadata": {
    "execution": {
     "iopub.execute_input": "2021-07-08T10:00:33.359433Z",
     "iopub.status.busy": "2021-07-08T10:00:33.358682Z",
     "iopub.status.idle": "2021-07-08T10:00:33.361810Z",
     "shell.execute_reply": "2021-07-08T10:00:33.362266Z",
     "shell.execute_reply.started": "2021-07-08T09:39:20.241267Z"
    },
    "papermill": {
     "duration": 0.09837,
     "end_time": "2021-07-08T10:00:33.362405",
     "exception": false,
     "start_time": "2021-07-08T10:00:33.264035",
     "status": "completed"
    },
    "tags": []
   },
   "outputs": [
    {
     "data": {
      "text/plain": [
       "0"
      ]
     },
     "execution_count": 63,
     "metadata": {},
     "output_type": "execute_result"
    }
   ],
   "source": [
    "train_data.Power.isnull().sum()"
   ]
  },
  {
   "cell_type": "code",
   "execution_count": 64,
   "id": "electrical-naples",
   "metadata": {
    "execution": {
     "iopub.execute_input": "2021-07-08T10:00:33.557216Z",
     "iopub.status.busy": "2021-07-08T10:00:33.556224Z",
     "iopub.status.idle": "2021-07-08T10:00:34.171571Z",
     "shell.execute_reply": "2021-07-08T10:00:34.170948Z",
     "shell.execute_reply.started": "2021-07-08T09:39:20.252720Z"
    },
    "papermill": {
     "duration": 0.719381,
     "end_time": "2021-07-08T10:00:34.171710",
     "exception": false,
     "start_time": "2021-07-08T10:00:33.452329",
     "status": "completed"
    },
    "tags": []
   },
   "outputs": [],
   "source": [
    "for i in train_data.index:\n",
    "    train_data['Power'][i] = train_data['Power'][i].split()[0]\n",
    "    \n",
    "for i in test_data.index:\n",
    "    test_data['Power'][i] = test_data['Power'][i].split()[0]"
   ]
  },
  {
   "cell_type": "code",
   "execution_count": 65,
   "id": "subsequent-sigma",
   "metadata": {
    "execution": {
     "iopub.execute_input": "2021-07-08T10:00:34.475245Z",
     "iopub.status.busy": "2021-07-08T10:00:34.473642Z",
     "iopub.status.idle": "2021-07-08T10:00:34.477160Z",
     "shell.execute_reply": "2021-07-08T10:00:34.474374Z",
     "shell.execute_reply.started": "2021-07-08T09:39:20.833066Z"
    },
    "papermill": {
     "duration": 0.154682,
     "end_time": "2021-07-08T10:00:34.477332",
     "exception": false,
     "start_time": "2021-07-08T10:00:34.322650",
     "status": "completed"
    },
    "tags": []
   },
   "outputs": [
    {
     "name": "stdout",
     "output_type": "stream",
     "text": [
      "74\n"
     ]
    }
   ],
   "source": [
    "train_data['Power'][76] = '74'\n",
    "print(train_data['Power'][76])"
   ]
  },
  {
   "cell_type": "code",
   "execution_count": 66,
   "id": "interstate-synthetic",
   "metadata": {
    "execution": {
     "iopub.execute_input": "2021-07-08T10:00:34.794989Z",
     "iopub.status.busy": "2021-07-08T10:00:34.794088Z",
     "iopub.status.idle": "2021-07-08T10:00:34.908076Z",
     "shell.execute_reply": "2021-07-08T10:00:34.909467Z",
     "shell.execute_reply.started": "2021-07-08T09:39:20.840543Z"
    },
    "papermill": {
     "duration": 0.290252,
     "end_time": "2021-07-08T10:00:34.909757",
     "exception": false,
     "start_time": "2021-07-08T10:00:34.619505",
     "status": "completed"
    },
    "tags": []
   },
   "outputs": [],
   "source": [
    "for i in train_data.index:\n",
    "    if train_data['Power'][i] == 'null':\n",
    "        train_data['Power'][i] = '74'\n",
    "\n",
    "for i in test_data.index:\n",
    "    if test_data['Power'][i] == 'null':\n",
    "        test_data['Power'][i] = '74'\n",
    "        "
   ]
  },
  {
   "cell_type": "code",
   "execution_count": 67,
   "id": "known-merchandise",
   "metadata": {
    "execution": {
     "iopub.execute_input": "2021-07-08T10:00:35.262028Z",
     "iopub.status.busy": "2021-07-08T10:00:35.261143Z",
     "iopub.status.idle": "2021-07-08T10:00:35.269168Z",
     "shell.execute_reply": "2021-07-08T10:00:35.270240Z",
     "shell.execute_reply.started": "2021-07-08T09:39:20.925891Z"
    },
    "papermill": {
     "duration": 0.19453,
     "end_time": "2021-07-08T10:00:35.270464",
     "exception": false,
     "start_time": "2021-07-08T10:00:35.075934",
     "status": "completed"
    },
    "tags": []
   },
   "outputs": [],
   "source": [
    "train_data['Power'] = pd.to_numeric(train_data['Power'])\n",
    "test_data['Power'] = pd.to_numeric(test_data['Power'])"
   ]
  },
  {
   "cell_type": "code",
   "execution_count": 68,
   "id": "fantastic-partition",
   "metadata": {
    "execution": {
     "iopub.execute_input": "2021-07-08T10:00:35.537429Z",
     "iopub.status.busy": "2021-07-08T10:00:35.536630Z",
     "iopub.status.idle": "2021-07-08T10:00:35.541147Z",
     "shell.execute_reply": "2021-07-08T10:00:35.540689Z",
     "shell.execute_reply.started": "2021-07-08T09:39:20.938979Z"
    },
    "papermill": {
     "duration": 0.102642,
     "end_time": "2021-07-08T10:00:35.541271",
     "exception": false,
     "start_time": "2021-07-08T10:00:35.438629",
     "status": "completed"
    },
    "tags": []
   },
   "outputs": [
    {
     "data": {
      "text/plain": [
       "0     58.16\n",
       "1    126.20\n",
       "2     88.70\n",
       "3     88.76\n",
       "4    140.80\n",
       "5     55.20\n",
       "6     63.10\n",
       "7    171.50\n",
       "8    103.60\n",
       "9     74.00\n",
       "Name: Power, dtype: float64"
      ]
     },
     "execution_count": 68,
     "metadata": {},
     "output_type": "execute_result"
    }
   ],
   "source": [
    "train_data['Power'][0:10]"
   ]
  },
  {
   "cell_type": "code",
   "execution_count": 69,
   "id": "marine-trader",
   "metadata": {
    "execution": {
     "iopub.execute_input": "2021-07-08T10:00:35.732950Z",
     "iopub.status.busy": "2021-07-08T10:00:35.732089Z",
     "iopub.status.idle": "2021-07-08T10:00:35.736670Z",
     "shell.execute_reply": "2021-07-08T10:00:35.736270Z",
     "shell.execute_reply.started": "2021-07-08T09:39:20.950919Z"
    },
    "papermill": {
     "duration": 0.101081,
     "end_time": "2021-07-08T10:00:35.736785",
     "exception": false,
     "start_time": "2021-07-08T10:00:35.635704",
     "status": "completed"
    },
    "tags": []
   },
   "outputs": [
    {
     "data": {
      "text/plain": [
       "0     58.20\n",
       "1     47.30\n",
       "2    147.80\n",
       "3     74.00\n",
       "4     82.85\n",
       "5    140.00\n",
       "6    168.70\n",
       "7     55.20\n",
       "8    118.00\n",
       "9    140.00\n",
       "Name: Power, dtype: float64"
      ]
     },
     "execution_count": 69,
     "metadata": {},
     "output_type": "execute_result"
    }
   ],
   "source": [
    "test_data['Power'][0:10]"
   ]
  },
  {
   "cell_type": "code",
   "execution_count": 70,
   "id": "vulnerable-stability",
   "metadata": {
    "execution": {
     "iopub.execute_input": "2021-07-08T10:00:35.947694Z",
     "iopub.status.busy": "2021-07-08T10:00:35.947000Z",
     "iopub.status.idle": "2021-07-08T10:00:35.949990Z",
     "shell.execute_reply": "2021-07-08T10:00:35.950469Z",
     "shell.execute_reply.started": "2021-07-08T09:39:20.960861Z"
    },
    "papermill": {
     "duration": 0.121593,
     "end_time": "2021-07-08T10:00:35.950615",
     "exception": false,
     "start_time": "2021-07-08T10:00:35.829022",
     "status": "completed"
    },
    "tags": []
   },
   "outputs": [
    {
     "data": {
      "text/plain": [
       "dtype('float64')"
      ]
     },
     "execution_count": 70,
     "metadata": {},
     "output_type": "execute_result"
    }
   ],
   "source": [
    "train_data['Power'].dtype"
   ]
  },
  {
   "cell_type": "code",
   "execution_count": 71,
   "id": "dying-husband",
   "metadata": {
    "execution": {
     "iopub.execute_input": "2021-07-08T10:00:36.144667Z",
     "iopub.status.busy": "2021-07-08T10:00:36.143800Z",
     "iopub.status.idle": "2021-07-08T10:00:36.147040Z",
     "shell.execute_reply": "2021-07-08T10:00:36.147525Z",
     "shell.execute_reply.started": "2021-07-08T09:39:20.969205Z"
    },
    "papermill": {
     "duration": 0.101961,
     "end_time": "2021-07-08T10:00:36.147668",
     "exception": false,
     "start_time": "2021-07-08T10:00:36.045707",
     "status": "completed"
    },
    "tags": []
   },
   "outputs": [
    {
     "data": {
      "text/plain": [
       "5.0     5014\n",
       "7.0      674\n",
       "8.0      134\n",
       "4.0       99\n",
       "6.0       31\n",
       "2.0       16\n",
       "10.0       5\n",
       "9.0        3\n",
       "Name: Seats, dtype: int64"
      ]
     },
     "execution_count": 71,
     "metadata": {},
     "output_type": "execute_result"
    }
   ],
   "source": [
    "train_data.Seats.value_counts()"
   ]
  },
  {
   "cell_type": "code",
   "execution_count": 72,
   "id": "asian-insider",
   "metadata": {
    "execution": {
     "iopub.execute_input": "2021-07-08T10:00:36.365079Z",
     "iopub.status.busy": "2021-07-08T10:00:36.364064Z",
     "iopub.status.idle": "2021-07-08T10:00:36.366967Z",
     "shell.execute_reply": "2021-07-08T10:00:36.366475Z",
     "shell.execute_reply.started": "2021-07-08T09:39:20.980139Z"
    },
    "papermill": {
     "duration": 0.112283,
     "end_time": "2021-07-08T10:00:36.367103",
     "exception": false,
     "start_time": "2021-07-08T10:00:36.254820",
     "status": "completed"
    },
    "tags": []
   },
   "outputs": [],
   "source": [
    "#train_data.Seats.isnull().sum()\n",
    "train_data.Seats = train_data.Seats.fillna(5.0)\n",
    "test_data.Seats = test_data.Seats.fillna(5.0)"
   ]
  },
  {
   "cell_type": "markdown",
   "id": "educated-bonus",
   "metadata": {
    "papermill": {
     "duration": 0.104174,
     "end_time": "2021-07-08T10:00:36.574888",
     "exception": false,
     "start_time": "2021-07-08T10:00:36.470714",
     "status": "completed"
    },
    "tags": []
   },
   "source": [
    "### NULL values removed completely"
   ]
  },
  {
   "cell_type": "code",
   "execution_count": 73,
   "id": "minus-whale",
   "metadata": {
    "execution": {
     "iopub.execute_input": "2021-07-08T10:00:36.772309Z",
     "iopub.status.busy": "2021-07-08T10:00:36.771472Z",
     "iopub.status.idle": "2021-07-08T10:00:36.777348Z",
     "shell.execute_reply": "2021-07-08T10:00:36.776896Z",
     "shell.execute_reply.started": "2021-07-08T09:39:20.988117Z"
    },
    "papermill": {
     "duration": 0.106553,
     "end_time": "2021-07-08T10:00:36.777482",
     "exception": false,
     "start_time": "2021-07-08T10:00:36.670929",
     "status": "completed"
    },
    "tags": []
   },
   "outputs": [
    {
     "data": {
      "text/plain": [
       "Location             0\n",
       "Year                 0\n",
       "Kilometers_Driven    0\n",
       "Fuel_Type            0\n",
       "Transmission         0\n",
       "Owner_Type           0\n",
       "Mileage              0\n",
       "Engine               0\n",
       "Power                0\n",
       "Seats                0\n",
       "Price                0\n",
       "dtype: int64"
      ]
     },
     "execution_count": 73,
     "metadata": {},
     "output_type": "execute_result"
    }
   ],
   "source": [
    "train_data.isnull().sum()"
   ]
  },
  {
   "cell_type": "markdown",
   "id": "passive-snapshot",
   "metadata": {
    "papermill": {
     "duration": 0.092459,
     "end_time": "2021-07-08T10:00:36.962859",
     "exception": false,
     "start_time": "2021-07-08T10:00:36.870400",
     "status": "completed"
    },
    "tags": []
   },
   "source": [
    "## Exploratory Data Analysis"
   ]
  },
  {
   "cell_type": "code",
   "execution_count": 74,
   "id": "complicated-record",
   "metadata": {
    "execution": {
     "iopub.execute_input": "2021-07-08T10:00:37.178814Z",
     "iopub.status.busy": "2021-07-08T10:00:37.177965Z",
     "iopub.status.idle": "2021-07-08T10:00:37.825978Z",
     "shell.execute_reply": "2021-07-08T10:00:37.826393Z",
     "shell.execute_reply.started": "2021-07-08T09:39:21.001999Z"
    },
    "papermill": {
     "duration": 0.761571,
     "end_time": "2021-07-08T10:00:37.826539",
     "exception": false,
     "start_time": "2021-07-08T10:00:37.064968",
     "status": "completed"
    },
    "tags": []
   },
   "outputs": [
    {
     "data": {
      "image/png": "[encoded data removed]",
      "text/plain": [
       "<Figure size 1008x576 with 1 Axes>"
      ]
     },
     "metadata": {},
     "output_type": "display_data"
    }
   ],
   "source": [
    "plt.rcParams['figure.figsize'] = [14,8]\n",
    "plt.xlabel('Location')\n",
    "plt.ylabel('Price')\n",
    "sns.barplot(x=\"Location\", y=\"Price\", data=train_data)\n",
    "plt.show()"
   ]
  },
  {
   "cell_type": "code",
   "execution_count": 75,
   "id": "black-latex",
   "metadata": {
    "execution": {
     "iopub.execute_input": "2021-07-08T10:00:38.040409Z",
     "iopub.status.busy": "2021-07-08T10:00:38.039532Z",
     "iopub.status.idle": "2021-07-08T10:00:39.054712Z",
     "shell.execute_reply": "2021-07-08T10:00:39.055195Z",
     "shell.execute_reply.started": "2021-07-08T09:39:21.562202Z"
    },
    "papermill": {
     "duration": 1.135191,
     "end_time": "2021-07-08T10:00:39.055354",
     "exception": false,
     "start_time": "2021-07-08T10:00:37.920163",
     "status": "completed"
    },
    "tags": []
   },
   "outputs": [
    {
     "data": {
      "image/png": "[encoded data removed]",
      "text/plain": [
       "<Figure size 1008x576 with 1 Axes>"
      ]
     },
     "metadata": {},
     "output_type": "display_data"
    }
   ],
   "source": [
    "plt.rcParams['figure.figsize'] = [14,8]\n",
    "plt.xlabel('Year')\n",
    "plt.ylabel('Price')\n",
    "sns.barplot(x=\"Year\", y=\"Price\", data=train_data)\n",
    "plt.show()"
   ]
  },
  {
   "cell_type": "code",
   "execution_count": 76,
   "id": "broken-cleanup",
   "metadata": {
    "execution": {
     "iopub.execute_input": "2021-07-08T10:00:39.266715Z",
     "iopub.status.busy": "2021-07-08T10:00:39.265756Z",
     "iopub.status.idle": "2021-07-08T10:00:39.524291Z",
     "shell.execute_reply": "2021-07-08T10:00:39.524771Z",
     "shell.execute_reply.started": "2021-07-08T09:39:22.450971Z"
    },
    "papermill": {
     "duration": 0.374958,
     "end_time": "2021-07-08T10:00:39.524958",
     "exception": false,
     "start_time": "2021-07-08T10:00:39.150000",
     "status": "completed"
    },
    "tags": []
   },
   "outputs": [
    {
     "data": {
      "image/png": "[encoded data removed]",
      "text/plain": [
       "<Figure size 1008x576 with 1 Axes>"
      ]
     },
     "metadata": {},
     "output_type": "display_data"
    }
   ],
   "source": [
    "plt.rcParams['figure.figsize'] = [14,8]\n",
    "plt.xlabel('Year')\n",
    "plt.ylabel('Price')\n",
    "sns.countplot('Year', data=train_data)\n",
    "plt.show()"
   ]
  },
  {
   "cell_type": "code",
   "execution_count": 77,
   "id": "plain-honor",
   "metadata": {
    "execution": {
     "iopub.execute_input": "2021-07-08T10:00:39.746997Z",
     "iopub.status.busy": "2021-07-08T10:00:39.746119Z",
     "iopub.status.idle": "2021-07-08T10:00:39.750200Z",
     "shell.execute_reply": "2021-07-08T10:00:39.750657Z",
     "shell.execute_reply.started": "2021-07-08T09:39:22.697341Z"
    },
    "papermill": {
     "duration": 0.120819,
     "end_time": "2021-07-08T10:00:39.750813",
     "exception": false,
     "start_time": "2021-07-08T10:00:39.629994",
     "status": "completed"
    },
    "tags": []
   },
   "outputs": [
    {
     "data": {
      "text/plain": [
       "Diesel      3205\n",
       "Petrol      2745\n",
       "CNG           56\n",
       "LPG           10\n",
       "Electric       2\n",
       "Name: Fuel_Type, dtype: int64"
      ]
     },
     "execution_count": 77,
     "metadata": {},
     "output_type": "execute_result"
    }
   ],
   "source": [
    "train_data.Fuel_Type.value_counts()"
   ]
  },
  {
   "cell_type": "code",
   "execution_count": 78,
   "id": "enclosed-remainder",
   "metadata": {
    "execution": {
     "iopub.execute_input": "2021-07-08T10:00:40.033855Z",
     "iopub.status.busy": "2021-07-08T10:00:40.032972Z",
     "iopub.status.idle": "2021-07-08T10:00:40.516024Z",
     "shell.execute_reply": "2021-07-08T10:00:40.515141Z",
     "shell.execute_reply.started": "2021-07-08T09:39:22.707146Z"
    },
    "papermill": {
     "duration": 0.657348,
     "end_time": "2021-07-08T10:00:40.516154",
     "exception": false,
     "start_time": "2021-07-08T10:00:39.858806",
     "status": "completed"
    },
    "tags": []
   },
   "outputs": [
    {
     "data": {
      "image/png": "[encoded data removed]",
      "text/plain": [
       "<Figure size 576x360 with 1 Axes>"
      ]
     },
     "metadata": {},
     "output_type": "display_data"
    }
   ],
   "source": [
    "plt.rcParams['figure.figsize'] = [8,5]\n",
    "plt.xlabel('Fuel Type')\n",
    "plt.ylabel('Price')\n",
    "sns.barplot(x=\"Fuel_Type\", y=\"Price\", data=train_data)\n",
    "plt.show()"
   ]
  },
  {
   "cell_type": "code",
   "execution_count": 79,
   "id": "daily-aside",
   "metadata": {
    "execution": {
     "iopub.execute_input": "2021-07-08T10:00:40.721109Z",
     "iopub.status.busy": "2021-07-08T10:00:40.720210Z",
     "iopub.status.idle": "2021-07-08T10:00:40.724046Z",
     "shell.execute_reply": "2021-07-08T10:00:40.724512Z",
     "shell.execute_reply.started": "2021-07-08T09:39:23.017006Z"
    },
    "papermill": {
     "duration": 0.112964,
     "end_time": "2021-07-08T10:00:40.724722",
     "exception": false,
     "start_time": "2021-07-08T10:00:40.611758",
     "status": "completed"
    },
    "tags": []
   },
   "outputs": [
    {
     "data": {
      "text/plain": [
       "Manual       4299\n",
       "Automatic    1719\n",
       "Name: Transmission, dtype: int64"
      ]
     },
     "execution_count": 79,
     "metadata": {},
     "output_type": "execute_result"
    }
   ],
   "source": [
    "train_data.Transmission.value_counts()"
   ]
  },
  {
   "cell_type": "code",
   "execution_count": 80,
   "id": "eight-patient",
   "metadata": {
    "execution": {
     "iopub.execute_input": "2021-07-08T10:00:40.979540Z",
     "iopub.status.busy": "2021-07-08T10:00:40.978529Z",
     "iopub.status.idle": "2021-07-08T10:00:41.199810Z",
     "shell.execute_reply": "2021-07-08T10:00:41.200359Z",
     "shell.execute_reply.started": "2021-07-08T09:39:23.029503Z"
    },
    "papermill": {
     "duration": 0.365008,
     "end_time": "2021-07-08T10:00:41.200526",
     "exception": false,
     "start_time": "2021-07-08T10:00:40.835518",
     "status": "completed"
    },
    "tags": []
   },
   "outputs": [
    {
     "data": {
      "image/png": "[encoded data removed]",
      "text/plain": [
       "<Figure size 360x576 with 1 Axes>"
      ]
     },
     "metadata": {},
     "output_type": "display_data"
    }
   ],
   "source": [
    "plt.rcParams['figure.figsize'] = [5,8]\n",
    "plt.xlabel('Transmission')\n",
    "plt.ylabel('Price')\n",
    "sns.barplot(x=\"Transmission\", y=\"Price\", data=train_data)\n",
    "plt.show()"
   ]
  },
  {
   "cell_type": "code",
   "execution_count": 81,
   "id": "identified-tracy",
   "metadata": {
    "execution": {
     "iopub.execute_input": "2021-07-08T10:00:41.402846Z",
     "iopub.status.busy": "2021-07-08T10:00:41.401988Z",
     "iopub.status.idle": "2021-07-08T10:00:41.668420Z",
     "shell.execute_reply": "2021-07-08T10:00:41.668001Z",
     "shell.execute_reply.started": "2021-07-08T09:39:23.248756Z"
    },
    "papermill": {
     "duration": 0.370499,
     "end_time": "2021-07-08T10:00:41.668551",
     "exception": false,
     "start_time": "2021-07-08T10:00:41.298052",
     "status": "completed"
    },
    "tags": []
   },
   "outputs": [
    {
     "data": {
      "image/png": "[encoded data removed]",
      "text/plain": [
       "<Figure size 864x648 with 1 Axes>"
      ]
     },
     "metadata": {},
     "output_type": "display_data"
    }
   ],
   "source": [
    "plt.figure(figsize=(12, 9))\n",
    "sns.countplot('Year', data=train_data)\n",
    "plt.show()"
   ]
  },
  {
   "cell_type": "code",
   "execution_count": 82,
   "id": "downtown-sunrise",
   "metadata": {
    "execution": {
     "iopub.execute_input": "2021-07-08T10:00:41.887098Z",
     "iopub.status.busy": "2021-07-08T10:00:41.886141Z",
     "iopub.status.idle": "2021-07-08T10:00:42.158200Z",
     "shell.execute_reply": "2021-07-08T10:00:42.158684Z",
     "shell.execute_reply.started": "2021-07-08T09:39:23.489297Z"
    },
    "papermill": {
     "duration": 0.388438,
     "end_time": "2021-07-08T10:00:42.158864",
     "exception": false,
     "start_time": "2021-07-08T10:00:41.770426",
     "status": "completed"
    },
    "tags": []
   },
   "outputs": [
    {
     "data": {
      "text/plain": [
       "<AxesSubplot:xlabel='Transmission', ylabel='Price'>"
      ]
     },
     "execution_count": 82,
     "metadata": {},
     "output_type": "execute_result"
    },
    {
     "data": {
      "image/png": "[encoded data removed]",
      "text/plain": [
       "<Figure size 1008x432 with 1 Axes>"
      ]
     },
     "metadata": {},
     "output_type": "display_data"
    }
   ],
   "source": [
    "plt.figure(figsize=(14,6))\n",
    "sns.barplot('Transmission', 'Price', data=train_data)"
   ]
  },
  {
   "cell_type": "code",
   "execution_count": 83,
   "id": "governing-fraud",
   "metadata": {
    "execution": {
     "iopub.execute_input": "2021-07-08T10:00:42.383574Z",
     "iopub.status.busy": "2021-07-08T10:00:42.382784Z",
     "iopub.status.idle": "2021-07-08T10:00:42.496618Z",
     "shell.execute_reply": "2021-07-08T10:00:42.497041Z",
     "shell.execute_reply.started": "2021-07-08T09:39:23.717786Z"
    },
    "papermill": {
     "duration": 0.227491,
     "end_time": "2021-07-08T10:00:42.497191",
     "exception": false,
     "start_time": "2021-07-08T10:00:42.269700",
     "status": "completed"
    },
    "tags": []
   },
   "outputs": [
    {
     "data": {
      "text/plain": [
       "<AxesSubplot:xlabel='Owner_Type', ylabel='count'>"
      ]
     },
     "execution_count": 83,
     "metadata": {},
     "output_type": "execute_result"
    },
    {
     "data": {
      "image/png": "[encoded data removed]",
      "text/plain": [
       "<Figure size 576x432 with 1 Axes>"
      ]
     },
     "metadata": {},
     "output_type": "display_data"
    }
   ],
   "source": [
    "plt.figure(figsize=(8, 6))\n",
    "sns.countplot('Owner_Type', data=train_data)"
   ]
  },
  {
   "cell_type": "code",
   "execution_count": 84,
   "id": "unsigned-mineral",
   "metadata": {
    "execution": {
     "iopub.execute_input": "2021-07-08T10:00:42.706966Z",
     "iopub.status.busy": "2021-07-08T10:00:42.705359Z",
     "iopub.status.idle": "2021-07-08T10:00:43.009633Z",
     "shell.execute_reply": "2021-07-08T10:00:43.010143Z",
     "shell.execute_reply.started": "2021-07-08T09:39:23.836501Z"
    },
    "papermill": {
     "duration": 0.413659,
     "end_time": "2021-07-08T10:00:43.010313",
     "exception": false,
     "start_time": "2021-07-08T10:00:42.596654",
     "status": "completed"
    },
    "tags": []
   },
   "outputs": [
    {
     "data": {
      "text/plain": [
       "<AxesSubplot:xlabel='Owner_Type', ylabel='Price'>"
      ]
     },
     "execution_count": 84,
     "metadata": {},
     "output_type": "execute_result"
    },
    {
     "data": {
      "image/png": "[encoded data removed]",
      "text/plain": [
       "<Figure size 576x432 with 1 Axes>"
      ]
     },
     "metadata": {},
     "output_type": "display_data"
    }
   ],
   "source": [
    "plt.figure(figsize=(8, 6))\n",
    "sns.barplot('Owner_Type', 'Price', data=train_data)"
   ]
  },
  {
   "cell_type": "code",
   "execution_count": 85,
   "id": "infrared-dodge",
   "metadata": {
    "execution": {
     "iopub.execute_input": "2021-07-08T10:00:43.243604Z",
     "iopub.status.busy": "2021-07-08T10:00:43.242587Z",
     "iopub.status.idle": "2021-07-08T10:00:43.688736Z",
     "shell.execute_reply": "2021-07-08T10:00:43.689161Z",
     "shell.execute_reply.started": "2021-07-08T09:39:24.107502Z"
    },
    "papermill": {
     "duration": 0.564347,
     "end_time": "2021-07-08T10:00:43.689320",
     "exception": false,
     "start_time": "2021-07-08T10:00:43.124973",
     "status": "completed"
    },
    "tags": []
   },
   "outputs": [
    {
     "data": {
      "text/plain": [
       "<AxesSubplot:xlabel='Seats', ylabel='Price'>"
      ]
     },
     "execution_count": 85,
     "metadata": {},
     "output_type": "execute_result"
    },
    {
     "data": {
      "image/png": "[encoded data removed]",
      "text/plain": [
       "<Figure size 576x432 with 1 Axes>"
      ]
     },
     "metadata": {},
     "output_type": "display_data"
    }
   ],
   "source": [
    "plt.figure(figsize=(8, 6))\n",
    "sns.barplot('Seats', 'Price', data=train_data)"
   ]
  },
  {
   "cell_type": "code",
   "execution_count": 86,
   "id": "nuclear-ranking",
   "metadata": {
    "execution": {
     "iopub.execute_input": "2021-07-08T10:00:43.905271Z",
     "iopub.status.busy": "2021-07-08T10:00:43.904307Z",
     "iopub.status.idle": "2021-07-08T10:00:44.049557Z",
     "shell.execute_reply": "2021-07-08T10:00:44.049990Z",
     "shell.execute_reply.started": "2021-07-08T09:39:24.515024Z"
    },
    "papermill": {
     "duration": 0.259806,
     "end_time": "2021-07-08T10:00:44.050144",
     "exception": false,
     "start_time": "2021-07-08T10:00:43.790338",
     "status": "completed"
    },
    "tags": []
   },
   "outputs": [
    {
     "data": {
      "text/plain": [
       "<AxesSubplot:xlabel='Seats', ylabel='count'>"
      ]
     },
     "execution_count": 86,
     "metadata": {},
     "output_type": "execute_result"
    },
    {
     "data": {
      "image/png": "[encoded data removed]",
      "text/plain": [
       "<Figure size 576x432 with 1 Axes>"
      ]
     },
     "metadata": {},
     "output_type": "display_data"
    }
   ],
   "source": [
    "plt.figure(figsize=(8, 6))\n",
    "sns.countplot('Seats', data=train_data)"
   ]
  },
  {
   "cell_type": "markdown",
   "id": "polished-experience",
   "metadata": {
    "papermill": {
     "duration": 0.115331,
     "end_time": "2021-07-08T10:00:44.269378",
     "exception": false,
     "start_time": "2021-07-08T10:00:44.154047",
     "status": "completed"
    },
    "tags": []
   },
   "source": [
    "## Feature Engineering - creating new features for making our model more and more accurate and robust."
   ]
  },
  {
   "cell_type": "markdown",
   "id": "objective-copper",
   "metadata": {
    "papermill": {
     "duration": 0.115153,
     "end_time": "2021-07-08T10:00:44.500438",
     "exception": false,
     "start_time": "2021-07-08T10:00:44.385285",
     "status": "completed"
    },
    "tags": []
   },
   "source": [
    "#### We have found from EDA that cars which are Diesel, Automatic, bought after 2014, has 2 seats, bigger engine and/or more power are sold with higher price. So we create a new column for all these features."
   ]
  },
  {
   "cell_type": "code",
   "execution_count": 87,
   "id": "remarkable-generation",
   "metadata": {
    "execution": {
     "iopub.execute_input": "2021-07-08T10:00:44.727817Z",
     "iopub.status.busy": "2021-07-08T10:00:44.726984Z",
     "iopub.status.idle": "2021-07-08T10:00:45.475629Z",
     "shell.execute_reply": "2021-07-08T10:00:45.475116Z",
     "shell.execute_reply.started": "2021-07-08T09:39:24.650871Z"
    },
    "papermill": {
     "duration": 0.860337,
     "end_time": "2021-07-08T10:00:45.475773",
     "exception": false,
     "start_time": "2021-07-08T10:00:44.615436",
     "status": "completed"
    },
    "tags": []
   },
   "outputs": [],
   "source": [
    "post_2014 = pd.DataFrame(columns=['post_2014'])\n",
    "train_data = pd.concat([train_data, post_2014], axis=1)\n",
    "test_data = pd.concat([test_data, post_2014], axis=1)\n",
    "\n",
    "for i in train_data.index:\n",
    "    val = train_data['Year'][i]\n",
    "    if val > 2014:\n",
    "        train_data['post_2014'][i] = 1\n",
    "    else:\n",
    "        train_data['post_2014'][i] = 0\n",
    "    \n",
    "\n",
    "for i in test_data.index:\n",
    "    val = test_data['Year'][i]\n",
    "    if val > 2014:\n",
    "        test_data['post_2014'][i] = 1\n",
    "    else:\n",
    "        test_data['post_2014'][i] = 0\n",
    "        "
   ]
  },
  {
   "cell_type": "code",
   "execution_count": 88,
   "id": "published-minute",
   "metadata": {
    "execution": {
     "iopub.execute_input": "2021-07-08T10:00:45.727968Z",
     "iopub.status.busy": "2021-07-08T10:00:45.726884Z",
     "iopub.status.idle": "2021-07-08T10:00:46.349099Z",
     "shell.execute_reply": "2021-07-08T10:00:46.348612Z",
     "shell.execute_reply.started": "2021-07-08T09:39:25.360867Z"
    },
    "papermill": {
     "duration": 0.759093,
     "end_time": "2021-07-08T10:00:46.349246",
     "exception": false,
     "start_time": "2021-07-08T10:00:45.590153",
     "status": "completed"
    },
    "tags": []
   },
   "outputs": [],
   "source": [
    "is_Diesel = pd.DataFrame(columns=['is_Diesel'])\n",
    "train_data = pd.concat([train_data, is_Diesel], axis=1)\n",
    "test_data = pd.concat([test_data, is_Diesel], axis=1)\n",
    "\n",
    "\n",
    "for i in train_data.index:\n",
    "    value = train_data['Fuel_Type'][i]\n",
    "    if value == 'Diesel':\n",
    "        train_data['is_Diesel'][i] = 1\n",
    "    else:\n",
    "        train_data['is_Diesel'][i] = 0\n",
    "        \n",
    "        \n",
    "\n",
    "for i in test_data.index:\n",
    "    value = test_data['Fuel_Type'][i]\n",
    "    if value == 'Diesel':\n",
    "        test_data['is_Diesel'][i] = 1\n",
    "    else:\n",
    "        test_data['is_Diesel'][i] = 0"
   ]
  },
  {
   "cell_type": "code",
   "execution_count": 89,
   "id": "documented-conditions",
   "metadata": {
    "execution": {
     "iopub.execute_input": "2021-07-08T10:00:46.593580Z",
     "iopub.status.busy": "2021-07-08T10:00:46.592968Z",
     "iopub.status.idle": "2021-07-08T10:00:47.207416Z",
     "shell.execute_reply": "2021-07-08T10:00:47.206727Z",
     "shell.execute_reply.started": "2021-07-08T09:39:25.954740Z"
    },
    "papermill": {
     "duration": 0.745814,
     "end_time": "2021-07-08T10:00:47.207559",
     "exception": false,
     "start_time": "2021-07-08T10:00:46.461745",
     "status": "completed"
    },
    "tags": []
   },
   "outputs": [],
   "source": [
    "is_automatic = pd.DataFrame(columns=['is_automatic'])\n",
    "train_data = pd.concat([train_data, is_automatic], axis=1)\n",
    "test_data = pd.concat([test_data, is_automatic], axis=1)\n",
    "\n",
    "for i in train_data.index:\n",
    "    value = train_data['Transmission'][i]\n",
    "    if value == 'Automatic':\n",
    "        train_data['is_automatic'][i] = 1\n",
    "    else:\n",
    "        train_data['is_automatic'][i] = 0\n",
    "\n",
    "        \n",
    "for i in test_data.index:\n",
    "    value = test_data['Transmission'][i]\n",
    "    if value == 'Automatic':\n",
    "        test_data['is_automatic'][i] = 1\n",
    "    else:\n",
    "        test_data['is_automatic'][i] = 0"
   ]
  },
  {
   "cell_type": "code",
   "execution_count": 90,
   "id": "fitting-gardening",
   "metadata": {
    "execution": {
     "iopub.execute_input": "2021-07-08T10:00:47.447397Z",
     "iopub.status.busy": "2021-07-08T10:00:47.446452Z",
     "iopub.status.idle": "2021-07-08T10:00:48.124861Z",
     "shell.execute_reply": "2021-07-08T10:00:48.124347Z",
     "shell.execute_reply.started": "2021-07-08T09:39:26.552746Z"
    },
    "papermill": {
     "duration": 0.808557,
     "end_time": "2021-07-08T10:00:48.124990",
     "exception": false,
     "start_time": "2021-07-08T10:00:47.316433",
     "status": "completed"
    },
    "tags": []
   },
   "outputs": [],
   "source": [
    "is_2_seats = pd.DataFrame(columns=['is_2_seats'])\n",
    "train_data = pd.concat([train_data, is_2_seats], axis=1)\n",
    "test_data = pd.concat([test_data, is_2_seats], axis=1)\n",
    "\n",
    "for i in train_data.index:\n",
    "    value = train_data['Seats'][i]\n",
    "    if value == 2:\n",
    "        train_data['is_2_seats'][i] = 1\n",
    "    else:\n",
    "        train_data['is_2_seats'][i] = 0\n",
    "        \n",
    "for i in test_data.index:\n",
    "    value = test_data['Seats'][i]\n",
    "    if value == 2:\n",
    "        test_data['is_2_seats'][i] = 1\n",
    "    else:\n",
    "        test_data['is_2_seats'][i] = 0"
   ]
  },
  {
   "cell_type": "code",
   "execution_count": 91,
   "id": "ceramic-asbestos",
   "metadata": {
    "execution": {
     "iopub.execute_input": "2021-07-08T10:00:48.338911Z",
     "iopub.status.busy": "2021-07-08T10:00:48.338091Z",
     "iopub.status.idle": "2021-07-08T10:00:48.347654Z",
     "shell.execute_reply": "2021-07-08T10:00:48.348286Z",
     "shell.execute_reply.started": "2021-07-08T09:39:27.187579Z"
    },
    "papermill": {
     "duration": 0.120839,
     "end_time": "2021-07-08T10:00:48.348473",
     "exception": false,
     "start_time": "2021-07-08T10:00:48.227634",
     "status": "completed"
    },
    "tags": []
   },
   "outputs": [
    {
     "name": "stdout",
     "output_type": "stream",
     "text": [
      "<class 'pandas.core.frame.DataFrame'>\n",
      "Int64Index: 6018 entries, 0 to 6018\n",
      "Data columns (total 15 columns):\n",
      " #   Column             Non-Null Count  Dtype  \n",
      "---  ------             --------------  -----  \n",
      " 0   Location           6018 non-null   object \n",
      " 1   Year               6018 non-null   int64  \n",
      " 2   Kilometers_Driven  6018 non-null   int64  \n",
      " 3   Fuel_Type          6018 non-null   object \n",
      " 4   Transmission       6018 non-null   object \n",
      " 5   Owner_Type         6018 non-null   object \n",
      " 6   Mileage            6018 non-null   float64\n",
      " 7   Engine             6018 non-null   int64  \n",
      " 8   Power              6018 non-null   float64\n",
      " 9   Seats              6018 non-null   float64\n",
      " 10  Price              6018 non-null   float64\n",
      " 11  post_2014          6018 non-null   object \n",
      " 12  is_Diesel          6018 non-null   object \n",
      " 13  is_automatic       6018 non-null   object \n",
      " 14  is_2_seats         6018 non-null   object \n",
      "dtypes: float64(4), int64(3), object(8)\n",
      "memory usage: 912.2+ KB\n"
     ]
    }
   ],
   "source": [
    "train_data.info()"
   ]
  },
  {
   "cell_type": "code",
   "execution_count": 92,
   "id": "representative-muslim",
   "metadata": {
    "execution": {
     "iopub.execute_input": "2021-07-08T10:00:48.577977Z",
     "iopub.status.busy": "2021-07-08T10:00:48.577137Z",
     "iopub.status.idle": "2021-07-08T10:00:48.587582Z",
     "shell.execute_reply": "2021-07-08T10:00:48.586933Z",
     "shell.execute_reply.started": "2021-07-08T09:39:27.205772Z"
    },
    "papermill": {
     "duration": 0.12815,
     "end_time": "2021-07-08T10:00:48.587748",
     "exception": false,
     "start_time": "2021-07-08T10:00:48.459598",
     "status": "completed"
    },
    "tags": []
   },
   "outputs": [
    {
     "name": "stdout",
     "output_type": "stream",
     "text": [
      "<class 'pandas.core.frame.DataFrame'>\n",
      "Int64Index: 6018 entries, 0 to 6018\n",
      "Data columns (total 15 columns):\n",
      " #   Column             Non-Null Count  Dtype  \n",
      "---  ------             --------------  -----  \n",
      " 0   Location           6018 non-null   object \n",
      " 1   Year               6018 non-null   int64  \n",
      " 2   Kilometers_Driven  6018 non-null   int64  \n",
      " 3   Fuel_Type          6018 non-null   object \n",
      " 4   Transmission       6018 non-null   object \n",
      " 5   Owner_Type         6018 non-null   object \n",
      " 6   Mileage            6018 non-null   float64\n",
      " 7   Engine             6018 non-null   int64  \n",
      " 8   Power              6018 non-null   float64\n",
      " 9   Seats              6018 non-null   float64\n",
      " 10  Price              6018 non-null   float64\n",
      " 11  post_2014          6018 non-null   object \n",
      " 12  is_Diesel          6018 non-null   object \n",
      " 13  is_automatic       6018 non-null   object \n",
      " 14  is_2_seats         6018 non-null   object \n",
      "dtypes: float64(4), int64(3), object(8)\n",
      "memory usage: 912.2+ KB\n"
     ]
    }
   ],
   "source": [
    "train_data.info()"
   ]
  },
  {
   "cell_type": "markdown",
   "id": "second-institute",
   "metadata": {
    "papermill": {
     "duration": 0.117398,
     "end_time": "2021-07-08T10:00:48.815956",
     "exception": false,
     "start_time": "2021-07-08T10:00:48.698558",
     "status": "completed"
    },
    "tags": []
   },
   "source": [
    "### Removed Outlier value of Kilometers driven."
   ]
  },
  {
   "cell_type": "code",
   "execution_count": 93,
   "id": "charming-nancy",
   "metadata": {
    "execution": {
     "iopub.execute_input": "2021-07-08T10:00:49.058148Z",
     "iopub.status.busy": "2021-07-08T10:00:49.057163Z",
     "iopub.status.idle": "2021-07-08T10:00:49.063208Z",
     "shell.execute_reply": "2021-07-08T10:00:49.062689Z",
     "shell.execute_reply.started": "2021-07-08T09:39:27.223640Z"
    },
    "papermill": {
     "duration": 0.128661,
     "end_time": "2021-07-08T10:00:49.063374",
     "exception": false,
     "start_time": "2021-07-08T10:00:48.934713",
     "status": "completed"
    },
    "tags": []
   },
   "outputs": [
    {
     "name": "stdout",
     "output_type": "stream",
     "text": [
      "(6018, 15)\n",
      "(6011, 15)\n"
     ]
    }
   ],
   "source": [
    "print(train_data.shape)\n",
    "temp = train_data[train_data['Kilometers_Driven'] > 400000].index\n",
    "train_data.drop(temp, axis=0, inplace=True)\n",
    "print(train_data.shape)"
   ]
  },
  {
   "cell_type": "code",
   "execution_count": 94,
   "id": "eleven-broadcasting",
   "metadata": {
    "execution": {
     "iopub.execute_input": "2021-07-08T10:00:49.292818Z",
     "iopub.status.busy": "2021-07-08T10:00:49.291976Z",
     "iopub.status.idle": "2021-07-08T10:00:49.302336Z",
     "shell.execute_reply": "2021-07-08T10:00:49.303131Z",
     "shell.execute_reply.started": "2021-07-08T09:39:27.236630Z"
    },
    "papermill": {
     "duration": 0.125707,
     "end_time": "2021-07-08T10:00:49.303366",
     "exception": false,
     "start_time": "2021-07-08T10:00:49.177659",
     "status": "completed"
    },
    "tags": []
   },
   "outputs": [
    {
     "name": "stdout",
     "output_type": "stream",
     "text": [
      "<class 'pandas.core.frame.DataFrame'>\n",
      "Int64Index: 6011 entries, 0 to 6018\n",
      "Data columns (total 15 columns):\n",
      " #   Column             Non-Null Count  Dtype  \n",
      "---  ------             --------------  -----  \n",
      " 0   Location           6011 non-null   object \n",
      " 1   Year               6011 non-null   int64  \n",
      " 2   Kilometers_Driven  6011 non-null   int64  \n",
      " 3   Fuel_Type          6011 non-null   object \n",
      " 4   Transmission       6011 non-null   object \n",
      " 5   Owner_Type         6011 non-null   object \n",
      " 6   Mileage            6011 non-null   float64\n",
      " 7   Engine             6011 non-null   int64  \n",
      " 8   Power              6011 non-null   float64\n",
      " 9   Seats              6011 non-null   float64\n",
      " 10  Price              6011 non-null   float64\n",
      " 11  post_2014          6011 non-null   object \n",
      " 12  is_Diesel          6011 non-null   object \n",
      " 13  is_automatic       6011 non-null   object \n",
      " 14  is_2_seats         6011 non-null   object \n",
      "dtypes: float64(4), int64(3), object(8)\n",
      "memory usage: 751.4+ KB\n"
     ]
    }
   ],
   "source": [
    "train_data.info()"
   ]
  },
  {
   "cell_type": "code",
   "execution_count": 95,
   "id": "exciting-pasta",
   "metadata": {
    "execution": {
     "iopub.execute_input": "2021-07-08T10:00:49.542046Z",
     "iopub.status.busy": "2021-07-08T10:00:49.540753Z",
     "iopub.status.idle": "2021-07-08T10:00:49.549654Z",
     "shell.execute_reply": "2021-07-08T10:00:49.550347Z",
     "shell.execute_reply.started": "2021-07-08T09:39:27.254135Z"
    },
    "papermill": {
     "duration": 0.131567,
     "end_time": "2021-07-08T10:00:49.550531",
     "exception": false,
     "start_time": "2021-07-08T10:00:49.418964",
     "status": "completed"
    },
    "tags": []
   },
   "outputs": [
    {
     "name": "stdout",
     "output_type": "stream",
     "text": [
      "post_2014\n",
      "is_Diesel\n",
      "is_automatic\n",
      "is_2_seats\n",
      "Mileage\n",
      "Engine\n",
      "Power\n"
     ]
    }
   ],
   "source": [
    "for i in ['post_2014', 'is_Diesel', 'is_automatic', 'is_2_seats', \n",
    "          'Mileage', 'Engine', 'Power']:\n",
    "    print(i)\n",
    "    train_data[i] = train_data[i].astype('float64')\n",
    "    test_data[i] = test_data[i].astype('float64')"
   ]
  },
  {
   "cell_type": "code",
   "execution_count": 96,
   "id": "outstanding-helen",
   "metadata": {
    "execution": {
     "iopub.execute_input": "2021-07-08T10:00:49.788799Z",
     "iopub.status.busy": "2021-07-08T10:00:49.787973Z",
     "iopub.status.idle": "2021-07-08T10:00:49.805900Z",
     "shell.execute_reply": "2021-07-08T10:00:49.805185Z",
     "shell.execute_reply.started": "2021-07-08T09:39:27.274249Z"
    },
    "papermill": {
     "duration": 0.137321,
     "end_time": "2021-07-08T10:00:49.806088",
     "exception": false,
     "start_time": "2021-07-08T10:00:49.668767",
     "status": "completed"
    },
    "tags": []
   },
   "outputs": [
    {
     "name": "stdout",
     "output_type": "stream",
     "text": [
      "(6011, 15) (1234, 14)\n",
      "(6011, 15) (1234, 14)\n"
     ]
    }
   ],
   "source": [
    "print(train_data.shape, test_data.shape)\n",
    "cat = train_data.select_dtypes(include='object')\n",
    "\n",
    "for i in cat.columns:\n",
    "    le = LabelEncoder()\n",
    "    train_data[i] = le.fit_transform(train_data[i])\n",
    "    test_data[i] = le.transform(test_data[i])\n",
    "    \n",
    "print(train_data.shape, test_data.shape)"
   ]
  },
  {
   "cell_type": "markdown",
   "id": "unavailable-norman",
   "metadata": {
    "papermill": {
     "duration": 0.119975,
     "end_time": "2021-07-08T10:00:50.043953",
     "exception": false,
     "start_time": "2021-07-08T10:00:49.923978",
     "status": "completed"
    },
    "tags": []
   },
   "source": [
    "## Normalization of various features."
   ]
  },
  {
   "cell_type": "code",
   "execution_count": 97,
   "id": "lonely-budget",
   "metadata": {
    "execution": {
     "iopub.execute_input": "2021-07-08T10:00:50.287872Z",
     "iopub.status.busy": "2021-07-08T10:00:50.286967Z",
     "iopub.status.idle": "2021-07-08T10:00:50.306913Z",
     "shell.execute_reply": "2021-07-08T10:00:50.306434Z",
     "shell.execute_reply.started": "2021-07-08T09:39:27.297846Z"
    },
    "papermill": {
     "duration": 0.144666,
     "end_time": "2021-07-08T10:00:50.307030",
     "exception": false,
     "start_time": "2021-07-08T10:00:50.162364",
     "status": "completed"
    },
    "tags": []
   },
   "outputs": [],
   "source": [
    "train_target = train_data['Price']\n",
    "train_data.drop('Price', axis=1, inplace=True)\n",
    "means = train_data.mean()\n",
    "stds = train_data.std()\n",
    "train_data = (train_data - means) / stds\n",
    "test_data = (test_data- means) / stds"
   ]
  },
  {
   "cell_type": "code",
   "execution_count": 98,
   "id": "canadian-petite",
   "metadata": {
    "execution": {
     "iopub.execute_input": "2021-07-08T10:00:50.535110Z",
     "iopub.status.busy": "2021-07-08T10:00:50.534137Z",
     "iopub.status.idle": "2021-07-08T10:00:50.539700Z",
     "shell.execute_reply": "2021-07-08T10:00:50.540329Z",
     "shell.execute_reply.started": "2021-07-08T09:39:27.322823Z"
    },
    "papermill": {
     "duration": 0.12611,
     "end_time": "2021-07-08T10:00:50.540514",
     "exception": false,
     "start_time": "2021-07-08T10:00:50.414404",
     "status": "completed"
    },
    "tags": []
   },
   "outputs": [
    {
     "name": "stdout",
     "output_type": "stream",
     "text": [
      "(6011, 14)\n"
     ]
    },
    {
     "data": {
      "text/html": [
       "<div>\n",
       "<style scoped>\n",
       "    .dataframe tbody tr th:only-of-type {\n",
       "        vertical-align: middle;\n",
       "    }\n",
       "\n",
       "    .dataframe tbody tr th {\n",
       "        vertical-align: top;\n",
       "    }\n",
       "\n",
       "    .dataframe thead th {\n",
       "        text-align: right;\n",
       "    }\n",
       "</style>\n",
       "<table border=\"1\" class=\"dataframe\">\n",
       "  <thead>\n",
       "    <tr style=\"text-align: right;\">\n",
       "      <th></th>\n",
       "      <th>Location</th>\n",
       "      <th>Year</th>\n",
       "      <th>Kilometers_Driven</th>\n",
       "      <th>Fuel_Type</th>\n",
       "      <th>Transmission</th>\n",
       "      <th>Owner_Type</th>\n",
       "      <th>Mileage</th>\n",
       "      <th>Engine</th>\n",
       "      <th>Power</th>\n",
       "      <th>Seats</th>\n",
       "      <th>post_2014</th>\n",
       "      <th>is_Diesel</th>\n",
       "      <th>is_automatic</th>\n",
       "      <th>is_2_seats</th>\n",
       "    </tr>\n",
       "  </thead>\n",
       "  <tbody>\n",
       "    <tr>\n",
       "      <th>0</th>\n",
       "      <td>1.142891</td>\n",
       "      <td>-1.026682</td>\n",
       "      <td>0.440469</td>\n",
       "      <td>-1.570056</td>\n",
       "      <td>0.632035</td>\n",
       "      <td>-0.464009</td>\n",
       "      <td>3.936569</td>\n",
       "      <td>-1.033562</td>\n",
       "      <td>-1.010905</td>\n",
       "      <td>-0.345781</td>\n",
       "      <td>-0.834834</td>\n",
       "      <td>-1.067219</td>\n",
       "      <td>-0.632035</td>\n",
       "      <td>-0.051657</td>\n",
       "    </tr>\n",
       "    <tr>\n",
       "      <th>1</th>\n",
       "      <td>1.481244</td>\n",
       "      <td>0.501948</td>\n",
       "      <td>-0.477719</td>\n",
       "      <td>-0.905576</td>\n",
       "      <td>0.632035</td>\n",
       "      <td>-0.464009</td>\n",
       "      <td>0.329035</td>\n",
       "      <td>-0.060477</td>\n",
       "      <td>0.259433</td>\n",
       "      <td>-0.345781</td>\n",
       "      <td>1.197644</td>\n",
       "      <td>0.936859</td>\n",
       "      <td>-0.632035</td>\n",
       "      <td>-0.051657</td>\n",
       "    </tr>\n",
       "    <tr>\n",
       "      <th>2</th>\n",
       "      <td>-1.225580</td>\n",
       "      <td>-0.720956</td>\n",
       "      <td>-0.329624</td>\n",
       "      <td>1.087863</td>\n",
       "      <td>0.632035</td>\n",
       "      <td>-0.464009</td>\n",
       "      <td>0.001821</td>\n",
       "      <td>-0.698647</td>\n",
       "      <td>-0.440709</td>\n",
       "      <td>-0.345781</td>\n",
       "      <td>-0.834834</td>\n",
       "      <td>-1.067219</td>\n",
       "      <td>-0.632035</td>\n",
       "      <td>-0.051657</td>\n",
       "    </tr>\n",
       "    <tr>\n",
       "      <th>3</th>\n",
       "      <td>-1.225580</td>\n",
       "      <td>-0.415230</td>\n",
       "      <td>0.884753</td>\n",
       "      <td>-0.905576</td>\n",
       "      <td>0.632035</td>\n",
       "      <td>-0.464009</td>\n",
       "      <td>0.553995</td>\n",
       "      <td>-0.617002</td>\n",
       "      <td>-0.439589</td>\n",
       "      <td>2.141936</td>\n",
       "      <td>-0.834834</td>\n",
       "      <td>0.936859</td>\n",
       "      <td>-0.632035</td>\n",
       "      <td>-0.051657</td>\n",
       "    </tr>\n",
       "    <tr>\n",
       "      <th>4</th>\n",
       "      <td>-0.887227</td>\n",
       "      <td>-0.109504</td>\n",
       "      <td>-0.487493</td>\n",
       "      <td>-0.905576</td>\n",
       "      <td>-1.581928</td>\n",
       "      <td>1.978335</td>\n",
       "      <td>-0.611705</td>\n",
       "      <td>0.582692</td>\n",
       "      <td>0.532021</td>\n",
       "      <td>-0.345781</td>\n",
       "      <td>-0.834834</td>\n",
       "      <td>0.936859</td>\n",
       "      <td>1.581928</td>\n",
       "      <td>-0.051657</td>\n",
       "    </tr>\n",
       "  </tbody>\n",
       "</table>\n",
       "</div>"
      ],
      "text/plain": [
       "   Location      Year  Kilometers_Driven  Fuel_Type  Transmission  Owner_Type  \\\n",
       "0  1.142891 -1.026682           0.440469  -1.570056      0.632035   -0.464009   \n",
       "1  1.481244  0.501948          -0.477719  -0.905576      0.632035   -0.464009   \n",
       "2 -1.225580 -0.720956          -0.329624   1.087863      0.632035   -0.464009   \n",
       "3 -1.225580 -0.415230           0.884753  -0.905576      0.632035   -0.464009   \n",
       "4 -0.887227 -0.109504          -0.487493  -0.905576     -1.581928    1.978335   \n",
       "\n",
       "    Mileage    Engine     Power     Seats  post_2014  is_Diesel  is_automatic  \\\n",
       "0  3.936569 -1.033562 -1.010905 -0.345781  -0.834834  -1.067219     -0.632035   \n",
       "1  0.329035 -0.060477  0.259433 -0.345781   1.197644   0.936859     -0.632035   \n",
       "2  0.001821 -0.698647 -0.440709 -0.345781  -0.834834  -1.067219     -0.632035   \n",
       "3  0.553995 -0.617002 -0.439589  2.141936  -0.834834   0.936859     -0.632035   \n",
       "4 -0.611705  0.582692  0.532021 -0.345781  -0.834834   0.936859      1.581928   \n",
       "\n",
       "   is_2_seats  \n",
       "0   -0.051657  \n",
       "1   -0.051657  \n",
       "2   -0.051657  \n",
       "3   -0.051657  \n",
       "4   -0.051657  "
      ]
     },
     "execution_count": 98,
     "metadata": {},
     "output_type": "execute_result"
    }
   ],
   "source": [
    "print(train_data.shape)\n",
    "train_data.head()"
   ]
  },
  {
   "cell_type": "code",
   "execution_count": 99,
   "id": "congressional-inflation",
   "metadata": {
    "execution": {
     "iopub.execute_input": "2021-07-08T10:00:50.766596Z",
     "iopub.status.busy": "2021-07-08T10:00:50.765371Z",
     "iopub.status.idle": "2021-07-08T10:00:50.786125Z",
     "shell.execute_reply": "2021-07-08T10:00:50.786922Z",
     "shell.execute_reply.started": "2021-07-08T09:39:27.342992Z"
    },
    "papermill": {
     "duration": 0.140609,
     "end_time": "2021-07-08T10:00:50.787115",
     "exception": false,
     "start_time": "2021-07-08T10:00:50.646506",
     "status": "completed"
    },
    "tags": []
   },
   "outputs": [
    {
     "name": "stdout",
     "output_type": "stream",
     "text": [
      "(1234, 14)\n"
     ]
    },
    {
     "data": {
      "text/html": [
       "<div>\n",
       "<style scoped>\n",
       "    .dataframe tbody tr th:only-of-type {\n",
       "        vertical-align: middle;\n",
       "    }\n",
       "\n",
       "    .dataframe tbody tr th {\n",
       "        vertical-align: top;\n",
       "    }\n",
       "\n",
       "    .dataframe thead th {\n",
       "        text-align: right;\n",
       "    }\n",
       "</style>\n",
       "<table border=\"1\" class=\"dataframe\">\n",
       "  <thead>\n",
       "    <tr style=\"text-align: right;\">\n",
       "      <th></th>\n",
       "      <th>Location</th>\n",
       "      <th>Year</th>\n",
       "      <th>Kilometers_Driven</th>\n",
       "      <th>Fuel_Type</th>\n",
       "      <th>Transmission</th>\n",
       "      <th>Owner_Type</th>\n",
       "      <th>Mileage</th>\n",
       "      <th>Engine</th>\n",
       "      <th>Power</th>\n",
       "      <th>Seats</th>\n",
       "      <th>post_2014</th>\n",
       "      <th>is_Diesel</th>\n",
       "      <th>is_automatic</th>\n",
       "      <th>is_2_seats</th>\n",
       "    </tr>\n",
       "  </thead>\n",
       "  <tbody>\n",
       "    <tr>\n",
       "      <th>0</th>\n",
       "      <td>-0.548874</td>\n",
       "      <td>0.196222</td>\n",
       "      <td>-0.479822</td>\n",
       "      <td>-1.570056</td>\n",
       "      <td>0.632035</td>\n",
       "      <td>-0.464009</td>\n",
       "      <td>5.557097</td>\n",
       "      <td>-1.033562</td>\n",
       "      <td>-1.010158</td>\n",
       "      <td>-1.589639</td>\n",
       "      <td>-0.834834</td>\n",
       "      <td>-1.067219</td>\n",
       "      <td>-0.632035</td>\n",
       "      <td>-0.051657</td>\n",
       "    </tr>\n",
       "    <tr>\n",
       "      <th>1</th>\n",
       "      <td>-0.887227</td>\n",
       "      <td>-0.109504</td>\n",
       "      <td>-0.078070</td>\n",
       "      <td>1.087863</td>\n",
       "      <td>0.632035</td>\n",
       "      <td>1.978335</td>\n",
       "      <td>1.228874</td>\n",
       "      <td>-1.370142</td>\n",
       "      <td>-1.213666</td>\n",
       "      <td>-0.345781</td>\n",
       "      <td>-0.834834</td>\n",
       "      <td>-1.067219</td>\n",
       "      <td>-0.632035</td>\n",
       "      <td>-0.051657</td>\n",
       "    </tr>\n",
       "    <tr>\n",
       "      <th>2</th>\n",
       "      <td>1.142891</td>\n",
       "      <td>1.113400</td>\n",
       "      <td>-0.685051</td>\n",
       "      <td>-0.905576</td>\n",
       "      <td>0.632035</td>\n",
       "      <td>-0.464009</td>\n",
       "      <td>-0.898017</td>\n",
       "      <td>1.290845</td>\n",
       "      <td>0.662714</td>\n",
       "      <td>2.141936</td>\n",
       "      <td>1.197644</td>\n",
       "      <td>0.936859</td>\n",
       "      <td>-0.632035</td>\n",
       "      <td>-0.051657</td>\n",
       "    </tr>\n",
       "    <tr>\n",
       "      <th>3</th>\n",
       "      <td>-0.210521</td>\n",
       "      <td>-0.415230</td>\n",
       "      <td>2.424939</td>\n",
       "      <td>-0.905576</td>\n",
       "      <td>0.632035</td>\n",
       "      <td>-0.464009</td>\n",
       "      <td>1.126619</td>\n",
       "      <td>-0.423718</td>\n",
       "      <td>-0.715165</td>\n",
       "      <td>-0.345781</td>\n",
       "      <td>-0.834834</td>\n",
       "      <td>0.936859</td>\n",
       "      <td>-0.632035</td>\n",
       "      <td>-0.051657</td>\n",
       "    </tr>\n",
       "    <tr>\n",
       "      <th>4</th>\n",
       "      <td>1.142891</td>\n",
       "      <td>0.196222</td>\n",
       "      <td>-0.833146</td>\n",
       "      <td>1.087863</td>\n",
       "      <td>0.632035</td>\n",
       "      <td>-0.464009</td>\n",
       "      <td>0.001821</td>\n",
       "      <td>-0.701980</td>\n",
       "      <td>-0.549931</td>\n",
       "      <td>-0.345781</td>\n",
       "      <td>-0.834834</td>\n",
       "      <td>-1.067219</td>\n",
       "      <td>-0.632035</td>\n",
       "      <td>-0.051657</td>\n",
       "    </tr>\n",
       "  </tbody>\n",
       "</table>\n",
       "</div>"
      ],
      "text/plain": [
       "   Location      Year  Kilometers_Driven  Fuel_Type  Transmission  Owner_Type  \\\n",
       "0 -0.548874  0.196222          -0.479822  -1.570056      0.632035   -0.464009   \n",
       "1 -0.887227 -0.109504          -0.078070   1.087863      0.632035    1.978335   \n",
       "2  1.142891  1.113400          -0.685051  -0.905576      0.632035   -0.464009   \n",
       "3 -0.210521 -0.415230           2.424939  -0.905576      0.632035   -0.464009   \n",
       "4  1.142891  0.196222          -0.833146   1.087863      0.632035   -0.464009   \n",
       "\n",
       "    Mileage    Engine     Power     Seats  post_2014  is_Diesel  is_automatic  \\\n",
       "0  5.557097 -1.033562 -1.010158 -1.589639  -0.834834  -1.067219     -0.632035   \n",
       "1  1.228874 -1.370142 -1.213666 -0.345781  -0.834834  -1.067219     -0.632035   \n",
       "2 -0.898017  1.290845  0.662714  2.141936   1.197644   0.936859     -0.632035   \n",
       "3  1.126619 -0.423718 -0.715165 -0.345781  -0.834834   0.936859     -0.632035   \n",
       "4  0.001821 -0.701980 -0.549931 -0.345781  -0.834834  -1.067219     -0.632035   \n",
       "\n",
       "   is_2_seats  \n",
       "0   -0.051657  \n",
       "1   -0.051657  \n",
       "2   -0.051657  \n",
       "3   -0.051657  \n",
       "4   -0.051657  "
      ]
     },
     "execution_count": 99,
     "metadata": {},
     "output_type": "execute_result"
    }
   ],
   "source": [
    "print(test_data.shape)\n",
    "test_data.head()"
   ]
  },
  {
   "cell_type": "markdown",
   "id": "grateful-jesus",
   "metadata": {
    "papermill": {
     "duration": 0.188759,
     "end_time": "2021-07-08T10:00:51.134012",
     "exception": false,
     "start_time": "2021-07-08T10:00:50.945253",
     "status": "completed"
    },
    "tags": []
   },
   "source": [
    "## Model Training"
   ]
  },
  {
   "cell_type": "code",
   "execution_count": 100,
   "id": "honey-provision",
   "metadata": {
    "execution": {
     "iopub.execute_input": "2021-07-08T10:00:51.523081Z",
     "iopub.status.busy": "2021-07-08T10:00:51.522227Z",
     "iopub.status.idle": "2021-07-08T10:00:51.528861Z",
     "shell.execute_reply": "2021-07-08T10:00:51.529541Z",
     "shell.execute_reply.started": "2021-07-08T09:39:27.363061Z"
    },
    "papermill": {
     "duration": 0.198572,
     "end_time": "2021-07-08T10:00:51.529739",
     "exception": false,
     "start_time": "2021-07-08T10:00:51.331167",
     "status": "completed"
    },
    "tags": []
   },
   "outputs": [
    {
     "name": "stdout",
     "output_type": "stream",
     "text": [
      "(5109, 14)\n",
      "(5109,)\n",
      "(902, 14)\n",
      "(902,)\n"
     ]
    }
   ],
   "source": [
    "X_train, X_dev, y_train, y_dev = train_test_split(train_data, train_target, test_size=0.15, random_state=42)\n",
    "print(X_train.shape)\n",
    "print(y_train.shape)\n",
    "print(X_dev.shape)\n",
    "print(y_dev.shape)"
   ]
  },
  {
   "cell_type": "code",
   "execution_count": 101,
   "id": "interstate-surge",
   "metadata": {
    "execution": {
     "iopub.execute_input": "2021-07-08T10:00:51.755218Z",
     "iopub.status.busy": "2021-07-08T10:00:51.754630Z",
     "iopub.status.idle": "2021-07-08T10:00:51.793422Z",
     "shell.execute_reply": "2021-07-08T10:00:51.794389Z",
     "shell.execute_reply.started": "2021-07-08T09:39:27.374918Z"
    },
    "papermill": {
     "duration": 0.155253,
     "end_time": "2021-07-08T10:00:51.794640",
     "exception": false,
     "start_time": "2021-07-08T10:00:51.639387",
     "status": "completed"
    },
    "tags": []
   },
   "outputs": [
    {
     "name": "stdout",
     "output_type": "stream",
     "text": [
      "MSE on Training Set (Linear Regression): 37.04042949937764\n",
      "MSE on Dev Set (Linear Regression): 30.742740936398754\n"
     ]
    }
   ],
   "source": [
    "# Linear Regression\n",
    "lr = LinearRegression()\n",
    "lr.fit(X_train, y_train)\n",
    "\n",
    "# Predict training data\n",
    "y_pred_lr_train = lr.predict(X_train)\n",
    "\n",
    "# Evaluation training data\n",
    "print(\"MSE on Training Set (Linear Regression):\", mean_squared_error(y_pred_lr_train, y_train))\n",
    "\n",
    "# Predict dev data\n",
    "y_pred_lr_dev = lr.predict(X_dev)\n",
    "\n",
    "# Evaluation dev data\n",
    "print(\"MSE on Dev Set (Linear Regression):\", mean_squared_error(y_pred_lr_dev, y_dev))"
   ]
  },
  {
   "cell_type": "code",
   "execution_count": 102,
   "id": "authorized-legislation",
   "metadata": {
    "execution": {
     "iopub.execute_input": "2021-07-08T10:00:52.113784Z",
     "iopub.status.busy": "2021-07-08T10:00:52.112868Z",
     "iopub.status.idle": "2021-07-08T10:00:52.132669Z",
     "shell.execute_reply": "2021-07-08T10:00:52.131900Z",
     "shell.execute_reply.started": "2021-07-08T09:39:27.416428Z"
    },
    "papermill": {
     "duration": 0.138737,
     "end_time": "2021-07-08T10:00:52.132858",
     "exception": false,
     "start_time": "2021-07-08T10:00:51.994121",
     "status": "completed"
    },
    "tags": []
   },
   "outputs": [
    {
     "name": "stdout",
     "output_type": "stream",
     "text": [
      "MSE on Training Set (Decision Tree): 20.17105705722395\n",
      "MSE on Dev Set (Decision Tree): 27.91493508020873\n"
     ]
    }
   ],
   "source": [
    "# Decision Tree\n",
    "dt = DecisionTreeRegressor(splitter='best', max_depth=5)\n",
    "dt.fit(X_train, y_train)\n",
    "\n",
    "# Predict training data\n",
    "y_pred_dt_train = dt.predict(X_train)\n",
    "\n",
    "# Evaluation training data\n",
    "print(\"MSE on Training Set (Decision Tree):\", mean_squared_error(y_pred_dt_train, y_train))\n",
    "\n",
    "# Predict dev data\n",
    "y_pred_lr_dev = dt.predict(X_dev)\n",
    "\n",
    "# Evaluation dev data\n",
    "print(\"MSE on Dev Set (Decision Tree):\", mean_squared_error(y_pred_lr_dev, y_dev))"
   ]
  },
  {
   "cell_type": "code",
   "execution_count": 103,
   "id": "signal-likelihood",
   "metadata": {
    "execution": {
     "iopub.execute_input": "2021-07-08T10:00:52.395164Z",
     "iopub.status.busy": "2021-07-08T10:00:52.393935Z",
     "iopub.status.idle": "2021-07-08T10:00:52.559187Z",
     "shell.execute_reply": "2021-07-08T10:00:52.558659Z",
     "shell.execute_reply.started": "2021-07-08T09:39:27.471850Z"
    },
    "papermill": {
     "duration": 0.298596,
     "end_time": "2021-07-08T10:00:52.559333",
     "exception": false,
     "start_time": "2021-07-08T10:00:52.260737",
     "status": "completed"
    },
    "tags": []
   },
   "outputs": [
    {
     "name": "stdout",
     "output_type": "stream",
     "text": [
      "MSE on Training Set (Random Forest): 16.397969204332078\n",
      "MSE on Dev Set (Random Forest): 16.729469783601047\n"
     ]
    }
   ],
   "source": [
    "# Random Froest\n",
    "rf = RandomForestRegressor(n_estimators=20, max_depth=5)\n",
    "rf.fit(X_train, y_train)\n",
    "\n",
    "# Predict training data\n",
    "y_pred_rf_train = rf.predict(X_train)\n",
    "\n",
    "# Evaluation training data\n",
    "print(\"MSE on Training Set (Random Forest):\", mean_squared_error(y_pred_rf_train, y_train))\n",
    "\n",
    "# Predict dev data\n",
    "y_pred_rf_dev = rf.predict(X_dev)\n",
    "\n",
    "# Evaluation dev data\n",
    "print(\"MSE on Dev Set (Random Forest):\", mean_squared_error(y_pred_rf_dev, y_dev))"
   ]
  },
  {
   "cell_type": "code",
   "execution_count": 104,
   "id": "speaking-worry",
   "metadata": {
    "execution": {
     "iopub.execute_input": "2021-07-08T10:00:52.792274Z",
     "iopub.status.busy": "2021-07-08T10:00:52.791432Z",
     "iopub.status.idle": "2021-07-08T10:17:18.154157Z",
     "shell.execute_reply": "2021-07-08T10:17:18.153102Z",
     "shell.execute_reply.started": "2021-07-08T09:39:27.655495Z"
    },
    "papermill": {
     "duration": 985.476921,
     "end_time": "2021-07-08T10:17:18.154330",
     "exception": false,
     "start_time": "2021-07-08T10:00:52.677409",
     "status": "completed"
    },
    "tags": []
   },
   "outputs": [
    {
     "name": "stdout",
     "output_type": "stream",
     "text": [
      "Fitting 5 folds for each of 72 candidates, totalling 360 fits\n",
      "[CV] END .........criterion=mse, max_depth=5, n_estimators=5; total time=   0.0s\n",
      "[CV] END .........criterion=mse, max_depth=5, n_estimators=5; total time=   0.0s\n",
      "[CV] END .........criterion=mse, max_depth=5, n_estimators=5; total time=   0.0s\n",
      "[CV] END .........criterion=mse, max_depth=5, n_estimators=5; total time=   0.0s\n",
      "[CV] END .........criterion=mse, max_depth=5, n_estimators=5; total time=   0.0s\n",
      "[CV] END ........criterion=mse, max_depth=5, n_estimators=10; total time=   0.1s\n",
      "[CV] END ........criterion=mse, max_depth=5, n_estimators=10; total time=   0.1s\n",
      "[CV] END ........criterion=mse, max_depth=5, n_estimators=10; total time=   0.1s\n",
      "[CV] END ........criterion=mse, max_depth=5, n_estimators=10; total time=   0.1s\n",
      "[CV] END ........criterion=mse, max_depth=5, n_estimators=10; total time=   0.1s\n",
      "[CV] END ........criterion=mse, max_depth=5, n_estimators=15; total time=   0.1s\n",
      "[CV] END ........criterion=mse, max_depth=5, n_estimators=15; total time=   0.1s\n",
      "[CV] END ........criterion=mse, max_depth=5, n_estimators=15; total time=   0.1s\n",
      "[CV] END ........criterion=mse, max_depth=5, n_estimators=15; total time=   0.1s\n",
      "[CV] END ........criterion=mse, max_depth=5, n_estimators=15; total time=   0.1s\n",
      "[CV] END ........criterion=mse, max_depth=5, n_estimators=20; total time=   0.1s\n",
      "[CV] END ........criterion=mse, max_depth=5, n_estimators=20; total time=   0.1s\n",
      "[CV] END ........criterion=mse, max_depth=5, n_estimators=20; total time=   0.1s\n",
      "[CV] END ........criterion=mse, max_depth=5, n_estimators=20; total time=   0.1s\n",
      "[CV] END ........criterion=mse, max_depth=5, n_estimators=20; total time=   0.1s\n",
      "[CV] END ........criterion=mse, max_depth=5, n_estimators=25; total time=   0.2s\n",
      "[CV] END ........criterion=mse, max_depth=5, n_estimators=25; total time=   0.2s\n",
      "[CV] END ........criterion=mse, max_depth=5, n_estimators=25; total time=   0.2s\n",
      "[CV] END ........criterion=mse, max_depth=5, n_estimators=25; total time=   0.2s\n",
      "[CV] END ........criterion=mse, max_depth=5, n_estimators=25; total time=   0.2s\n",
      "[CV] END ........criterion=mse, max_depth=5, n_estimators=30; total time=   0.2s\n",
      "[CV] END ........criterion=mse, max_depth=5, n_estimators=30; total time=   0.2s\n",
      "[CV] END ........criterion=mse, max_depth=5, n_estimators=30; total time=   0.2s\n",
      "[CV] END ........criterion=mse, max_depth=5, n_estimators=30; total time=   0.2s\n",
      "[CV] END ........criterion=mse, max_depth=5, n_estimators=30; total time=   0.2s\n",
      "[CV] END .........criterion=mse, max_depth=6, n_estimators=5; total time=   0.0s\n",
      "[CV] END .........criterion=mse, max_depth=6, n_estimators=5; total time=   0.0s\n",
      "[CV] END .........criterion=mse, max_depth=6, n_estimators=5; total time=   0.0s\n",
      "[CV] END .........criterion=mse, max_depth=6, n_estimators=5; total time=   0.0s\n",
      "[CV] END .........criterion=mse, max_depth=6, n_estimators=5; total time=   0.0s\n",
      "[CV] END ........criterion=mse, max_depth=6, n_estimators=10; total time=   0.1s\n",
      "[CV] END ........criterion=mse, max_depth=6, n_estimators=10; total time=   0.1s\n",
      "[CV] END ........criterion=mse, max_depth=6, n_estimators=10; total time=   0.1s\n",
      "[CV] END ........criterion=mse, max_depth=6, n_estimators=10; total time=   0.1s\n",
      "[CV] END ........criterion=mse, max_depth=6, n_estimators=10; total time=   0.1s\n",
      "[CV] END ........criterion=mse, max_depth=6, n_estimators=15; total time=   0.1s\n",
      "[CV] END ........criterion=mse, max_depth=6, n_estimators=15; total time=   0.1s\n",
      "[CV] END ........criterion=mse, max_depth=6, n_estimators=15; total time=   0.1s\n",
      "[CV] END ........criterion=mse, max_depth=6, n_estimators=15; total time=   0.1s\n",
      "[CV] END ........criterion=mse, max_depth=6, n_estimators=15; total time=   0.1s\n",
      "[CV] END ........criterion=mse, max_depth=6, n_estimators=20; total time=   0.1s\n",
      "[CV] END ........criterion=mse, max_depth=6, n_estimators=20; total time=   0.2s\n",
      "[CV] END ........criterion=mse, max_depth=6, n_estimators=20; total time=   0.2s\n",
      "[CV] END ........criterion=mse, max_depth=6, n_estimators=20; total time=   0.2s\n",
      "[CV] END ........criterion=mse, max_depth=6, n_estimators=20; total time=   0.2s\n",
      "[CV] END ........criterion=mse, max_depth=6, n_estimators=25; total time=   0.2s\n",
      "[CV] END ........criterion=mse, max_depth=6, n_estimators=25; total time=   0.2s\n",
      "[CV] END ........criterion=mse, max_depth=6, n_estimators=25; total time=   0.2s\n",
      "[CV] END ........criterion=mse, max_depth=6, n_estimators=25; total time=   0.2s\n",
      "[CV] END ........criterion=mse, max_depth=6, n_estimators=25; total time=   0.2s\n",
      "[CV] END ........criterion=mse, max_depth=6, n_estimators=30; total time=   0.2s\n",
      "[CV] END ........criterion=mse, max_depth=6, n_estimators=30; total time=   0.2s\n",
      "[CV] END ........criterion=mse, max_depth=6, n_estimators=30; total time=   0.2s\n",
      "[CV] END ........criterion=mse, max_depth=6, n_estimators=30; total time=   0.2s\n",
      "[CV] END ........criterion=mse, max_depth=6, n_estimators=30; total time=   0.2s\n",
      "[CV] END .........criterion=mse, max_depth=7, n_estimators=5; total time=   0.1s\n",
      "[CV] END .........criterion=mse, max_depth=7, n_estimators=5; total time=   0.0s\n",
      "[CV] END .........criterion=mse, max_depth=7, n_estimators=5; total time=   0.1s\n",
      "[CV] END .........criterion=mse, max_depth=7, n_estimators=5; total time=   0.1s\n",
      "[CV] END .........criterion=mse, max_depth=7, n_estimators=5; total time=   0.0s\n",
      "[CV] END ........criterion=mse, max_depth=7, n_estimators=10; total time=   0.1s\n",
      "[CV] END ........criterion=mse, max_depth=7, n_estimators=10; total time=   0.1s\n",
      "[CV] END ........criterion=mse, max_depth=7, n_estimators=10; total time=   0.1s\n",
      "[CV] END ........criterion=mse, max_depth=7, n_estimators=10; total time=   0.1s\n",
      "[CV] END ........criterion=mse, max_depth=7, n_estimators=10; total time=   0.1s\n",
      "[CV] END ........criterion=mse, max_depth=7, n_estimators=15; total time=   0.1s\n",
      "[CV] END ........criterion=mse, max_depth=7, n_estimators=15; total time=   0.1s\n",
      "[CV] END ........criterion=mse, max_depth=7, n_estimators=15; total time=   0.1s\n",
      "[CV] END ........criterion=mse, max_depth=7, n_estimators=15; total time=   0.1s\n",
      "[CV] END ........criterion=mse, max_depth=7, n_estimators=15; total time=   0.1s\n",
      "[CV] END ........criterion=mse, max_depth=7, n_estimators=20; total time=   0.2s\n",
      "[CV] END ........criterion=mse, max_depth=7, n_estimators=20; total time=   0.3s\n",
      "[CV] END ........criterion=mse, max_depth=7, n_estimators=20; total time=   0.2s\n",
      "[CV] END ........criterion=mse, max_depth=7, n_estimators=20; total time=   0.2s\n",
      "[CV] END ........criterion=mse, max_depth=7, n_estimators=20; total time=   0.2s\n",
      "[CV] END ........criterion=mse, max_depth=7, n_estimators=25; total time=   0.2s\n",
      "[CV] END ........criterion=mse, max_depth=7, n_estimators=25; total time=   0.2s\n",
      "[CV] END ........criterion=mse, max_depth=7, n_estimators=25; total time=   0.2s\n",
      "[CV] END ........criterion=mse, max_depth=7, n_estimators=25; total time=   0.2s\n",
      "[CV] END ........criterion=mse, max_depth=7, n_estimators=25; total time=   0.2s\n",
      "[CV] END ........criterion=mse, max_depth=7, n_estimators=30; total time=   0.3s\n",
      "[CV] END ........criterion=mse, max_depth=7, n_estimators=30; total time=   0.2s\n",
      "[CV] END ........criterion=mse, max_depth=7, n_estimators=30; total time=   0.3s\n",
      "[CV] END ........criterion=mse, max_depth=7, n_estimators=30; total time=   0.3s\n",
      "[CV] END ........criterion=mse, max_depth=7, n_estimators=30; total time=   0.3s\n",
      "[CV] END ........criterion=mse, max_depth=12, n_estimators=5; total time=   0.1s\n",
      "[CV] END ........criterion=mse, max_depth=12, n_estimators=5; total time=   0.1s\n",
      "[CV] END ........criterion=mse, max_depth=12, n_estimators=5; total time=   0.1s\n",
      "[CV] END ........criterion=mse, max_depth=12, n_estimators=5; total time=   0.1s\n",
      "[CV] END ........criterion=mse, max_depth=12, n_estimators=5; total time=   0.1s\n",
      "[CV] END .......criterion=mse, max_depth=12, n_estimators=10; total time=   0.1s\n",
      "[CV] END .......criterion=mse, max_depth=12, n_estimators=10; total time=   0.2s\n",
      "[CV] END .......criterion=mse, max_depth=12, n_estimators=10; total time=   0.2s\n",
      "[CV] END .......criterion=mse, max_depth=12, n_estimators=10; total time=   0.2s\n",
      "[CV] END .......criterion=mse, max_depth=12, n_estimators=10; total time=   0.1s\n",
      "[CV] END .......criterion=mse, max_depth=12, n_estimators=15; total time=   0.2s\n",
      "[CV] END .......criterion=mse, max_depth=12, n_estimators=15; total time=   0.2s\n",
      "[CV] END .......criterion=mse, max_depth=12, n_estimators=15; total time=   0.3s\n",
      "[CV] END .......criterion=mse, max_depth=12, n_estimators=15; total time=   0.3s\n",
      "[CV] END .......criterion=mse, max_depth=12, n_estimators=15; total time=   0.3s\n",
      "[CV] END .......criterion=mse, max_depth=12, n_estimators=20; total time=   0.3s\n",
      "[CV] END .......criterion=mse, max_depth=12, n_estimators=20; total time=   0.3s\n",
      "[CV] END .......criterion=mse, max_depth=12, n_estimators=20; total time=   0.3s\n",
      "[CV] END .......criterion=mse, max_depth=12, n_estimators=20; total time=   0.3s\n",
      "[CV] END .......criterion=mse, max_depth=12, n_estimators=20; total time=   0.3s\n",
      "[CV] END .......criterion=mse, max_depth=12, n_estimators=25; total time=   0.3s\n",
      "[CV] END .......criterion=mse, max_depth=12, n_estimators=25; total time=   0.4s\n",
      "[CV] END .......criterion=mse, max_depth=12, n_estimators=25; total time=   0.3s\n",
      "[CV] END .......criterion=mse, max_depth=12, n_estimators=25; total time=   0.3s\n",
      "[CV] END .......criterion=mse, max_depth=12, n_estimators=25; total time=   0.3s\n",
      "[CV] END .......criterion=mse, max_depth=12, n_estimators=30; total time=   0.4s\n",
      "[CV] END .......criterion=mse, max_depth=12, n_estimators=30; total time=   0.4s\n",
      "[CV] END .......criterion=mse, max_depth=12, n_estimators=30; total time=   0.4s\n",
      "[CV] END .......criterion=mse, max_depth=12, n_estimators=30; total time=   0.4s\n",
      "[CV] END .......criterion=mse, max_depth=12, n_estimators=30; total time=   0.4s\n",
      "[CV] END ........criterion=mse, max_depth=13, n_estimators=5; total time=   0.1s\n",
      "[CV] END ........criterion=mse, max_depth=13, n_estimators=5; total time=   0.1s\n",
      "[CV] END ........criterion=mse, max_depth=13, n_estimators=5; total time=   0.1s\n",
      "[CV] END ........criterion=mse, max_depth=13, n_estimators=5; total time=   0.1s\n",
      "[CV] END ........criterion=mse, max_depth=13, n_estimators=5; total time=   0.1s\n",
      "[CV] END .......criterion=mse, max_depth=13, n_estimators=10; total time=   0.2s\n",
      "[CV] END .......criterion=mse, max_depth=13, n_estimators=10; total time=   0.1s\n",
      "[CV] END .......criterion=mse, max_depth=13, n_estimators=10; total time=   0.1s\n",
      "[CV] END .......criterion=mse, max_depth=13, n_estimators=10; total time=   0.1s\n",
      "[CV] END .......criterion=mse, max_depth=13, n_estimators=10; total time=   0.2s\n",
      "[CV] END .......criterion=mse, max_depth=13, n_estimators=15; total time=   0.2s\n",
      "[CV] END .......criterion=mse, max_depth=13, n_estimators=15; total time=   0.2s\n",
      "[CV] END .......criterion=mse, max_depth=13, n_estimators=15; total time=   0.2s\n",
      "[CV] END .......criterion=mse, max_depth=13, n_estimators=15; total time=   0.2s\n",
      "[CV] END .......criterion=mse, max_depth=13, n_estimators=15; total time=   0.2s\n",
      "[CV] END .......criterion=mse, max_depth=13, n_estimators=20; total time=   0.3s\n",
      "[CV] END .......criterion=mse, max_depth=13, n_estimators=20; total time=   0.3s\n",
      "[CV] END .......criterion=mse, max_depth=13, n_estimators=20; total time=   0.3s\n",
      "[CV] END .......criterion=mse, max_depth=13, n_estimators=20; total time=   0.3s\n",
      "[CV] END .......criterion=mse, max_depth=13, n_estimators=20; total time=   0.3s\n",
      "[CV] END .......criterion=mse, max_depth=13, n_estimators=25; total time=   0.4s\n",
      "[CV] END .......criterion=mse, max_depth=13, n_estimators=25; total time=   0.3s\n",
      "[CV] END .......criterion=mse, max_depth=13, n_estimators=25; total time=   0.3s\n",
      "[CV] END .......criterion=mse, max_depth=13, n_estimators=25; total time=   0.4s\n",
      "[CV] END .......criterion=mse, max_depth=13, n_estimators=25; total time=   0.3s\n",
      "[CV] END .......criterion=mse, max_depth=13, n_estimators=30; total time=   0.4s\n",
      "[CV] END .......criterion=mse, max_depth=13, n_estimators=30; total time=   0.4s\n",
      "[CV] END .......criterion=mse, max_depth=13, n_estimators=30; total time=   0.4s\n",
      "[CV] END .......criterion=mse, max_depth=13, n_estimators=30; total time=   0.4s\n",
      "[CV] END .......criterion=mse, max_depth=13, n_estimators=30; total time=   0.4s\n",
      "[CV] END ........criterion=mse, max_depth=15, n_estimators=5; total time=   0.1s\n",
      "[CV] END ........criterion=mse, max_depth=15, n_estimators=5; total time=   0.1s\n",
      "[CV] END ........criterion=mse, max_depth=15, n_estimators=5; total time=   0.1s\n",
      "[CV] END ........criterion=mse, max_depth=15, n_estimators=5; total time=   0.1s\n",
      "[CV] END ........criterion=mse, max_depth=15, n_estimators=5; total time=   0.1s\n",
      "[CV] END .......criterion=mse, max_depth=15, n_estimators=10; total time=   0.2s\n",
      "[CV] END .......criterion=mse, max_depth=15, n_estimators=10; total time=   0.2s\n",
      "[CV] END .......criterion=mse, max_depth=15, n_estimators=10; total time=   0.2s\n",
      "[CV] END .......criterion=mse, max_depth=15, n_estimators=10; total time=   0.2s\n",
      "[CV] END .......criterion=mse, max_depth=15, n_estimators=10; total time=   0.2s\n",
      "[CV] END .......criterion=mse, max_depth=15, n_estimators=15; total time=   0.2s\n",
      "[CV] END .......criterion=mse, max_depth=15, n_estimators=15; total time=   0.2s\n",
      "[CV] END .......criterion=mse, max_depth=15, n_estimators=15; total time=   0.2s\n",
      "[CV] END .......criterion=mse, max_depth=15, n_estimators=15; total time=   0.3s\n",
      "[CV] END .......criterion=mse, max_depth=15, n_estimators=15; total time=   0.3s\n",
      "[CV] END .......criterion=mse, max_depth=15, n_estimators=20; total time=   0.4s\n",
      "[CV] END .......criterion=mse, max_depth=15, n_estimators=20; total time=   0.3s\n",
      "[CV] END .......criterion=mse, max_depth=15, n_estimators=20; total time=   0.4s\n",
      "[CV] END .......criterion=mse, max_depth=15, n_estimators=20; total time=   0.4s\n",
      "[CV] END .......criterion=mse, max_depth=15, n_estimators=20; total time=   0.3s\n",
      "[CV] END .......criterion=mse, max_depth=15, n_estimators=25; total time=   0.4s\n",
      "[CV] END .......criterion=mse, max_depth=15, n_estimators=25; total time=   0.4s\n",
      "[CV] END .......criterion=mse, max_depth=15, n_estimators=25; total time=   0.4s\n",
      "[CV] END .......criterion=mse, max_depth=15, n_estimators=25; total time=   0.4s\n",
      "[CV] END .......criterion=mse, max_depth=15, n_estimators=25; total time=   0.4s\n",
      "[CV] END .......criterion=mse, max_depth=15, n_estimators=30; total time=   0.5s\n",
      "[CV] END .......criterion=mse, max_depth=15, n_estimators=30; total time=   0.5s\n",
      "[CV] END .......criterion=mse, max_depth=15, n_estimators=30; total time=   0.4s\n",
      "[CV] END .......criterion=mse, max_depth=15, n_estimators=30; total time=   0.5s\n",
      "[CV] END .......criterion=mse, max_depth=15, n_estimators=30; total time=   0.4s\n",
      "[CV] END .........criterion=mae, max_depth=5, n_estimators=5; total time=   1.3s\n",
      "[CV] END .........criterion=mae, max_depth=5, n_estimators=5; total time=   1.3s\n",
      "[CV] END .........criterion=mae, max_depth=5, n_estimators=5; total time=   1.3s\n",
      "[CV] END .........criterion=mae, max_depth=5, n_estimators=5; total time=   1.3s\n",
      "[CV] END .........criterion=mae, max_depth=5, n_estimators=5; total time=   1.5s\n",
      "[CV] END ........criterion=mae, max_depth=5, n_estimators=10; total time=   2.6s\n",
      "[CV] END ........criterion=mae, max_depth=5, n_estimators=10; total time=   3.0s\n",
      "[CV] END ........criterion=mae, max_depth=5, n_estimators=10; total time=   2.5s\n",
      "[CV] END ........criterion=mae, max_depth=5, n_estimators=10; total time=   2.7s\n",
      "[CV] END ........criterion=mae, max_depth=5, n_estimators=10; total time=   2.5s\n",
      "[CV] END ........criterion=mae, max_depth=5, n_estimators=15; total time=   3.9s\n",
      "[CV] END ........criterion=mae, max_depth=5, n_estimators=15; total time=   3.8s\n",
      "[CV] END ........criterion=mae, max_depth=5, n_estimators=15; total time=   4.2s\n",
      "[CV] END ........criterion=mae, max_depth=5, n_estimators=15; total time=   3.8s\n",
      "[CV] END ........criterion=mae, max_depth=5, n_estimators=15; total time=   4.0s\n",
      "[CV] END ........criterion=mae, max_depth=5, n_estimators=20; total time=   5.5s\n",
      "[CV] END ........criterion=mae, max_depth=5, n_estimators=20; total time=   5.3s\n",
      "[CV] END ........criterion=mae, max_depth=5, n_estimators=20; total time=   5.0s\n",
      "[CV] END ........criterion=mae, max_depth=5, n_estimators=20; total time=   5.1s\n",
      "[CV] END ........criterion=mae, max_depth=5, n_estimators=20; total time=   5.4s\n",
      "[CV] END ........criterion=mae, max_depth=5, n_estimators=25; total time=   6.6s\n",
      "[CV] END ........criterion=mae, max_depth=5, n_estimators=25; total time=   6.7s\n",
      "[CV] END ........criterion=mae, max_depth=5, n_estimators=25; total time=   6.5s\n",
      "[CV] END ........criterion=mae, max_depth=5, n_estimators=25; total time=   6.3s\n",
      "[CV] END ........criterion=mae, max_depth=5, n_estimators=25; total time=   6.8s\n",
      "[CV] END ........criterion=mae, max_depth=5, n_estimators=30; total time=   7.8s\n",
      "[CV] END ........criterion=mae, max_depth=5, n_estimators=30; total time=   8.0s\n",
      "[CV] END ........criterion=mae, max_depth=5, n_estimators=30; total time=   7.7s\n",
      "[CV] END ........criterion=mae, max_depth=5, n_estimators=30; total time=   7.9s\n",
      "[CV] END ........criterion=mae, max_depth=5, n_estimators=30; total time=   7.6s\n",
      "[CV] END .........criterion=mae, max_depth=6, n_estimators=5; total time=   1.5s\n",
      "[CV] END .........criterion=mae, max_depth=6, n_estimators=5; total time=   1.7s\n",
      "[CV] END .........criterion=mae, max_depth=6, n_estimators=5; total time=   1.3s\n",
      "[CV] END .........criterion=mae, max_depth=6, n_estimators=5; total time=   1.3s\n",
      "[CV] END .........criterion=mae, max_depth=6, n_estimators=5; total time=   1.3s\n",
      "[CV] END ........criterion=mae, max_depth=6, n_estimators=10; total time=   2.7s\n",
      "[CV] END ........criterion=mae, max_depth=6, n_estimators=10; total time=   2.9s\n",
      "[CV] END ........criterion=mae, max_depth=6, n_estimators=10; total time=   2.6s\n",
      "[CV] END ........criterion=mae, max_depth=6, n_estimators=10; total time=   2.8s\n",
      "[CV] END ........criterion=mae, max_depth=6, n_estimators=10; total time=   2.7s\n",
      "[CV] END ........criterion=mae, max_depth=6, n_estimators=15; total time=   4.2s\n",
      "[CV] END ........criterion=mae, max_depth=6, n_estimators=15; total time=   4.0s\n",
      "[CV] END ........criterion=mae, max_depth=6, n_estimators=15; total time=   3.9s\n",
      "[CV] END ........criterion=mae, max_depth=6, n_estimators=15; total time=   4.5s\n",
      "[CV] END ........criterion=mae, max_depth=6, n_estimators=15; total time=   4.0s\n",
      "[CV] END ........criterion=mae, max_depth=6, n_estimators=20; total time=   5.5s\n",
      "[CV] END ........criterion=mae, max_depth=6, n_estimators=20; total time=   5.4s\n",
      "[CV] END ........criterion=mae, max_depth=6, n_estimators=20; total time=   5.5s\n",
      "[CV] END ........criterion=mae, max_depth=6, n_estimators=20; total time=   5.3s\n",
      "[CV] END ........criterion=mae, max_depth=6, n_estimators=20; total time=   5.9s\n",
      "[CV] END ........criterion=mae, max_depth=6, n_estimators=25; total time=   6.6s\n",
      "[CV] END ........criterion=mae, max_depth=6, n_estimators=25; total time=   6.9s\n",
      "[CV] END ........criterion=mae, max_depth=6, n_estimators=25; total time=   6.9s\n",
      "[CV] END ........criterion=mae, max_depth=6, n_estimators=25; total time=   6.6s\n",
      "[CV] END ........criterion=mae, max_depth=6, n_estimators=25; total time=   7.2s\n",
      "[CV] END ........criterion=mae, max_depth=6, n_estimators=30; total time=   8.3s\n",
      "[CV] END ........criterion=mae, max_depth=6, n_estimators=30; total time=   8.0s\n",
      "[CV] END ........criterion=mae, max_depth=6, n_estimators=30; total time=   8.3s\n",
      "[CV] END ........criterion=mae, max_depth=6, n_estimators=30; total time=   8.5s\n",
      "[CV] END ........criterion=mae, max_depth=6, n_estimators=30; total time=   8.1s\n",
      "[CV] END .........criterion=mae, max_depth=7, n_estimators=5; total time=   1.4s\n",
      "[CV] END .........criterion=mae, max_depth=7, n_estimators=5; total time=   1.4s\n",
      "[CV] END .........criterion=mae, max_depth=7, n_estimators=5; total time=   1.4s\n",
      "[CV] END .........criterion=mae, max_depth=7, n_estimators=5; total time=   1.4s\n",
      "[CV] END .........criterion=mae, max_depth=7, n_estimators=5; total time=   1.5s\n",
      "[CV] END ........criterion=mae, max_depth=7, n_estimators=10; total time=   3.0s\n",
      "[CV] END ........criterion=mae, max_depth=7, n_estimators=10; total time=   2.8s\n",
      "[CV] END ........criterion=mae, max_depth=7, n_estimators=10; total time=   2.8s\n",
      "[CV] END ........criterion=mae, max_depth=7, n_estimators=10; total time=   2.8s\n",
      "[CV] END ........criterion=mae, max_depth=7, n_estimators=10; total time=   3.0s\n",
      "[CV] END ........criterion=mae, max_depth=7, n_estimators=15; total time=   4.6s\n",
      "[CV] END ........criterion=mae, max_depth=7, n_estimators=15; total time=   4.2s\n",
      "[CV] END ........criterion=mae, max_depth=7, n_estimators=15; total time=   4.3s\n",
      "[CV] END ........criterion=mae, max_depth=7, n_estimators=15; total time=   4.1s\n",
      "[CV] END ........criterion=mae, max_depth=7, n_estimators=15; total time=   4.5s\n",
      "[CV] END ........criterion=mae, max_depth=7, n_estimators=20; total time=   5.6s\n",
      "[CV] END ........criterion=mae, max_depth=7, n_estimators=20; total time=   6.1s\n",
      "[CV] END ........criterion=mae, max_depth=7, n_estimators=20; total time=   5.5s\n",
      "[CV] END ........criterion=mae, max_depth=7, n_estimators=20; total time=   5.7s\n",
      "[CV] END ........criterion=mae, max_depth=7, n_estimators=20; total time=   5.5s\n",
      "[CV] END ........criterion=mae, max_depth=7, n_estimators=25; total time=   7.3s\n",
      "[CV] END ........criterion=mae, max_depth=7, n_estimators=25; total time=   6.8s\n",
      "[CV] END ........criterion=mae, max_depth=7, n_estimators=25; total time=   7.5s\n",
      "[CV] END ........criterion=mae, max_depth=7, n_estimators=25; total time=   7.0s\n",
      "[CV] END ........criterion=mae, max_depth=7, n_estimators=25; total time=   6.8s\n",
      "[CV] END ........criterion=mae, max_depth=7, n_estimators=30; total time=   8.6s\n",
      "[CV] END ........criterion=mae, max_depth=7, n_estimators=30; total time=   8.7s\n",
      "[CV] END ........criterion=mae, max_depth=7, n_estimators=30; total time=   8.4s\n",
      "[CV] END ........criterion=mae, max_depth=7, n_estimators=30; total time=   8.3s\n",
      "[CV] END ........criterion=mae, max_depth=7, n_estimators=30; total time=   8.6s\n",
      "[CV] END ........criterion=mae, max_depth=12, n_estimators=5; total time=   2.0s\n",
      "[CV] END ........criterion=mae, max_depth=12, n_estimators=5; total time=   1.8s\n",
      "[CV] END ........criterion=mae, max_depth=12, n_estimators=5; total time=   1.6s\n",
      "[CV] END ........criterion=mae, max_depth=12, n_estimators=5; total time=   1.6s\n",
      "[CV] END ........criterion=mae, max_depth=12, n_estimators=5; total time=   1.6s\n",
      "[CV] END .......criterion=mae, max_depth=12, n_estimators=10; total time=   3.1s\n",
      "[CV] END .......criterion=mae, max_depth=12, n_estimators=10; total time=   3.3s\n",
      "[CV] END .......criterion=mae, max_depth=12, n_estimators=10; total time=   3.1s\n",
      "[CV] END .......criterion=mae, max_depth=12, n_estimators=10; total time=   3.1s\n",
      "[CV] END .......criterion=mae, max_depth=12, n_estimators=10; total time=   3.1s\n",
      "[CV] END .......criterion=mae, max_depth=12, n_estimators=15; total time=   5.1s\n",
      "[CV] END .......criterion=mae, max_depth=12, n_estimators=15; total time=   5.1s\n",
      "[CV] END .......criterion=mae, max_depth=12, n_estimators=15; total time=   4.8s\n",
      "[CV] END .......criterion=mae, max_depth=12, n_estimators=15; total time=   4.6s\n",
      "[CV] END .......criterion=mae, max_depth=12, n_estimators=15; total time=   4.9s\n",
      "[CV] END .......criterion=mae, max_depth=12, n_estimators=20; total time=   6.3s\n",
      "[CV] END .......criterion=mae, max_depth=12, n_estimators=20; total time=   6.5s\n",
      "[CV] END .......criterion=mae, max_depth=12, n_estimators=20; total time=   6.6s\n",
      "[CV] END .......criterion=mae, max_depth=12, n_estimators=20; total time=   6.5s\n",
      "[CV] END .......criterion=mae, max_depth=12, n_estimators=20; total time=   6.4s\n",
      "[CV] END .......criterion=mae, max_depth=12, n_estimators=25; total time=   7.9s\n",
      "[CV] END .......criterion=mae, max_depth=12, n_estimators=25; total time=   8.4s\n",
      "[CV] END .......criterion=mae, max_depth=12, n_estimators=25; total time=   7.9s\n",
      "[CV] END .......criterion=mae, max_depth=12, n_estimators=25; total time=   7.9s\n",
      "[CV] END .......criterion=mae, max_depth=12, n_estimators=25; total time=   7.8s\n",
      "[CV] END .......criterion=mae, max_depth=12, n_estimators=30; total time=  10.2s\n",
      "[CV] END .......criterion=mae, max_depth=12, n_estimators=30; total time=   9.5s\n",
      "[CV] END .......criterion=mae, max_depth=12, n_estimators=30; total time=   9.5s\n",
      "[CV] END .......criterion=mae, max_depth=12, n_estimators=30; total time=   9.6s\n",
      "[CV] END .......criterion=mae, max_depth=12, n_estimators=30; total time=  10.0s\n",
      "[CV] END ........criterion=mae, max_depth=13, n_estimators=5; total time=   1.7s\n",
      "[CV] END ........criterion=mae, max_depth=13, n_estimators=5; total time=   1.6s\n",
      "[CV] END ........criterion=mae, max_depth=13, n_estimators=5; total time=   1.6s\n",
      "[CV] END ........criterion=mae, max_depth=13, n_estimators=5; total time=   1.6s\n",
      "[CV] END ........criterion=mae, max_depth=13, n_estimators=5; total time=   1.6s\n",
      "[CV] END .......criterion=mae, max_depth=13, n_estimators=10; total time=   3.4s\n",
      "[CV] END .......criterion=mae, max_depth=13, n_estimators=10; total time=   3.2s\n",
      "[CV] END .......criterion=mae, max_depth=13, n_estimators=10; total time=   3.1s\n",
      "[CV] END .......criterion=mae, max_depth=13, n_estimators=10; total time=   3.4s\n",
      "[CV] END .......criterion=mae, max_depth=13, n_estimators=10; total time=   3.6s\n",
      "[CV] END .......criterion=mae, max_depth=13, n_estimators=15; total time=   4.8s\n",
      "[CV] END .......criterion=mae, max_depth=13, n_estimators=15; total time=   4.9s\n",
      "[CV] END .......criterion=mae, max_depth=13, n_estimators=15; total time=   4.7s\n",
      "[CV] END .......criterion=mae, max_depth=13, n_estimators=15; total time=   4.9s\n",
      "[CV] END .......criterion=mae, max_depth=13, n_estimators=15; total time=   4.7s\n",
      "[CV] END .......criterion=mae, max_depth=13, n_estimators=20; total time=   6.9s\n",
      "[CV] END .......criterion=mae, max_depth=13, n_estimators=20; total time=   6.5s\n",
      "[CV] END .......criterion=mae, max_depth=13, n_estimators=20; total time=   6.4s\n",
      "[CV] END .......criterion=mae, max_depth=13, n_estimators=20; total time=   6.3s\n",
      "[CV] END .......criterion=mae, max_depth=13, n_estimators=20; total time=   6.4s\n",
      "[CV] END .......criterion=mae, max_depth=13, n_estimators=25; total time=   8.5s\n",
      "[CV] END .......criterion=mae, max_depth=13, n_estimators=25; total time=   8.2s\n",
      "[CV] END .......criterion=mae, max_depth=13, n_estimators=25; total time=   7.8s\n",
      "[CV] END .......criterion=mae, max_depth=13, n_estimators=25; total time=   8.0s\n",
      "[CV] END .......criterion=mae, max_depth=13, n_estimators=25; total time=   8.7s\n",
      "[CV] END .......criterion=mae, max_depth=13, n_estimators=30; total time=   9.9s\n",
      "[CV] END .......criterion=mae, max_depth=13, n_estimators=30; total time=   9.6s\n",
      "[CV] END .......criterion=mae, max_depth=13, n_estimators=30; total time=   9.4s\n",
      "[CV] END .......criterion=mae, max_depth=13, n_estimators=30; total time=  10.3s\n",
      "[CV] END .......criterion=mae, max_depth=13, n_estimators=30; total time=   9.7s\n",
      "[CV] END ........criterion=mae, max_depth=15, n_estimators=5; total time=   1.7s\n",
      "[CV] END ........criterion=mae, max_depth=15, n_estimators=5; total time=   1.8s\n",
      "[CV] END ........criterion=mae, max_depth=15, n_estimators=5; total time=   1.6s\n",
      "[CV] END ........criterion=mae, max_depth=15, n_estimators=5; total time=   1.6s\n",
      "[CV] END ........criterion=mae, max_depth=15, n_estimators=5; total time=   1.6s\n",
      "[CV] END .......criterion=mae, max_depth=15, n_estimators=10; total time=   3.3s\n",
      "[CV] END .......criterion=mae, max_depth=15, n_estimators=10; total time=   3.9s\n",
      "[CV] END .......criterion=mae, max_depth=15, n_estimators=10; total time=   3.2s\n",
      "[CV] END .......criterion=mae, max_depth=15, n_estimators=10; total time=   3.2s\n",
      "[CV] END .......criterion=mae, max_depth=15, n_estimators=10; total time=   3.6s\n",
      "[CV] END .......criterion=mae, max_depth=15, n_estimators=15; total time=   4.9s\n",
      "[CV] END .......criterion=mae, max_depth=15, n_estimators=15; total time=   4.8s\n",
      "[CV] END .......criterion=mae, max_depth=15, n_estimators=15; total time=   5.0s\n",
      "[CV] END .......criterion=mae, max_depth=15, n_estimators=15; total time=   5.0s\n",
      "[CV] END .......criterion=mae, max_depth=15, n_estimators=15; total time=   5.2s\n",
      "[CV] END .......criterion=mae, max_depth=15, n_estimators=20; total time=   6.5s\n",
      "[CV] END .......criterion=mae, max_depth=15, n_estimators=20; total time=   6.7s\n",
      "[CV] END .......criterion=mae, max_depth=15, n_estimators=20; total time=   6.6s\n",
      "[CV] END .......criterion=mae, max_depth=15, n_estimators=20; total time=   6.6s\n",
      "[CV] END .......criterion=mae, max_depth=15, n_estimators=20; total time=   6.9s\n",
      "[CV] END .......criterion=mae, max_depth=15, n_estimators=25; total time=   8.3s\n",
      "[CV] END .......criterion=mae, max_depth=15, n_estimators=25; total time=   8.1s\n",
      "[CV] END .......criterion=mae, max_depth=15, n_estimators=25; total time=   8.2s\n",
      "[CV] END .......criterion=mae, max_depth=15, n_estimators=25; total time=   8.6s\n",
      "[CV] END .......criterion=mae, max_depth=15, n_estimators=25; total time=   8.2s\n",
      "[CV] END .......criterion=mae, max_depth=15, n_estimators=30; total time=   9.9s\n",
      "[CV] END .......criterion=mae, max_depth=15, n_estimators=30; total time=  10.2s\n",
      "[CV] END .......criterion=mae, max_depth=15, n_estimators=30; total time=   9.9s\n",
      "[CV] END .......criterion=mae, max_depth=15, n_estimators=30; total time=   9.9s\n",
      "[CV] END .......criterion=mae, max_depth=15, n_estimators=30; total time=  10.4s\n",
      "0.866921429545682\n",
      "{'bootstrap': True, 'ccp_alpha': 0.0, 'criterion': 'mse', 'max_depth': 15, 'max_features': 'auto', 'max_leaf_nodes': None, 'max_samples': None, 'min_impurity_decrease': 0.0, 'min_impurity_split': None, 'min_samples_leaf': 1, 'min_samples_split': 2, 'min_weight_fraction_leaf': 0.0, 'n_estimators': 30, 'n_jobs': None, 'oob_score': False, 'random_state': 42, 'verbose': 0, 'warm_start': False}\n"
     ]
    }
   ],
   "source": [
    "# Random Forest with Grid Search\n",
    "rf = RandomForestRegressor(random_state=42)\n",
    "\n",
    "param_grid = {\n",
    "    \"criterion\": ['mse', 'mae'],\n",
    "    \"n_estimators\": [5, 10, 15, 20, 25, 30],\n",
    "    \"max_depth\": [5, 6, 7, 12, 13, 15]\n",
    "}\n",
    "\n",
    "rf_model = GridSearchCV(estimator=rf, cv=5, param_grid=param_grid, verbose=2)\n",
    "rf_model.fit(train_data, train_target)\n",
    "print(rf_model.best_score_)\n",
    "print(rf_model.best_estimator_.get_params())"
   ]
  },
  {
   "cell_type": "code",
   "execution_count": 105,
   "id": "covered-chinese",
   "metadata": {
    "execution": {
     "iopub.execute_input": "2021-07-08T10:17:18.577982Z",
     "iopub.status.busy": "2021-07-08T10:17:18.577328Z",
     "iopub.status.idle": "2021-07-08T10:17:19.823799Z",
     "shell.execute_reply": "2021-07-08T10:17:19.824413Z",
     "shell.execute_reply.started": "2021-07-08T09:54:26.662939Z"
    },
    "papermill": {
     "duration": 1.461224,
     "end_time": "2021-07-08T10:17:19.824584",
     "exception": false,
     "start_time": "2021-07-08T10:17:18.363360",
     "status": "completed"
    },
    "tags": []
   },
   "outputs": [
    {
     "name": "stdout",
     "output_type": "stream",
     "text": [
      "MSE on Training Set (XGBoost): 2.2255533684821684\n",
      "MSE on Dev Set (XGBoost): 11.088644227542447\n"
     ]
    }
   ],
   "source": [
    "# XGBoost\n",
    "xgbmodel = xgb.XGBRegressor(n_estimators=15, \n",
    "                             eta=0.2, gamma=1, max_depth=10, \n",
    "                             reg_lambda=1)\n",
    "xgbmodel.fit(X_train, y_train)\n",
    "\n",
    "# Predict training data\n",
    "y_pred_xg_train = xgbmodel.predict(X_train)\n",
    "\n",
    "# Evaluation training data\n",
    "print(\"MSE on Training Set (XGBoost):\", mean_squared_error(y_pred_xg_train, y_train))\n",
    "\n",
    "# Predict dev data\n",
    "y_pred_xg_dev = xgbmodel.predict(X_dev)\n",
    "\n",
    "# Evaluation dev data\n",
    "print(\"MSE on Dev Set (XGBoost):\", mean_squared_error(y_pred_xg_dev, y_dev))"
   ]
  },
  {
   "cell_type": "code",
   "execution_count": null,
   "id": "broad-ridge",
   "metadata": {
    "papermill": {
     "duration": 0.187112,
     "end_time": "2021-07-08T10:17:20.202099",
     "exception": false,
     "start_time": "2021-07-08T10:17:20.014987",
     "status": "completed"
    },
    "tags": []
   },
   "outputs": [],
   "source": []
  }
 ],
 "metadata": {
  "kernelspec": {
   "display_name": "Python 3",
   "language": "python",
   "name": "python3"
  },
  "language_info": {
   "codemirror_mode": {
    "name": "ipython",
    "version": 3
   },
   "file_extension": ".py",
   "mimetype": "text/x-python",
   "name": "python",
   "nbconvert_exporter": "python",
   "pygments_lexer": "ipython3",
   "version": "3.7.10"
  },
  "papermill": {
   "default_parameters": {},
   "duration": 1033.402074,
   "end_time": "2021-07-08T10:17:22.163245",
   "environment_variables": {},
   "exception": null,
   "input_path": "__notebook__.ipynb",
   "output_path": "__notebook__.ipynb",
   "parameters": {},
   "start_time": "2021-07-08T10:00:08.761171",
   "version": "2.3.3"
  }
 },
 "nbformat": 4,
 "nbformat_minor": 5
}
